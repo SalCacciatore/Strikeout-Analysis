{
  "nbformat": 4,
  "nbformat_minor": 0,
  "metadata": {
    "colab": {
      "name": "Strikeout analysis.ipynb",
      "provenance": [],
      "collapsed_sections": [],
      "authorship_tag": "ABX9TyM2pUsSkIAPGENCdmPXO6Cf"
    },
    "kernelspec": {
      "name": "python3",
      "display_name": "Python 3"
    },
    "language_info": {
      "name": "python"
    }
  },
  "cells": [
    {
      "cell_type": "code",
      "execution_count": null,
      "metadata": {
        "id": "jCMy_wkH0cGC"
      },
      "outputs": [],
      "source": [
        "!pip install pybaseball\n"
      ]
    },
    {
      "cell_type": "code",
      "source": [
        "import pandas as pd\n",
        "\n",
        "import plotly.express as px\n",
        "import plotly.graph_objects as go\n",
        "import seaborn as sns\n",
        "\n",
        "import numpy as np\n",
        "\n",
        "import sklearn\n",
        "from sklearn.ensemble import RandomForestRegressor\n",
        "from sklearn.linear_model import LinearRegression\n",
        "import statsmodels.api as sm\n",
        "from sklearn.metrics import r2_score\n",
        "from sklearn.model_selection import train_test_split \n",
        "from sklearn import metrics"
      ],
      "metadata": {
        "id": "dcx0Jqz80dkq"
      },
      "execution_count": 7,
      "outputs": []
    },
    {
      "cell_type": "code",
      "source": [
        "from google.colab import drive\n",
        " \n",
        "drive.mount('/content/drive')"
      ],
      "metadata": {
        "id": "rrRh3ETP0f4m"
      },
      "execution_count": null,
      "outputs": []
    },
    {
      "cell_type": "code",
      "source": [
        "import warnings\n",
        "warnings.simplefilter(action='ignore', category=FutureWarning)"
      ],
      "metadata": {
        "id": "bXltC9eJzkip"
      },
      "execution_count": 9,
      "outputs": []
    },
    {
      "cell_type": "markdown",
      "source": [
        "# 1. Change in Strikeout Rate Over Time\n"
      ],
      "metadata": {
        "id": "AUXanL3G0raP"
      }
    },
    {
      "cell_type": "code",
      "source": [
        "#Load in data from Retrosheet\n",
        "\n",
        "#This data can be acquired here: https://www.retrosheet.org/gamelogs/index.html\n",
        "\n",
        "#getting correct header for Retrosheet data\n",
        "\n",
        "header = \"\"\"date,number_of_game,day_of_week,v_name,v_league,v_game_number,h_name,h_league,h_game_number,v_score,h_score,length_outs,day_night,completion,forefeit,protest,park_id,attendance,length_minutes,v_line_score,h_line_score,v_at_bats,v_hits,v_doubles,v_triples,v_homeruns,v_rbi,v_sacrifice_hits,v_sacrifice_flies,v_hit_by_pitch,v_walks,v_intentional walks,v_strikeouts,v_stolen_bases,v_caught_stealing,v_grounded_into_double,v_first_catcher_interference,v_left_on_base,v_pitchers_used,v_individual_earned_runs,v_team_earned_runs,v_wild_pitches,v_balks,v_putouts,v_assists,v_errors,v_passed_balls,v_double_plays,v_triple_plays,h_at_bats,h_hits,h_doubles,h_triples,h_homeruns,h_rbi,h_sacrifice_hits,h_sacrifice_flies,h_hit_by_pitch,h_walks,h_intentional walks,h_strikeouts,h_stolen_bases,h_caught_stealing,h_grounded_into_double,h_first_catcher_interference,h_left_on_base,h_pitchers_used,h_individual_earned_runs,h_team_earned_runs,h_wild_pitches,h_balks,h_putouts,h_assists,h_errors,h_passed_balls,h_double_plays,h_triple_plays,hp_umpire_id,hp_umpire_name,1b_umpire_id,1b_umpire_name,2b_umpire_id,2b_umpire_name,3b_umpire_id,3b_umpire_name,lf_umpire_id,lf_umpire_name,rf_umpire_id,rf_umpire_name,v_manager_id,v_manager_name,h_manager_id,h_manager_name,winning_pitcher_id,winning_pitcher_name,losing_pitcher_id,losing_pitcher_name,saving_pitcher_id,saving_pitcher_name,winning_rbi_batter_id,winning_rbi_batter_id_name,v_starting_pitcher_id,v_starting_pitcher_name,h_starting_pitcher_id,h_starting_pitcher_name,v_player_1_id,v_player_1_name,v_player_1_def_pos,v_player_2_id,v_player_2_name,v_player_2_def_pos,v_player_3_id,v_player_3_name,v_player_3_def_pos,v_player_4_id,v_player_4_name,v_player_4_def_pos,v_player_5_id,v_player_5_name,v_player_5_def_pos,v_player_6_id,v_player_6_name,v_player_6_def_pos,v_player_7_id,v_player_7_name,v_player_7_def_pos,v_player_8_id,v_player_8_name,v_player_8_def_pos,v_player_9_id,v_player_9_name,v_player_9_def_pos,h_player_1_id,h_player_1_name,h_player_1_def_pos,h_player_2_id,h_player_2_name,h_player_2_def_pos,h_player_3_id,h_player_3_name,h_player_3_def_pos,h_player_4_id,h_player_4_name,h_player_4_def_pos,h_player_5_id,h_player_5_name,h_player_5_def_pos,h_player_6_id,h_player_6_name,h_player_6_def_pos,h_player_7_id,h_player_7_name,h_player_7_def_pos,h_player_8_id,h_player_8_name,h_player_8_def_pos,h_player_9_id,h_player_9_name,h_player_9_def_pos,additional_info,acquisition_info\"\"\"\n",
        "head_list=header.split(',')\n",
        "\n",
        "def_list=[]\n",
        "\n",
        "\n",
        "#Getting data from 1914 to 2021 (Retrosheet's website says it has data for \"well over half of the games in all seasons back to 1914\")\n",
        "\n",
        "for year in range(1914,2022):\n",
        "  #I used Google drive to load in the data.\n",
        "  df=pd.read_csv('/content/drive/My Drive/gl1871_2021/GL'+str(year)+'.TXT')\n",
        "  df.set_axis(head_list, axis=1,inplace=True)\n",
        "  df['date']=df['date'].astype(str)\n",
        "\n",
        "  df['season']=df['date'].str[0:4]\n",
        "  df=df[['season','date', 'number_of_game','v_name', 'v_league',\n",
        "       'v_game_number', 'h_name', 'h_league', 'h_game_number', 'v_score',\n",
        "      'h_score', 'length_outs','v_at_bats', 'v_hits', 'v_doubles', 'v_triples',\n",
        "       'v_homeruns', 'v_rbi', 'v_sacrifice_hits', 'v_sacrifice_flies',\n",
        "       'v_hit_by_pitch', 'v_walks', 'v_intentional walks', 'v_strikeouts',\n",
        "       'v_stolen_bases', 'v_caught_stealing', 'v_grounded_into_double',\n",
        "       'v_first_catcher_interference', 'v_left_on_base', 'v_pitchers_used',\n",
        "       'v_individual_earned_runs', 'v_team_earned_runs', 'v_wild_pitches',\n",
        "       'v_balks', 'v_putouts', 'v_assists', 'v_errors', 'v_passed_balls',\n",
        "       'v_double_plays', 'v_triple_plays', 'h_at_bats', 'h_hits', 'h_doubles',\n",
        "       'h_triples', 'h_homeruns', 'h_rbi', 'h_sacrifice_hits',\n",
        "       'h_sacrifice_flies', 'h_hit_by_pitch', 'h_walks', 'h_intentional walks',\n",
        "       'h_strikeouts', 'h_stolen_bases', 'h_caught_stealing',\n",
        "       'h_grounded_into_double', 'h_first_catcher_interference','h_putouts']]\n",
        "\n",
        "\n",
        "  #calculating total plate appearances for home and away teams\n",
        "  df['v_PA']=df['v_at_bats'] + df['v_walks'] + df['v_hit_by_pitch'] + df['v_sacrifice_flies'] + df['v_sacrifice_hits'] + df['v_first_catcher_interference']\n",
        "\n",
        "  df['h_PA']=df['h_at_bats'] + df['h_walks'] + df['h_hit_by_pitch'] + df['h_sacrifice_flies'] + df['h_sacrifice_hits'] + df['h_first_catcher_interference']\n",
        "\n",
        "\n",
        "  #aggregating by home and away team and merging dataframes\n",
        "  away_df = df[['v_name','h_strikeouts','h_PA','h_score','v_putouts','h_at_bats', 'h_hits', 'h_doubles',\n",
        "       'h_triples', 'h_homeruns', 'h_rbi', 'h_sacrifice_hits',\n",
        "       'h_sacrifice_flies', 'h_hit_by_pitch', 'h_walks']]\n",
        "  away_df = away_df.groupby(['v_name']).agg('sum')\n",
        "  away_df['season'] = year\n",
        "  \n",
        "\n",
        "\n",
        "  home_df = df[['h_name','v_strikeouts', 'v_PA', 'v_score', 'h_putouts','v_at_bats', 'v_hits', 'v_doubles', 'v_triples',\n",
        "       'v_homeruns', 'v_rbi', 'v_sacrifice_hits', 'v_sacrifice_flies',\n",
        "       'v_hit_by_pitch', 'v_walks']]\n",
        "  home_df = home_df.groupby(['h_name']).agg('sum')\n",
        "  merged_df=away_df.merge(home_df,right_index=True,left_index=True)\n",
        "\n",
        "  #get team totals (adding home and away stats), strikeout rates and innings totals\n",
        "  merged_df['Ks'] = merged_df['h_strikeouts']+merged_df['v_strikeouts']\n",
        "  merged_df['TBF'] = merged_df['v_PA']+merged_df['h_PA']\n",
        "  merged_df['RA'] = merged_df['v_score']+merged_df['h_score']\n",
        "  merged_df['Outs'] = merged_df['v_putouts']+merged_df['h_putouts']\n",
        "  merged_df['IP'] = merged_df['Outs']/3\n",
        "  \n",
        "  #calculate necessary stats\n",
        "  merged_df['RA/9'] = round(merged_df['RA']/merged_df['IP']*9,2)\n",
        "  merged_df['SO%'] = merged_df['Ks']/merged_df['TBF']\n",
        "  merged_df['HR'] = merged_df['h_homeruns']+merged_df['v_homeruns']\n",
        "  merged_df['H'] = merged_df['h_hits']+merged_df['v_hits']\n",
        "  merged_df['BB'] = merged_df['h_walks']+merged_df['v_walks']\n",
        "  merged_df['2B'] = merged_df['h_doubles']+merged_df['v_doubles']\n",
        "  merged_df['3B'] = merged_df['h_triples']+merged_df['v_triples']\n",
        "  merged_df['HBP'] = merged_df['h_hit_by_pitch']+merged_df['v_hit_by_pitch']\n",
        "  merged_df['AB'] = merged_df['h_at_bats']+merged_df['v_at_bats']\n",
        "  merged_df['SF'] = merged_df['h_sacrifice_flies']+merged_df['v_sacrifice_flies']\n",
        "  merged_df['BB%'] = merged_df['BB']/merged_df['TBF']\n",
        "  merged_df['BABIP'] = round((merged_df['H'] - merged_df['HR'])/(merged_df['AB'] - merged_df['Ks'] - merged_df['HR'] + merged_df['SF']),3)\n",
        "  merged_df['BACON'] = round((merged_df['H'])/(merged_df['AB'] - merged_df['Ks'] + merged_df['SF']),3)\n",
        "  merged_df['Extra-base Hits'] = merged_df['HR'] + merged_df['2B'] + merged_df['3B']\n",
        "  merged_df[\"1B\"] = merged_df['H'] - merged_df['Extra-base Hits']\n",
        "  merged_df['Total Bases'] = merged_df['1B'] + merged_df['2B']*2 + merged_df['3B']*3 + merged_df['HR']*4\n",
        "  merged_df['SLG'] = round(merged_df['Total Bases']/merged_df['AB'],3)\n",
        "  merged_df['PF'] = round(merged_df['Total Bases']/merged_df['H'],2)\n",
        "  merged_df['HR%'] = round(merged_df['HR']/merged_df['TBF'],3)\n",
        "  merged_df['AVG'] = round(merged_df['H']/merged_df['AB'],3)\n",
        "  merged_df['ISO'] = round(merged_df['SLG'] - merged_df['AVG'],3)\n",
        "  \n",
        "  \n",
        "  \n",
        "  merged_df['next_year'] = merged_df['season'] + 1\n",
        "\n",
        "\n",
        "\n",
        "\n",
        "\n",
        "\n",
        "\n",
        "\n",
        "\n",
        "\n",
        "  \n",
        "  def_list.append(merged_df)\n",
        "  def_df=pd.concat(def_list)\n"
      ],
      "metadata": {
        "id": "BGLEAYpf0sBV"
      },
      "execution_count": null,
      "outputs": []
    },
    {
      "cell_type": "code",
      "source": [
        "#aggregate data on the season level and plot data\n",
        "szn_df = def_df.groupby('season').agg({'Ks':'sum','TBF':'sum','IP':'sum','RA':'sum'})\n",
        "\n",
        "szn_df['SO%'] = round(szn_df['Ks']/szn_df['TBF'],3)\n",
        "szn_df['RA/9'] = round(szn_df['RA']/szn_df['IP']*9,2)\n",
        "\n",
        "\n",
        "fig = px.line(szn_df, x=szn_df.index, y='SO%', title='American League/National League Strikeout Rate (1914 - 2021)',hover_data=['SO%'])\n",
        "fig.show()"
      ],
      "metadata": {
        "colab": {
          "base_uri": "https://localhost:8080/",
          "height": 542
        },
        "id": "YCFuT-I31t8r",
        "outputId": "41ebbfc2-f4f8-4231-a620-4518169d7690"
      },
      "execution_count": 11,
      "outputs": [
        {
          "output_type": "display_data",
          "data": {
            "text/html": [
              "<html>\n",
              "<head><meta charset=\"utf-8\" /></head>\n",
              "<body>\n",
              "    <div>            <script src=\"https://cdnjs.cloudflare.com/ajax/libs/mathjax/2.7.5/MathJax.js?config=TeX-AMS-MML_SVG\"></script><script type=\"text/javascript\">if (window.MathJax) {MathJax.Hub.Config({SVG: {font: \"STIX-Web\"}});}</script>                <script type=\"text/javascript\">window.PlotlyConfig = {MathJaxConfig: 'local'};</script>\n",
              "        <script src=\"https://cdn.plot.ly/plotly-2.8.3.min.js\"></script>                <div id=\"f86067b4-9b49-4f3d-8a67-36520fe44dac\" class=\"plotly-graph-div\" style=\"height:525px; width:100%;\"></div>            <script type=\"text/javascript\">                                    window.PLOTLYENV=window.PLOTLYENV || {};                                    if (document.getElementById(\"f86067b4-9b49-4f3d-8a67-36520fe44dac\")) {                    Plotly.newPlot(                        \"f86067b4-9b49-4f3d-8a67-36520fe44dac\",                        [{\"hovertemplate\":\"season=%{x}<br>SO%=%{y}<extra></extra>\",\"legendgroup\":\"\",\"line\":{\"color\":\"#636efa\",\"dash\":\"solid\"},\"marker\":{\"symbol\":\"circle\"},\"mode\":\"lines\",\"name\":\"\",\"orientation\":\"v\",\"showlegend\":false,\"x\":[1914,1915,1916,1917,1918,1919,1920,1921,1922,1923,1924,1925,1926,1927,1928,1929,1930,1931,1932,1933,1934,1935,1936,1937,1938,1939,1940,1941,1942,1943,1944,1945,1946,1947,1948,1949,1950,1951,1952,1953,1954,1955,1956,1957,1958,1959,1960,1961,1962,1963,1964,1965,1966,1967,1968,1969,1970,1971,1972,1973,1974,1975,1976,1977,1978,1979,1980,1981,1982,1983,1984,1985,1986,1987,1988,1989,1990,1991,1992,1993,1994,1995,1996,1997,1998,1999,2000,2001,2002,2003,2004,2005,2006,2007,2008,2009,2010,2011,2012,2013,2014,2015,2016,2017,2018,2019,2020,2021],\"xaxis\":\"x\",\"y\":[0.096,0.094,0.104,0.095,0.079,0.083,0.077,0.073,0.073,0.073,0.07,0.069,0.072,0.072,0.075,0.073,0.082,0.082,0.082,0.079,0.088,0.083,0.084,0.094,0.088,0.089,0.095,0.092,0.089,0.09,0.086,0.085,0.102,0.096,0.094,0.093,0.099,0.097,0.11,0.107,0.107,0.114,0.121,0.125,0.13,0.133,0.135,0.137,0.141,0.153,0.156,0.157,0.154,0.159,0.158,0.152,0.15,0.143,0.148,0.137,0.131,0.13,0.127,0.134,0.126,0.125,0.125,0.125,0.132,0.135,0.14,0.14,0.154,0.155,0.147,0.148,0.149,0.152,0.147,0.151,0.159,0.162,0.165,0.171,0.169,0.164,0.165,0.173,0.168,0.164,0.169,0.164,0.168,0.171,0.175,0.18,0.185,0.186,0.198,0.199,0.204,0.204,0.211,0.216,0.223,0.23,0.234,0.232],\"yaxis\":\"y\",\"type\":\"scatter\"}],                        {\"template\":{\"data\":{\"bar\":[{\"error_x\":{\"color\":\"#2a3f5f\"},\"error_y\":{\"color\":\"#2a3f5f\"},\"marker\":{\"line\":{\"color\":\"#E5ECF6\",\"width\":0.5},\"pattern\":{\"fillmode\":\"overlay\",\"size\":10,\"solidity\":0.2}},\"type\":\"bar\"}],\"barpolar\":[{\"marker\":{\"line\":{\"color\":\"#E5ECF6\",\"width\":0.5},\"pattern\":{\"fillmode\":\"overlay\",\"size\":10,\"solidity\":0.2}},\"type\":\"barpolar\"}],\"carpet\":[{\"aaxis\":{\"endlinecolor\":\"#2a3f5f\",\"gridcolor\":\"white\",\"linecolor\":\"white\",\"minorgridcolor\":\"white\",\"startlinecolor\":\"#2a3f5f\"},\"baxis\":{\"endlinecolor\":\"#2a3f5f\",\"gridcolor\":\"white\",\"linecolor\":\"white\",\"minorgridcolor\":\"white\",\"startlinecolor\":\"#2a3f5f\"},\"type\":\"carpet\"}],\"choropleth\":[{\"colorbar\":{\"outlinewidth\":0,\"ticks\":\"\"},\"type\":\"choropleth\"}],\"contour\":[{\"colorbar\":{\"outlinewidth\":0,\"ticks\":\"\"},\"colorscale\":[[0.0,\"#0d0887\"],[0.1111111111111111,\"#46039f\"],[0.2222222222222222,\"#7201a8\"],[0.3333333333333333,\"#9c179e\"],[0.4444444444444444,\"#bd3786\"],[0.5555555555555556,\"#d8576b\"],[0.6666666666666666,\"#ed7953\"],[0.7777777777777778,\"#fb9f3a\"],[0.8888888888888888,\"#fdca26\"],[1.0,\"#f0f921\"]],\"type\":\"contour\"}],\"contourcarpet\":[{\"colorbar\":{\"outlinewidth\":0,\"ticks\":\"\"},\"type\":\"contourcarpet\"}],\"heatmap\":[{\"colorbar\":{\"outlinewidth\":0,\"ticks\":\"\"},\"colorscale\":[[0.0,\"#0d0887\"],[0.1111111111111111,\"#46039f\"],[0.2222222222222222,\"#7201a8\"],[0.3333333333333333,\"#9c179e\"],[0.4444444444444444,\"#bd3786\"],[0.5555555555555556,\"#d8576b\"],[0.6666666666666666,\"#ed7953\"],[0.7777777777777778,\"#fb9f3a\"],[0.8888888888888888,\"#fdca26\"],[1.0,\"#f0f921\"]],\"type\":\"heatmap\"}],\"heatmapgl\":[{\"colorbar\":{\"outlinewidth\":0,\"ticks\":\"\"},\"colorscale\":[[0.0,\"#0d0887\"],[0.1111111111111111,\"#46039f\"],[0.2222222222222222,\"#7201a8\"],[0.3333333333333333,\"#9c179e\"],[0.4444444444444444,\"#bd3786\"],[0.5555555555555556,\"#d8576b\"],[0.6666666666666666,\"#ed7953\"],[0.7777777777777778,\"#fb9f3a\"],[0.8888888888888888,\"#fdca26\"],[1.0,\"#f0f921\"]],\"type\":\"heatmapgl\"}],\"histogram\":[{\"marker\":{\"pattern\":{\"fillmode\":\"overlay\",\"size\":10,\"solidity\":0.2}},\"type\":\"histogram\"}],\"histogram2d\":[{\"colorbar\":{\"outlinewidth\":0,\"ticks\":\"\"},\"colorscale\":[[0.0,\"#0d0887\"],[0.1111111111111111,\"#46039f\"],[0.2222222222222222,\"#7201a8\"],[0.3333333333333333,\"#9c179e\"],[0.4444444444444444,\"#bd3786\"],[0.5555555555555556,\"#d8576b\"],[0.6666666666666666,\"#ed7953\"],[0.7777777777777778,\"#fb9f3a\"],[0.8888888888888888,\"#fdca26\"],[1.0,\"#f0f921\"]],\"type\":\"histogram2d\"}],\"histogram2dcontour\":[{\"colorbar\":{\"outlinewidth\":0,\"ticks\":\"\"},\"colorscale\":[[0.0,\"#0d0887\"],[0.1111111111111111,\"#46039f\"],[0.2222222222222222,\"#7201a8\"],[0.3333333333333333,\"#9c179e\"],[0.4444444444444444,\"#bd3786\"],[0.5555555555555556,\"#d8576b\"],[0.6666666666666666,\"#ed7953\"],[0.7777777777777778,\"#fb9f3a\"],[0.8888888888888888,\"#fdca26\"],[1.0,\"#f0f921\"]],\"type\":\"histogram2dcontour\"}],\"mesh3d\":[{\"colorbar\":{\"outlinewidth\":0,\"ticks\":\"\"},\"type\":\"mesh3d\"}],\"parcoords\":[{\"line\":{\"colorbar\":{\"outlinewidth\":0,\"ticks\":\"\"}},\"type\":\"parcoords\"}],\"pie\":[{\"automargin\":true,\"type\":\"pie\"}],\"scatter\":[{\"marker\":{\"colorbar\":{\"outlinewidth\":0,\"ticks\":\"\"}},\"type\":\"scatter\"}],\"scatter3d\":[{\"line\":{\"colorbar\":{\"outlinewidth\":0,\"ticks\":\"\"}},\"marker\":{\"colorbar\":{\"outlinewidth\":0,\"ticks\":\"\"}},\"type\":\"scatter3d\"}],\"scattercarpet\":[{\"marker\":{\"colorbar\":{\"outlinewidth\":0,\"ticks\":\"\"}},\"type\":\"scattercarpet\"}],\"scattergeo\":[{\"marker\":{\"colorbar\":{\"outlinewidth\":0,\"ticks\":\"\"}},\"type\":\"scattergeo\"}],\"scattergl\":[{\"marker\":{\"colorbar\":{\"outlinewidth\":0,\"ticks\":\"\"}},\"type\":\"scattergl\"}],\"scattermapbox\":[{\"marker\":{\"colorbar\":{\"outlinewidth\":0,\"ticks\":\"\"}},\"type\":\"scattermapbox\"}],\"scatterpolar\":[{\"marker\":{\"colorbar\":{\"outlinewidth\":0,\"ticks\":\"\"}},\"type\":\"scatterpolar\"}],\"scatterpolargl\":[{\"marker\":{\"colorbar\":{\"outlinewidth\":0,\"ticks\":\"\"}},\"type\":\"scatterpolargl\"}],\"scatterternary\":[{\"marker\":{\"colorbar\":{\"outlinewidth\":0,\"ticks\":\"\"}},\"type\":\"scatterternary\"}],\"surface\":[{\"colorbar\":{\"outlinewidth\":0,\"ticks\":\"\"},\"colorscale\":[[0.0,\"#0d0887\"],[0.1111111111111111,\"#46039f\"],[0.2222222222222222,\"#7201a8\"],[0.3333333333333333,\"#9c179e\"],[0.4444444444444444,\"#bd3786\"],[0.5555555555555556,\"#d8576b\"],[0.6666666666666666,\"#ed7953\"],[0.7777777777777778,\"#fb9f3a\"],[0.8888888888888888,\"#fdca26\"],[1.0,\"#f0f921\"]],\"type\":\"surface\"}],\"table\":[{\"cells\":{\"fill\":{\"color\":\"#EBF0F8\"},\"line\":{\"color\":\"white\"}},\"header\":{\"fill\":{\"color\":\"#C8D4E3\"},\"line\":{\"color\":\"white\"}},\"type\":\"table\"}]},\"layout\":{\"annotationdefaults\":{\"arrowcolor\":\"#2a3f5f\",\"arrowhead\":0,\"arrowwidth\":1},\"autotypenumbers\":\"strict\",\"coloraxis\":{\"colorbar\":{\"outlinewidth\":0,\"ticks\":\"\"}},\"colorscale\":{\"diverging\":[[0,\"#8e0152\"],[0.1,\"#c51b7d\"],[0.2,\"#de77ae\"],[0.3,\"#f1b6da\"],[0.4,\"#fde0ef\"],[0.5,\"#f7f7f7\"],[0.6,\"#e6f5d0\"],[0.7,\"#b8e186\"],[0.8,\"#7fbc41\"],[0.9,\"#4d9221\"],[1,\"#276419\"]],\"sequential\":[[0.0,\"#0d0887\"],[0.1111111111111111,\"#46039f\"],[0.2222222222222222,\"#7201a8\"],[0.3333333333333333,\"#9c179e\"],[0.4444444444444444,\"#bd3786\"],[0.5555555555555556,\"#d8576b\"],[0.6666666666666666,\"#ed7953\"],[0.7777777777777778,\"#fb9f3a\"],[0.8888888888888888,\"#fdca26\"],[1.0,\"#f0f921\"]],\"sequentialminus\":[[0.0,\"#0d0887\"],[0.1111111111111111,\"#46039f\"],[0.2222222222222222,\"#7201a8\"],[0.3333333333333333,\"#9c179e\"],[0.4444444444444444,\"#bd3786\"],[0.5555555555555556,\"#d8576b\"],[0.6666666666666666,\"#ed7953\"],[0.7777777777777778,\"#fb9f3a\"],[0.8888888888888888,\"#fdca26\"],[1.0,\"#f0f921\"]]},\"colorway\":[\"#636efa\",\"#EF553B\",\"#00cc96\",\"#ab63fa\",\"#FFA15A\",\"#19d3f3\",\"#FF6692\",\"#B6E880\",\"#FF97FF\",\"#FECB52\"],\"font\":{\"color\":\"#2a3f5f\"},\"geo\":{\"bgcolor\":\"white\",\"lakecolor\":\"white\",\"landcolor\":\"#E5ECF6\",\"showlakes\":true,\"showland\":true,\"subunitcolor\":\"white\"},\"hoverlabel\":{\"align\":\"left\"},\"hovermode\":\"closest\",\"mapbox\":{\"style\":\"light\"},\"paper_bgcolor\":\"white\",\"plot_bgcolor\":\"#E5ECF6\",\"polar\":{\"angularaxis\":{\"gridcolor\":\"white\",\"linecolor\":\"white\",\"ticks\":\"\"},\"bgcolor\":\"#E5ECF6\",\"radialaxis\":{\"gridcolor\":\"white\",\"linecolor\":\"white\",\"ticks\":\"\"}},\"scene\":{\"xaxis\":{\"backgroundcolor\":\"#E5ECF6\",\"gridcolor\":\"white\",\"gridwidth\":2,\"linecolor\":\"white\",\"showbackground\":true,\"ticks\":\"\",\"zerolinecolor\":\"white\"},\"yaxis\":{\"backgroundcolor\":\"#E5ECF6\",\"gridcolor\":\"white\",\"gridwidth\":2,\"linecolor\":\"white\",\"showbackground\":true,\"ticks\":\"\",\"zerolinecolor\":\"white\"},\"zaxis\":{\"backgroundcolor\":\"#E5ECF6\",\"gridcolor\":\"white\",\"gridwidth\":2,\"linecolor\":\"white\",\"showbackground\":true,\"ticks\":\"\",\"zerolinecolor\":\"white\"}},\"shapedefaults\":{\"line\":{\"color\":\"#2a3f5f\"}},\"ternary\":{\"aaxis\":{\"gridcolor\":\"white\",\"linecolor\":\"white\",\"ticks\":\"\"},\"baxis\":{\"gridcolor\":\"white\",\"linecolor\":\"white\",\"ticks\":\"\"},\"bgcolor\":\"#E5ECF6\",\"caxis\":{\"gridcolor\":\"white\",\"linecolor\":\"white\",\"ticks\":\"\"}},\"title\":{\"x\":0.05},\"xaxis\":{\"automargin\":true,\"gridcolor\":\"white\",\"linecolor\":\"white\",\"ticks\":\"\",\"title\":{\"standoff\":15},\"zerolinecolor\":\"white\",\"zerolinewidth\":2},\"yaxis\":{\"automargin\":true,\"gridcolor\":\"white\",\"linecolor\":\"white\",\"ticks\":\"\",\"title\":{\"standoff\":15},\"zerolinecolor\":\"white\",\"zerolinewidth\":2}}},\"xaxis\":{\"anchor\":\"y\",\"domain\":[0.0,1.0],\"title\":{\"text\":\"season\"}},\"yaxis\":{\"anchor\":\"x\",\"domain\":[0.0,1.0],\"title\":{\"text\":\"SO%\"}},\"legend\":{\"tracegroupgap\":0},\"title\":{\"text\":\"American League/National League Strikeout Rate (1914 - 2021)\"}},                        {\"responsive\": true}                    ).then(function(){\n",
              "                            \n",
              "var gd = document.getElementById('f86067b4-9b49-4f3d-8a67-36520fe44dac');\n",
              "var x = new MutationObserver(function (mutations, observer) {{\n",
              "        var display = window.getComputedStyle(gd).display;\n",
              "        if (!display || display === 'none') {{\n",
              "            console.log([gd, 'removed!']);\n",
              "            Plotly.purge(gd);\n",
              "            observer.disconnect();\n",
              "        }}\n",
              "}});\n",
              "\n",
              "// Listen for the removal of the full notebook cells\n",
              "var notebookContainer = gd.closest('#notebook-container');\n",
              "if (notebookContainer) {{\n",
              "    x.observe(notebookContainer, {childList: true});\n",
              "}}\n",
              "\n",
              "// Listen for the clearing of the current output cell\n",
              "var outputEl = gd.closest('.output');\n",
              "if (outputEl) {{\n",
              "    x.observe(outputEl, {childList: true});\n",
              "}}\n",
              "\n",
              "                        })                };                            </script>        </div>\n",
              "</body>\n",
              "</html>"
            ]
          },
          "metadata": {}
        }
      ]
    },
    {
      "cell_type": "markdown",
      "source": [
        "The MLB strikeout rate has dramatically inceased over time, rising from under 10% in 1914 to 23.2% in 2021. Since the 1930s, this rise has been generally consistent, save for a decline period during the 1970s (presumably in response to a series of rules changes intended to increase run scoring)."
      ],
      "metadata": {
        "id": "rM0MyLyChFff"
      }
    },
    {
      "cell_type": "code",
      "source": [
        "yr = szn_df.drop([1914])[['SO%']].reset_index()\n",
        "\n",
        "prev = szn_df.drop([2021])[['SO%']].reset_index()\n",
        "prev.rename(columns={'SO%':'last_year_SO%'},inplace=True)\n",
        "\n",
        "year_to_year = pd.concat([yr,prev],axis=1)\n",
        "\n",
        "year_to_year['Decline'] = year_to_year['SO%'] < year_to_year['last_year_SO%']\n",
        "\n",
        "year_to_year['Decline'].value_counts()"
      ],
      "metadata": {
        "colab": {
          "base_uri": "https://localhost:8080/"
        },
        "id": "H-JvWHI7OJhi",
        "outputId": "0c6dc9ae-141c-4f7a-cd07-fc731f51e10e"
      },
      "execution_count": 12,
      "outputs": [
        {
          "output_type": "execute_result",
          "data": {
            "text/plain": [
              "False    68\n",
              "True     39\n",
              "Name: Decline, dtype: int64"
            ]
          },
          "metadata": {},
          "execution_count": 12
        }
      ]
    },
    {
      "cell_type": "code",
      "source": [
        "consecutive_list=[]\n",
        "\n",
        "for x in range(0,107):\n",
        "  start = x\n",
        "  end = x + 2\n",
        "  consecutive_list.append((year_to_year['Decline'].iloc[start:end]*1).sum())\n",
        "\n",
        "\n",
        "consec_df = pd.DataFrame(consecutive_list)\n",
        "\n",
        "all_seasons = pd.DataFrame(consec_df.value_counts())\n",
        "\n"
      ],
      "metadata": {
        "id": "mDmbSuyWdfCU"
      },
      "execution_count": 13,
      "outputs": []
    },
    {
      "cell_type": "code",
      "source": [
        "year_to_year.columns.values[2] = \"last season\"\n"
      ],
      "metadata": {
        "id": "EWHx4nO3S2a4"
      },
      "execution_count": 14,
      "outputs": []
    },
    {
      "cell_type": "code",
      "source": [
        "\n",
        "since_80s = year_to_year[year_to_year['season'] > 1979]\n",
        "\n",
        "since_80s['Decline'].value_counts()"
      ],
      "metadata": {
        "colab": {
          "base_uri": "https://localhost:8080/"
        },
        "id": "D0_CvEq8R-Ml",
        "outputId": "45f1989d-78d4-4476-e087-f53c9306eb32"
      },
      "execution_count": 15,
      "outputs": [
        {
          "output_type": "execute_result",
          "data": {
            "text/plain": [
              "False    34\n",
              "True      8\n",
              "Name: Decline, dtype: int64"
            ]
          },
          "metadata": {},
          "execution_count": 15
        }
      ]
    },
    {
      "cell_type": "code",
      "source": [
        "consecutive_list=[]\n",
        "\n",
        "for x in range(0,107):\n",
        "  start = x\n",
        "  end = x + 2\n",
        "  consecutive_list.append((since_80s['Decline'].iloc[start:end]*1).sum())\n",
        "\n",
        "after_79 = pd.DataFrame(pd.DataFrame(consecutive_list).value_counts())\n",
        "\n",
        "since_80s_value = after_79[0].loc[2].values[0]"
      ],
      "metadata": {
        "id": "pFS_rk23ZWgA"
      },
      "execution_count": 16,
      "outputs": []
    },
    {
      "cell_type": "code",
      "source": [
        "print(\"Since 1914, the strikeout rate has declined in consecutive seasons {} times.\".format(all_seasons.loc[2].values[0][0]))\n",
        "print(\"Since 1980, the strikeout rate has declined in consecutive season {} times.\".format(since_80s_value))\n"
      ],
      "metadata": {
        "colab": {
          "base_uri": "https://localhost:8080/"
        },
        "id": "-Ydwq_iTVrc-",
        "outputId": "5fc8251e-9db5-41ff-e4c7-7bd74c7b6b24"
      },
      "execution_count": 17,
      "outputs": [
        {
          "output_type": "stream",
          "name": "stdout",
          "text": [
            "Since 1914, the strikeout rate has declined in consecutive seasons 16 times.\n",
            "Since 1980, the strikeout rate has declined in consecutive season 2 times.\n"
          ]
        }
      ]
    },
    {
      "cell_type": "code",
      "source": [
        "#calculate percentage changes for runs allowed per 9 innings and strikeout rate\n",
        "\n",
        "year1_runs=szn_df.iloc[0]['RA/9']\n",
        "year1_SO=szn_df.iloc[0]['SO%']\n",
        "\n",
        "szn_df['% Change in Runs per 9 innings']=round((szn_df['RA/9']/year1_runs)*100-100,1)\n",
        "szn_df['% Change in Strikeout Rate']=round((szn_df['SO%']/year1_SO)*100-100,1)\n",
        "\n",
        "fig = px.line(szn_df, x=szn_df.index, y=['% Change in Strikeout Rate','% Change in Runs per 9 innings'], title='AL/NL: Change in Runs Per 9 Inning and Strikeout Rate (1916 - 2021)',hover_data=['RA/9','SO%'])\n",
        "fig.add_hline(y=0)\n",
        "fig.show()"
      ],
      "metadata": {
        "colab": {
          "base_uri": "https://localhost:8080/",
          "height": 542
        },
        "id": "zD6MbODak3GX",
        "outputId": "7e4fe8af-efd7-42f6-ad74-674164dfb600"
      },
      "execution_count": 18,
      "outputs": [
        {
          "output_type": "display_data",
          "data": {
            "text/html": [
              "<html>\n",
              "<head><meta charset=\"utf-8\" /></head>\n",
              "<body>\n",
              "    <div>            <script src=\"https://cdnjs.cloudflare.com/ajax/libs/mathjax/2.7.5/MathJax.js?config=TeX-AMS-MML_SVG\"></script><script type=\"text/javascript\">if (window.MathJax) {MathJax.Hub.Config({SVG: {font: \"STIX-Web\"}});}</script>                <script type=\"text/javascript\">window.PlotlyConfig = {MathJaxConfig: 'local'};</script>\n",
              "        <script src=\"https://cdn.plot.ly/plotly-2.8.3.min.js\"></script>                <div id=\"bfd83e40-622b-4320-acfa-9da6dfc2b5e2\" class=\"plotly-graph-div\" style=\"height:525px; width:100%;\"></div>            <script type=\"text/javascript\">                                    window.PLOTLYENV=window.PLOTLYENV || {};                                    if (document.getElementById(\"bfd83e40-622b-4320-acfa-9da6dfc2b5e2\")) {                    Plotly.newPlot(                        \"bfd83e40-622b-4320-acfa-9da6dfc2b5e2\",                        [{\"customdata\":[[3.91,0.096],[3.84,0.094],[3.56,0.104],[3.58,0.095],[3.62,0.079],[3.88,0.083],[4.36,0.077],[4.88,0.073],[4.92,0.073],[4.84,0.073],[4.81,0.07],[5.19,0.069],[4.69,0.072],[4.81,0.072],[4.77,0.075],[5.25,0.073],[5.64,0.082],[4.87,0.082],[4.93,0.082],[4.52,0.079],[4.98,0.088],[4.95,0.083],[5.25,0.084],[4.96,0.094],[4.98,0.088],[4.9,0.089],[4.73,0.095],[4.53,0.092],[4.1,0.089],[3.89,0.09],[4.18,0.086],[4.21,0.085],[4.05,0.102],[4.42,0.096],[4.65,0.094],[4.67,0.093],[4.91,0.099],[4.57,0.097],[4.19,0.11],[4.67,0.107],[4.4,0.107],[4.52,0.114],[4.49,0.121],[4.29,0.125],[4.33,0.13],[4.42,0.133],[4.32,0.135],[4.58,0.137],[4.49,0.141],[3.95,0.153],[4.05,0.156],[3.99,0.157],[4.0,0.154],[3.77,0.159],[3.42,0.158],[4.09,0.152],[4.36,0.15],[3.9,0.143],[3.69,0.148],[4.23,0.137],[4.13,0.131],[4.22,0.13],[3.99,0.127],[4.48,0.134],[4.14,0.126],[4.49,0.125],[4.29,0.125],[4.0,0.125],[4.3,0.132],[4.33,0.135],[4.28,0.14],[4.35,0.14],[4.43,0.154],[4.76,0.155],[4.15,0.147],[4.15,0.148],[4.29,0.149],[4.32,0.152],[4.13,0.147],[4.64,0.151],[4.96,0.159],[4.88,0.162],[5.07,0.165],[4.81,0.171],[4.83,0.169],[5.14,0.164],[5.2,0.165],[4.82,0.173],[4.66,0.168],[4.77,0.164],[4.85,0.169],[4.65,0.164],[4.91,0.168],[4.83,0.171],[4.69,0.175],[4.66,0.18],[4.43,0.185],[4.3,0.186],[4.36,0.198],[4.18,0.199],[4.08,0.204],[4.28,0.204],[4.52,0.211],[4.7,0.216],[4.48,0.223],[4.86,0.23],[4.85,0.234],[4.65,0.232]],\"hovertemplate\":\"variable=% Change in Strikeout Rate<br>season=%{x}<br>value=%{y}<br>RA/9=%{customdata[0]}<br>SO%=%{customdata[1]}<extra></extra>\",\"legendgroup\":\"% Change in Strikeout Rate\",\"line\":{\"color\":\"#636efa\",\"dash\":\"solid\"},\"marker\":{\"symbol\":\"circle\"},\"mode\":\"lines\",\"name\":\"% Change in Strikeout Rate\",\"orientation\":\"v\",\"showlegend\":true,\"x\":[1914,1915,1916,1917,1918,1919,1920,1921,1922,1923,1924,1925,1926,1927,1928,1929,1930,1931,1932,1933,1934,1935,1936,1937,1938,1939,1940,1941,1942,1943,1944,1945,1946,1947,1948,1949,1950,1951,1952,1953,1954,1955,1956,1957,1958,1959,1960,1961,1962,1963,1964,1965,1966,1967,1968,1969,1970,1971,1972,1973,1974,1975,1976,1977,1978,1979,1980,1981,1982,1983,1984,1985,1986,1987,1988,1989,1990,1991,1992,1993,1994,1995,1996,1997,1998,1999,2000,2001,2002,2003,2004,2005,2006,2007,2008,2009,2010,2011,2012,2013,2014,2015,2016,2017,2018,2019,2020,2021],\"xaxis\":\"x\",\"y\":[0.0,-2.1,8.3,-1.0,-17.7,-13.5,-19.8,-24.0,-24.0,-24.0,-27.1,-28.1,-25.0,-25.0,-21.9,-24.0,-14.6,-14.6,-14.6,-17.7,-8.3,-13.5,-12.5,-2.1,-8.3,-7.3,-1.0,-4.2,-7.3,-6.2,-10.4,-11.5,6.2,0.0,-2.1,-3.1,3.1,1.0,14.6,11.5,11.5,18.8,26.0,30.2,35.4,38.5,40.6,42.7,46.9,59.4,62.5,63.5,60.4,65.6,64.6,58.3,56.2,49.0,54.2,42.7,36.5,35.4,32.3,39.6,31.2,30.2,30.2,30.2,37.5,40.6,45.8,45.8,60.4,61.5,53.1,54.2,55.2,58.3,53.1,57.3,65.6,68.8,71.9,78.1,76.0,70.8,71.9,80.2,75.0,70.8,76.0,70.8,75.0,78.1,82.3,87.5,92.7,93.8,106.2,107.3,112.5,112.5,119.8,125.0,132.3,139.6,143.8,141.7],\"yaxis\":\"y\",\"type\":\"scatter\"},{\"customdata\":[[3.91,0.096],[3.84,0.094],[3.56,0.104],[3.58,0.095],[3.62,0.079],[3.88,0.083],[4.36,0.077],[4.88,0.073],[4.92,0.073],[4.84,0.073],[4.81,0.07],[5.19,0.069],[4.69,0.072],[4.81,0.072],[4.77,0.075],[5.25,0.073],[5.64,0.082],[4.87,0.082],[4.93,0.082],[4.52,0.079],[4.98,0.088],[4.95,0.083],[5.25,0.084],[4.96,0.094],[4.98,0.088],[4.9,0.089],[4.73,0.095],[4.53,0.092],[4.1,0.089],[3.89,0.09],[4.18,0.086],[4.21,0.085],[4.05,0.102],[4.42,0.096],[4.65,0.094],[4.67,0.093],[4.91,0.099],[4.57,0.097],[4.19,0.11],[4.67,0.107],[4.4,0.107],[4.52,0.114],[4.49,0.121],[4.29,0.125],[4.33,0.13],[4.42,0.133],[4.32,0.135],[4.58,0.137],[4.49,0.141],[3.95,0.153],[4.05,0.156],[3.99,0.157],[4.0,0.154],[3.77,0.159],[3.42,0.158],[4.09,0.152],[4.36,0.15],[3.9,0.143],[3.69,0.148],[4.23,0.137],[4.13,0.131],[4.22,0.13],[3.99,0.127],[4.48,0.134],[4.14,0.126],[4.49,0.125],[4.29,0.125],[4.0,0.125],[4.3,0.132],[4.33,0.135],[4.28,0.14],[4.35,0.14],[4.43,0.154],[4.76,0.155],[4.15,0.147],[4.15,0.148],[4.29,0.149],[4.32,0.152],[4.13,0.147],[4.64,0.151],[4.96,0.159],[4.88,0.162],[5.07,0.165],[4.81,0.171],[4.83,0.169],[5.14,0.164],[5.2,0.165],[4.82,0.173],[4.66,0.168],[4.77,0.164],[4.85,0.169],[4.65,0.164],[4.91,0.168],[4.83,0.171],[4.69,0.175],[4.66,0.18],[4.43,0.185],[4.3,0.186],[4.36,0.198],[4.18,0.199],[4.08,0.204],[4.28,0.204],[4.52,0.211],[4.7,0.216],[4.48,0.223],[4.86,0.23],[4.85,0.234],[4.65,0.232]],\"hovertemplate\":\"variable=% Change in Runs per 9 innings<br>season=%{x}<br>value=%{y}<br>RA/9=%{customdata[0]}<br>SO%=%{customdata[1]}<extra></extra>\",\"legendgroup\":\"% Change in Runs per 9 innings\",\"line\":{\"color\":\"#EF553B\",\"dash\":\"solid\"},\"marker\":{\"symbol\":\"circle\"},\"mode\":\"lines\",\"name\":\"% Change in Runs per 9 innings\",\"orientation\":\"v\",\"showlegend\":true,\"x\":[1914,1915,1916,1917,1918,1919,1920,1921,1922,1923,1924,1925,1926,1927,1928,1929,1930,1931,1932,1933,1934,1935,1936,1937,1938,1939,1940,1941,1942,1943,1944,1945,1946,1947,1948,1949,1950,1951,1952,1953,1954,1955,1956,1957,1958,1959,1960,1961,1962,1963,1964,1965,1966,1967,1968,1969,1970,1971,1972,1973,1974,1975,1976,1977,1978,1979,1980,1981,1982,1983,1984,1985,1986,1987,1988,1989,1990,1991,1992,1993,1994,1995,1996,1997,1998,1999,2000,2001,2002,2003,2004,2005,2006,2007,2008,2009,2010,2011,2012,2013,2014,2015,2016,2017,2018,2019,2020,2021],\"xaxis\":\"x\",\"y\":[0.0,-1.8,-9.0,-8.4,-7.4,-0.8,11.5,24.8,25.8,23.8,23.0,32.7,19.9,23.0,22.0,34.3,44.2,24.6,26.1,15.6,27.4,26.6,34.3,26.9,27.4,25.3,21.0,15.9,4.9,-0.5,6.9,7.7,3.6,13.0,18.9,19.4,25.6,16.9,7.2,19.4,12.5,15.6,14.8,9.7,10.7,13.0,10.5,17.1,14.8,1.0,3.6,2.0,2.3,-3.6,-12.5,4.6,11.5,-0.3,-5.6,8.2,5.6,7.9,2.0,14.6,5.9,14.8,9.7,2.3,10.0,10.7,9.5,11.3,13.3,21.7,6.1,6.1,9.7,10.5,5.6,18.7,26.9,24.8,29.7,23.0,23.5,31.5,33.0,23.3,19.2,22.0,24.0,18.9,25.6,23.5,19.9,19.2,13.3,10.0,11.5,6.9,4.3,9.5,15.6,20.2,14.6,24.3,24.0,18.9],\"yaxis\":\"y\",\"type\":\"scatter\"}],                        {\"template\":{\"data\":{\"bar\":[{\"error_x\":{\"color\":\"#2a3f5f\"},\"error_y\":{\"color\":\"#2a3f5f\"},\"marker\":{\"line\":{\"color\":\"#E5ECF6\",\"width\":0.5},\"pattern\":{\"fillmode\":\"overlay\",\"size\":10,\"solidity\":0.2}},\"type\":\"bar\"}],\"barpolar\":[{\"marker\":{\"line\":{\"color\":\"#E5ECF6\",\"width\":0.5},\"pattern\":{\"fillmode\":\"overlay\",\"size\":10,\"solidity\":0.2}},\"type\":\"barpolar\"}],\"carpet\":[{\"aaxis\":{\"endlinecolor\":\"#2a3f5f\",\"gridcolor\":\"white\",\"linecolor\":\"white\",\"minorgridcolor\":\"white\",\"startlinecolor\":\"#2a3f5f\"},\"baxis\":{\"endlinecolor\":\"#2a3f5f\",\"gridcolor\":\"white\",\"linecolor\":\"white\",\"minorgridcolor\":\"white\",\"startlinecolor\":\"#2a3f5f\"},\"type\":\"carpet\"}],\"choropleth\":[{\"colorbar\":{\"outlinewidth\":0,\"ticks\":\"\"},\"type\":\"choropleth\"}],\"contour\":[{\"colorbar\":{\"outlinewidth\":0,\"ticks\":\"\"},\"colorscale\":[[0.0,\"#0d0887\"],[0.1111111111111111,\"#46039f\"],[0.2222222222222222,\"#7201a8\"],[0.3333333333333333,\"#9c179e\"],[0.4444444444444444,\"#bd3786\"],[0.5555555555555556,\"#d8576b\"],[0.6666666666666666,\"#ed7953\"],[0.7777777777777778,\"#fb9f3a\"],[0.8888888888888888,\"#fdca26\"],[1.0,\"#f0f921\"]],\"type\":\"contour\"}],\"contourcarpet\":[{\"colorbar\":{\"outlinewidth\":0,\"ticks\":\"\"},\"type\":\"contourcarpet\"}],\"heatmap\":[{\"colorbar\":{\"outlinewidth\":0,\"ticks\":\"\"},\"colorscale\":[[0.0,\"#0d0887\"],[0.1111111111111111,\"#46039f\"],[0.2222222222222222,\"#7201a8\"],[0.3333333333333333,\"#9c179e\"],[0.4444444444444444,\"#bd3786\"],[0.5555555555555556,\"#d8576b\"],[0.6666666666666666,\"#ed7953\"],[0.7777777777777778,\"#fb9f3a\"],[0.8888888888888888,\"#fdca26\"],[1.0,\"#f0f921\"]],\"type\":\"heatmap\"}],\"heatmapgl\":[{\"colorbar\":{\"outlinewidth\":0,\"ticks\":\"\"},\"colorscale\":[[0.0,\"#0d0887\"],[0.1111111111111111,\"#46039f\"],[0.2222222222222222,\"#7201a8\"],[0.3333333333333333,\"#9c179e\"],[0.4444444444444444,\"#bd3786\"],[0.5555555555555556,\"#d8576b\"],[0.6666666666666666,\"#ed7953\"],[0.7777777777777778,\"#fb9f3a\"],[0.8888888888888888,\"#fdca26\"],[1.0,\"#f0f921\"]],\"type\":\"heatmapgl\"}],\"histogram\":[{\"marker\":{\"pattern\":{\"fillmode\":\"overlay\",\"size\":10,\"solidity\":0.2}},\"type\":\"histogram\"}],\"histogram2d\":[{\"colorbar\":{\"outlinewidth\":0,\"ticks\":\"\"},\"colorscale\":[[0.0,\"#0d0887\"],[0.1111111111111111,\"#46039f\"],[0.2222222222222222,\"#7201a8\"],[0.3333333333333333,\"#9c179e\"],[0.4444444444444444,\"#bd3786\"],[0.5555555555555556,\"#d8576b\"],[0.6666666666666666,\"#ed7953\"],[0.7777777777777778,\"#fb9f3a\"],[0.8888888888888888,\"#fdca26\"],[1.0,\"#f0f921\"]],\"type\":\"histogram2d\"}],\"histogram2dcontour\":[{\"colorbar\":{\"outlinewidth\":0,\"ticks\":\"\"},\"colorscale\":[[0.0,\"#0d0887\"],[0.1111111111111111,\"#46039f\"],[0.2222222222222222,\"#7201a8\"],[0.3333333333333333,\"#9c179e\"],[0.4444444444444444,\"#bd3786\"],[0.5555555555555556,\"#d8576b\"],[0.6666666666666666,\"#ed7953\"],[0.7777777777777778,\"#fb9f3a\"],[0.8888888888888888,\"#fdca26\"],[1.0,\"#f0f921\"]],\"type\":\"histogram2dcontour\"}],\"mesh3d\":[{\"colorbar\":{\"outlinewidth\":0,\"ticks\":\"\"},\"type\":\"mesh3d\"}],\"parcoords\":[{\"line\":{\"colorbar\":{\"outlinewidth\":0,\"ticks\":\"\"}},\"type\":\"parcoords\"}],\"pie\":[{\"automargin\":true,\"type\":\"pie\"}],\"scatter\":[{\"marker\":{\"colorbar\":{\"outlinewidth\":0,\"ticks\":\"\"}},\"type\":\"scatter\"}],\"scatter3d\":[{\"line\":{\"colorbar\":{\"outlinewidth\":0,\"ticks\":\"\"}},\"marker\":{\"colorbar\":{\"outlinewidth\":0,\"ticks\":\"\"}},\"type\":\"scatter3d\"}],\"scattercarpet\":[{\"marker\":{\"colorbar\":{\"outlinewidth\":0,\"ticks\":\"\"}},\"type\":\"scattercarpet\"}],\"scattergeo\":[{\"marker\":{\"colorbar\":{\"outlinewidth\":0,\"ticks\":\"\"}},\"type\":\"scattergeo\"}],\"scattergl\":[{\"marker\":{\"colorbar\":{\"outlinewidth\":0,\"ticks\":\"\"}},\"type\":\"scattergl\"}],\"scattermapbox\":[{\"marker\":{\"colorbar\":{\"outlinewidth\":0,\"ticks\":\"\"}},\"type\":\"scattermapbox\"}],\"scatterpolar\":[{\"marker\":{\"colorbar\":{\"outlinewidth\":0,\"ticks\":\"\"}},\"type\":\"scatterpolar\"}],\"scatterpolargl\":[{\"marker\":{\"colorbar\":{\"outlinewidth\":0,\"ticks\":\"\"}},\"type\":\"scatterpolargl\"}],\"scatterternary\":[{\"marker\":{\"colorbar\":{\"outlinewidth\":0,\"ticks\":\"\"}},\"type\":\"scatterternary\"}],\"surface\":[{\"colorbar\":{\"outlinewidth\":0,\"ticks\":\"\"},\"colorscale\":[[0.0,\"#0d0887\"],[0.1111111111111111,\"#46039f\"],[0.2222222222222222,\"#7201a8\"],[0.3333333333333333,\"#9c179e\"],[0.4444444444444444,\"#bd3786\"],[0.5555555555555556,\"#d8576b\"],[0.6666666666666666,\"#ed7953\"],[0.7777777777777778,\"#fb9f3a\"],[0.8888888888888888,\"#fdca26\"],[1.0,\"#f0f921\"]],\"type\":\"surface\"}],\"table\":[{\"cells\":{\"fill\":{\"color\":\"#EBF0F8\"},\"line\":{\"color\":\"white\"}},\"header\":{\"fill\":{\"color\":\"#C8D4E3\"},\"line\":{\"color\":\"white\"}},\"type\":\"table\"}]},\"layout\":{\"annotationdefaults\":{\"arrowcolor\":\"#2a3f5f\",\"arrowhead\":0,\"arrowwidth\":1},\"autotypenumbers\":\"strict\",\"coloraxis\":{\"colorbar\":{\"outlinewidth\":0,\"ticks\":\"\"}},\"colorscale\":{\"diverging\":[[0,\"#8e0152\"],[0.1,\"#c51b7d\"],[0.2,\"#de77ae\"],[0.3,\"#f1b6da\"],[0.4,\"#fde0ef\"],[0.5,\"#f7f7f7\"],[0.6,\"#e6f5d0\"],[0.7,\"#b8e186\"],[0.8,\"#7fbc41\"],[0.9,\"#4d9221\"],[1,\"#276419\"]],\"sequential\":[[0.0,\"#0d0887\"],[0.1111111111111111,\"#46039f\"],[0.2222222222222222,\"#7201a8\"],[0.3333333333333333,\"#9c179e\"],[0.4444444444444444,\"#bd3786\"],[0.5555555555555556,\"#d8576b\"],[0.6666666666666666,\"#ed7953\"],[0.7777777777777778,\"#fb9f3a\"],[0.8888888888888888,\"#fdca26\"],[1.0,\"#f0f921\"]],\"sequentialminus\":[[0.0,\"#0d0887\"],[0.1111111111111111,\"#46039f\"],[0.2222222222222222,\"#7201a8\"],[0.3333333333333333,\"#9c179e\"],[0.4444444444444444,\"#bd3786\"],[0.5555555555555556,\"#d8576b\"],[0.6666666666666666,\"#ed7953\"],[0.7777777777777778,\"#fb9f3a\"],[0.8888888888888888,\"#fdca26\"],[1.0,\"#f0f921\"]]},\"colorway\":[\"#636efa\",\"#EF553B\",\"#00cc96\",\"#ab63fa\",\"#FFA15A\",\"#19d3f3\",\"#FF6692\",\"#B6E880\",\"#FF97FF\",\"#FECB52\"],\"font\":{\"color\":\"#2a3f5f\"},\"geo\":{\"bgcolor\":\"white\",\"lakecolor\":\"white\",\"landcolor\":\"#E5ECF6\",\"showlakes\":true,\"showland\":true,\"subunitcolor\":\"white\"},\"hoverlabel\":{\"align\":\"left\"},\"hovermode\":\"closest\",\"mapbox\":{\"style\":\"light\"},\"paper_bgcolor\":\"white\",\"plot_bgcolor\":\"#E5ECF6\",\"polar\":{\"angularaxis\":{\"gridcolor\":\"white\",\"linecolor\":\"white\",\"ticks\":\"\"},\"bgcolor\":\"#E5ECF6\",\"radialaxis\":{\"gridcolor\":\"white\",\"linecolor\":\"white\",\"ticks\":\"\"}},\"scene\":{\"xaxis\":{\"backgroundcolor\":\"#E5ECF6\",\"gridcolor\":\"white\",\"gridwidth\":2,\"linecolor\":\"white\",\"showbackground\":true,\"ticks\":\"\",\"zerolinecolor\":\"white\"},\"yaxis\":{\"backgroundcolor\":\"#E5ECF6\",\"gridcolor\":\"white\",\"gridwidth\":2,\"linecolor\":\"white\",\"showbackground\":true,\"ticks\":\"\",\"zerolinecolor\":\"white\"},\"zaxis\":{\"backgroundcolor\":\"#E5ECF6\",\"gridcolor\":\"white\",\"gridwidth\":2,\"linecolor\":\"white\",\"showbackground\":true,\"ticks\":\"\",\"zerolinecolor\":\"white\"}},\"shapedefaults\":{\"line\":{\"color\":\"#2a3f5f\"}},\"ternary\":{\"aaxis\":{\"gridcolor\":\"white\",\"linecolor\":\"white\",\"ticks\":\"\"},\"baxis\":{\"gridcolor\":\"white\",\"linecolor\":\"white\",\"ticks\":\"\"},\"bgcolor\":\"#E5ECF6\",\"caxis\":{\"gridcolor\":\"white\",\"linecolor\":\"white\",\"ticks\":\"\"}},\"title\":{\"x\":0.05},\"xaxis\":{\"automargin\":true,\"gridcolor\":\"white\",\"linecolor\":\"white\",\"ticks\":\"\",\"title\":{\"standoff\":15},\"zerolinecolor\":\"white\",\"zerolinewidth\":2},\"yaxis\":{\"automargin\":true,\"gridcolor\":\"white\",\"linecolor\":\"white\",\"ticks\":\"\",\"title\":{\"standoff\":15},\"zerolinecolor\":\"white\",\"zerolinewidth\":2}}},\"xaxis\":{\"anchor\":\"y\",\"domain\":[0.0,1.0],\"title\":{\"text\":\"season\"}},\"yaxis\":{\"anchor\":\"x\",\"domain\":[0.0,1.0],\"title\":{\"text\":\"value\"}},\"legend\":{\"title\":{\"text\":\"variable\"},\"tracegroupgap\":0},\"title\":{\"text\":\"AL/NL: Change in Runs Per 9 Inning and Strikeout Rate (1916 - 2021)\"},\"shapes\":[{\"type\":\"line\",\"x0\":0,\"x1\":1,\"xref\":\"x domain\",\"y0\":0,\"y1\":0,\"yref\":\"y\"}]},                        {\"responsive\": true}                    ).then(function(){\n",
              "                            \n",
              "var gd = document.getElementById('bfd83e40-622b-4320-acfa-9da6dfc2b5e2');\n",
              "var x = new MutationObserver(function (mutations, observer) {{\n",
              "        var display = window.getComputedStyle(gd).display;\n",
              "        if (!display || display === 'none') {{\n",
              "            console.log([gd, 'removed!']);\n",
              "            Plotly.purge(gd);\n",
              "            observer.disconnect();\n",
              "        }}\n",
              "}});\n",
              "\n",
              "// Listen for the removal of the full notebook cells\n",
              "var notebookContainer = gd.closest('#notebook-container');\n",
              "if (notebookContainer) {{\n",
              "    x.observe(notebookContainer, {childList: true});\n",
              "}}\n",
              "\n",
              "// Listen for the clearing of the current output cell\n",
              "var outputEl = gd.closest('.output');\n",
              "if (outputEl) {{\n",
              "    x.observe(outputEl, {childList: true});\n",
              "}}\n",
              "\n",
              "                        })                };                            </script>        </div>\n",
              "</body>\n",
              "</html>"
            ]
          },
          "metadata": {}
        }
      ]
    },
    {
      "cell_type": "markdown",
      "source": [
        "Despite the increase in strikeout rate, run scoring is also up since 1914. However, this increase has been both less consistent and less dramatic than the incease in strikeout rate.\n",
        "\n",
        "There have been times when the increase in strikeouts have coincided with decreasing offense and vice versa (perhaps most notably in the 1960s). This result is intuitive, as we would expect a rise in an event that is good for defenses to coincide with a decline in offense.\n",
        "\n",
        "However, at other times, the two rates have risen roughly in lockstop; this was the case in the period spanning from 1980 through the mid 1990s, as well as 2015 to 2019 (when the strikeout rate rose by about 13% from its 2014 level, while runs per nine innings also increased by over 19%).\n",
        "\n",
        "Given this apparent inconsistency, a further examination of the relationship between strikeouts and run scoring/run prevention is warranted."
      ],
      "metadata": {
        "id": "8xeKcI8lmTQy"
      }
    },
    {
      "cell_type": "markdown",
      "source": [
        "#2. The Impact of Strikeouts on Scoring "
      ],
      "metadata": {
        "id": "14wQqrIBss45"
      }
    },
    {
      "cell_type": "code",
      "source": [
        "szn_df['SO%'].corr(szn_df['RA/9'])"
      ],
      "metadata": {
        "colab": {
          "base_uri": "https://localhost:8080/"
        },
        "id": "f7pwXQ5GsoL1",
        "outputId": "98319269-77d2-4563-fdd6-48ddd077c6d7"
      },
      "execution_count": 19,
      "outputs": [
        {
          "output_type": "execute_result",
          "data": {
            "text/plain": [
              "-0.06789861449818245"
            ]
          },
          "metadata": {},
          "execution_count": 19
        }
      ]
    },
    {
      "cell_type": "code",
      "source": [
        "#Calculate annual correlation between runs allowed per nine innings and the strikeout rate\n",
        "\n",
        "correlation_list=[]\n",
        "correlation_df=pd.DataFrame()\n",
        "year_list=[]\n",
        "\n",
        "for year in def_df['season'].unique():\n",
        "  team_df = def_df[def_df['season']==year]\n",
        "  team_df['SO%'] = team_df['Ks']/team_df['TBF']\n",
        "  team_df['RA/9'] = team_df['RA']/team_df['IP']*9\n",
        "  year_list.append(year)\n",
        "  correlation_list.append(round(team_df['SO%'].corr(team_df['RA/9']),2))\n",
        "\n",
        "correlation_df['Season']=year_list\n",
        "correlation_df['r']=correlation_list\n",
        "\n",
        "pitching_corr=correlation_df.copy()\n",
        "pitching_corr.rename(columns={'r':'Pitching'},inplace=True)\n"
      ],
      "metadata": {
        "id": "oVH7Jv6qs589"
      },
      "execution_count": null,
      "outputs": []
    },
    {
      "cell_type": "code",
      "source": [
        "correlation_df.describe()"
      ],
      "metadata": {
        "colab": {
          "base_uri": "https://localhost:8080/",
          "height": 300
        },
        "id": "1ukDRDONpynY",
        "outputId": "0480ecd7-727b-4dad-c246-f54f950b85a7"
      },
      "execution_count": 21,
      "outputs": [
        {
          "output_type": "execute_result",
          "data": {
            "text/plain": [
              "           Season           r\n",
              "count   108.00000  108.000000\n",
              "mean   1967.50000   -0.508981\n",
              "std      31.32092    0.185970\n",
              "min    1914.00000   -0.870000\n",
              "25%    1940.75000   -0.640000\n",
              "50%    1967.50000   -0.520000\n",
              "75%    1994.25000   -0.390000\n",
              "max    2021.00000    0.030000"
            ],
            "text/html": [
              "\n",
              "  <div id=\"df-9b9514e1-e632-420a-bef5-9c7ab92b21a5\">\n",
              "    <div class=\"colab-df-container\">\n",
              "      <div>\n",
              "<style scoped>\n",
              "    .dataframe tbody tr th:only-of-type {\n",
              "        vertical-align: middle;\n",
              "    }\n",
              "\n",
              "    .dataframe tbody tr th {\n",
              "        vertical-align: top;\n",
              "    }\n",
              "\n",
              "    .dataframe thead th {\n",
              "        text-align: right;\n",
              "    }\n",
              "</style>\n",
              "<table border=\"1\" class=\"dataframe\">\n",
              "  <thead>\n",
              "    <tr style=\"text-align: right;\">\n",
              "      <th></th>\n",
              "      <th>Season</th>\n",
              "      <th>r</th>\n",
              "    </tr>\n",
              "  </thead>\n",
              "  <tbody>\n",
              "    <tr>\n",
              "      <th>count</th>\n",
              "      <td>108.00000</td>\n",
              "      <td>108.000000</td>\n",
              "    </tr>\n",
              "    <tr>\n",
              "      <th>mean</th>\n",
              "      <td>1967.50000</td>\n",
              "      <td>-0.508981</td>\n",
              "    </tr>\n",
              "    <tr>\n",
              "      <th>std</th>\n",
              "      <td>31.32092</td>\n",
              "      <td>0.185970</td>\n",
              "    </tr>\n",
              "    <tr>\n",
              "      <th>min</th>\n",
              "      <td>1914.00000</td>\n",
              "      <td>-0.870000</td>\n",
              "    </tr>\n",
              "    <tr>\n",
              "      <th>25%</th>\n",
              "      <td>1940.75000</td>\n",
              "      <td>-0.640000</td>\n",
              "    </tr>\n",
              "    <tr>\n",
              "      <th>50%</th>\n",
              "      <td>1967.50000</td>\n",
              "      <td>-0.520000</td>\n",
              "    </tr>\n",
              "    <tr>\n",
              "      <th>75%</th>\n",
              "      <td>1994.25000</td>\n",
              "      <td>-0.390000</td>\n",
              "    </tr>\n",
              "    <tr>\n",
              "      <th>max</th>\n",
              "      <td>2021.00000</td>\n",
              "      <td>0.030000</td>\n",
              "    </tr>\n",
              "  </tbody>\n",
              "</table>\n",
              "</div>\n",
              "      <button class=\"colab-df-convert\" onclick=\"convertToInteractive('df-9b9514e1-e632-420a-bef5-9c7ab92b21a5')\"\n",
              "              title=\"Convert this dataframe to an interactive table.\"\n",
              "              style=\"display:none;\">\n",
              "        \n",
              "  <svg xmlns=\"http://www.w3.org/2000/svg\" height=\"24px\"viewBox=\"0 0 24 24\"\n",
              "       width=\"24px\">\n",
              "    <path d=\"M0 0h24v24H0V0z\" fill=\"none\"/>\n",
              "    <path d=\"M18.56 5.44l.94 2.06.94-2.06 2.06-.94-2.06-.94-.94-2.06-.94 2.06-2.06.94zm-11 1L8.5 8.5l.94-2.06 2.06-.94-2.06-.94L8.5 2.5l-.94 2.06-2.06.94zm10 10l.94 2.06.94-2.06 2.06-.94-2.06-.94-.94-2.06-.94 2.06-2.06.94z\"/><path d=\"M17.41 7.96l-1.37-1.37c-.4-.4-.92-.59-1.43-.59-.52 0-1.04.2-1.43.59L10.3 9.45l-7.72 7.72c-.78.78-.78 2.05 0 2.83L4 21.41c.39.39.9.59 1.41.59.51 0 1.02-.2 1.41-.59l7.78-7.78 2.81-2.81c.8-.78.8-2.07 0-2.86zM5.41 20L4 18.59l7.72-7.72 1.47 1.35L5.41 20z\"/>\n",
              "  </svg>\n",
              "      </button>\n",
              "      \n",
              "  <style>\n",
              "    .colab-df-container {\n",
              "      display:flex;\n",
              "      flex-wrap:wrap;\n",
              "      gap: 12px;\n",
              "    }\n",
              "\n",
              "    .colab-df-convert {\n",
              "      background-color: #E8F0FE;\n",
              "      border: none;\n",
              "      border-radius: 50%;\n",
              "      cursor: pointer;\n",
              "      display: none;\n",
              "      fill: #1967D2;\n",
              "      height: 32px;\n",
              "      padding: 0 0 0 0;\n",
              "      width: 32px;\n",
              "    }\n",
              "\n",
              "    .colab-df-convert:hover {\n",
              "      background-color: #E2EBFA;\n",
              "      box-shadow: 0px 1px 2px rgba(60, 64, 67, 0.3), 0px 1px 3px 1px rgba(60, 64, 67, 0.15);\n",
              "      fill: #174EA6;\n",
              "    }\n",
              "\n",
              "    [theme=dark] .colab-df-convert {\n",
              "      background-color: #3B4455;\n",
              "      fill: #D2E3FC;\n",
              "    }\n",
              "\n",
              "    [theme=dark] .colab-df-convert:hover {\n",
              "      background-color: #434B5C;\n",
              "      box-shadow: 0px 1px 3px 1px rgba(0, 0, 0, 0.15);\n",
              "      filter: drop-shadow(0px 1px 2px rgba(0, 0, 0, 0.3));\n",
              "      fill: #FFFFFF;\n",
              "    }\n",
              "  </style>\n",
              "\n",
              "      <script>\n",
              "        const buttonEl =\n",
              "          document.querySelector('#df-9b9514e1-e632-420a-bef5-9c7ab92b21a5 button.colab-df-convert');\n",
              "        buttonEl.style.display =\n",
              "          google.colab.kernel.accessAllowed ? 'block' : 'none';\n",
              "\n",
              "        async function convertToInteractive(key) {\n",
              "          const element = document.querySelector('#df-9b9514e1-e632-420a-bef5-9c7ab92b21a5');\n",
              "          const dataTable =\n",
              "            await google.colab.kernel.invokeFunction('convertToInteractive',\n",
              "                                                     [key], {});\n",
              "          if (!dataTable) return;\n",
              "\n",
              "          const docLinkHtml = 'Like what you see? Visit the ' +\n",
              "            '<a target=\"_blank\" href=https://colab.research.google.com/notebooks/data_table.ipynb>data table notebook</a>'\n",
              "            + ' to learn more about interactive tables.';\n",
              "          element.innerHTML = '';\n",
              "          dataTable['output_type'] = 'display_data';\n",
              "          await google.colab.output.renderOutput(dataTable, element);\n",
              "          const docLink = document.createElement('div');\n",
              "          docLink.innerHTML = docLinkHtml;\n",
              "          element.appendChild(docLink);\n",
              "        }\n",
              "      </script>\n",
              "    </div>\n",
              "  </div>\n",
              "  "
            ]
          },
          "metadata": {},
          "execution_count": 21
        }
      ]
    },
    {
      "cell_type": "code",
      "source": [
        "fig = px.line(correlation_df, x='Season', y='r', title='AL/NL Pitching: Team-level correlation between strikeout rate and runs allowed per nine innings')\n",
        "\n",
        "fig.show()"
      ],
      "metadata": {
        "colab": {
          "base_uri": "https://localhost:8080/",
          "height": 542
        },
        "id": "RA_J-4nIuisW",
        "outputId": "5239b77d-025b-483a-cad7-311c18906704"
      },
      "execution_count": 22,
      "outputs": [
        {
          "output_type": "display_data",
          "data": {
            "text/html": [
              "<html>\n",
              "<head><meta charset=\"utf-8\" /></head>\n",
              "<body>\n",
              "    <div>            <script src=\"https://cdnjs.cloudflare.com/ajax/libs/mathjax/2.7.5/MathJax.js?config=TeX-AMS-MML_SVG\"></script><script type=\"text/javascript\">if (window.MathJax) {MathJax.Hub.Config({SVG: {font: \"STIX-Web\"}});}</script>                <script type=\"text/javascript\">window.PlotlyConfig = {MathJaxConfig: 'local'};</script>\n",
              "        <script src=\"https://cdn.plot.ly/plotly-2.8.3.min.js\"></script>                <div id=\"4d116ee2-9a71-40c2-8431-e6a93131cf95\" class=\"plotly-graph-div\" style=\"height:525px; width:100%;\"></div>            <script type=\"text/javascript\">                                    window.PLOTLYENV=window.PLOTLYENV || {};                                    if (document.getElementById(\"4d116ee2-9a71-40c2-8431-e6a93131cf95\")) {                    Plotly.newPlot(                        \"4d116ee2-9a71-40c2-8431-e6a93131cf95\",                        [{\"hovertemplate\":\"Season=%{x}<br>r=%{y}<extra></extra>\",\"legendgroup\":\"\",\"line\":{\"color\":\"#636efa\",\"dash\":\"solid\"},\"marker\":{\"symbol\":\"circle\"},\"mode\":\"lines\",\"name\":\"\",\"orientation\":\"v\",\"showlegend\":false,\"x\":[1914,1915,1916,1917,1918,1919,1920,1921,1922,1923,1924,1925,1926,1927,1928,1929,1930,1931,1932,1933,1934,1935,1936,1937,1938,1939,1940,1941,1942,1943,1944,1945,1946,1947,1948,1949,1950,1951,1952,1953,1954,1955,1956,1957,1958,1959,1960,1961,1962,1963,1964,1965,1966,1967,1968,1969,1970,1971,1972,1973,1974,1975,1976,1977,1978,1979,1980,1981,1982,1983,1984,1985,1986,1987,1988,1989,1990,1991,1992,1993,1994,1995,1996,1997,1998,1999,2000,2001,2002,2003,2004,2005,2006,2007,2008,2009,2010,2011,2012,2013,2014,2015,2016,2017,2018,2019,2020,2021],\"xaxis\":\"x\",\"y\":[-0.51,-0.14,-0.5,-0.36,-0.78,-0.29,-0.3,-0.52,-0.39,-0.59,-0.57,-0.5,-0.63,-0.55,-0.6,-0.42,-0.6,-0.51,-0.35,-0.15,-0.63,-0.87,-0.63,-0.45,-0.07,-0.68,-0.49,-0.57,-0.63,-0.39,-0.38,-0.69,-0.45,-0.4,-0.61,-0.77,-0.73,-0.59,-0.51,-0.39,-0.64,-0.7,-0.53,-0.38,-0.02,-0.23,-0.52,-0.36,-0.48,-0.67,-0.42,-0.4,-0.48,-0.2,-0.5,-0.31,-0.21,-0.33,-0.1,-0.27,0.03,-0.19,-0.29,-0.41,-0.36,-0.59,-0.38,-0.47,-0.39,-0.62,-0.41,-0.51,-0.48,-0.42,-0.61,-0.39,-0.39,-0.52,-0.39,-0.65,-0.62,-0.73,-0.74,-0.73,-0.77,-0.8,-0.59,-0.62,-0.54,-0.71,-0.62,-0.54,-0.5,-0.37,-0.72,-0.66,-0.53,-0.64,-0.65,-0.68,-0.68,-0.62,-0.75,-0.85,-0.81,-0.75,-0.64,-0.73],\"yaxis\":\"y\",\"type\":\"scatter\"}],                        {\"template\":{\"data\":{\"bar\":[{\"error_x\":{\"color\":\"#2a3f5f\"},\"error_y\":{\"color\":\"#2a3f5f\"},\"marker\":{\"line\":{\"color\":\"#E5ECF6\",\"width\":0.5},\"pattern\":{\"fillmode\":\"overlay\",\"size\":10,\"solidity\":0.2}},\"type\":\"bar\"}],\"barpolar\":[{\"marker\":{\"line\":{\"color\":\"#E5ECF6\",\"width\":0.5},\"pattern\":{\"fillmode\":\"overlay\",\"size\":10,\"solidity\":0.2}},\"type\":\"barpolar\"}],\"carpet\":[{\"aaxis\":{\"endlinecolor\":\"#2a3f5f\",\"gridcolor\":\"white\",\"linecolor\":\"white\",\"minorgridcolor\":\"white\",\"startlinecolor\":\"#2a3f5f\"},\"baxis\":{\"endlinecolor\":\"#2a3f5f\",\"gridcolor\":\"white\",\"linecolor\":\"white\",\"minorgridcolor\":\"white\",\"startlinecolor\":\"#2a3f5f\"},\"type\":\"carpet\"}],\"choropleth\":[{\"colorbar\":{\"outlinewidth\":0,\"ticks\":\"\"},\"type\":\"choropleth\"}],\"contour\":[{\"colorbar\":{\"outlinewidth\":0,\"ticks\":\"\"},\"colorscale\":[[0.0,\"#0d0887\"],[0.1111111111111111,\"#46039f\"],[0.2222222222222222,\"#7201a8\"],[0.3333333333333333,\"#9c179e\"],[0.4444444444444444,\"#bd3786\"],[0.5555555555555556,\"#d8576b\"],[0.6666666666666666,\"#ed7953\"],[0.7777777777777778,\"#fb9f3a\"],[0.8888888888888888,\"#fdca26\"],[1.0,\"#f0f921\"]],\"type\":\"contour\"}],\"contourcarpet\":[{\"colorbar\":{\"outlinewidth\":0,\"ticks\":\"\"},\"type\":\"contourcarpet\"}],\"heatmap\":[{\"colorbar\":{\"outlinewidth\":0,\"ticks\":\"\"},\"colorscale\":[[0.0,\"#0d0887\"],[0.1111111111111111,\"#46039f\"],[0.2222222222222222,\"#7201a8\"],[0.3333333333333333,\"#9c179e\"],[0.4444444444444444,\"#bd3786\"],[0.5555555555555556,\"#d8576b\"],[0.6666666666666666,\"#ed7953\"],[0.7777777777777778,\"#fb9f3a\"],[0.8888888888888888,\"#fdca26\"],[1.0,\"#f0f921\"]],\"type\":\"heatmap\"}],\"heatmapgl\":[{\"colorbar\":{\"outlinewidth\":0,\"ticks\":\"\"},\"colorscale\":[[0.0,\"#0d0887\"],[0.1111111111111111,\"#46039f\"],[0.2222222222222222,\"#7201a8\"],[0.3333333333333333,\"#9c179e\"],[0.4444444444444444,\"#bd3786\"],[0.5555555555555556,\"#d8576b\"],[0.6666666666666666,\"#ed7953\"],[0.7777777777777778,\"#fb9f3a\"],[0.8888888888888888,\"#fdca26\"],[1.0,\"#f0f921\"]],\"type\":\"heatmapgl\"}],\"histogram\":[{\"marker\":{\"pattern\":{\"fillmode\":\"overlay\",\"size\":10,\"solidity\":0.2}},\"type\":\"histogram\"}],\"histogram2d\":[{\"colorbar\":{\"outlinewidth\":0,\"ticks\":\"\"},\"colorscale\":[[0.0,\"#0d0887\"],[0.1111111111111111,\"#46039f\"],[0.2222222222222222,\"#7201a8\"],[0.3333333333333333,\"#9c179e\"],[0.4444444444444444,\"#bd3786\"],[0.5555555555555556,\"#d8576b\"],[0.6666666666666666,\"#ed7953\"],[0.7777777777777778,\"#fb9f3a\"],[0.8888888888888888,\"#fdca26\"],[1.0,\"#f0f921\"]],\"type\":\"histogram2d\"}],\"histogram2dcontour\":[{\"colorbar\":{\"outlinewidth\":0,\"ticks\":\"\"},\"colorscale\":[[0.0,\"#0d0887\"],[0.1111111111111111,\"#46039f\"],[0.2222222222222222,\"#7201a8\"],[0.3333333333333333,\"#9c179e\"],[0.4444444444444444,\"#bd3786\"],[0.5555555555555556,\"#d8576b\"],[0.6666666666666666,\"#ed7953\"],[0.7777777777777778,\"#fb9f3a\"],[0.8888888888888888,\"#fdca26\"],[1.0,\"#f0f921\"]],\"type\":\"histogram2dcontour\"}],\"mesh3d\":[{\"colorbar\":{\"outlinewidth\":0,\"ticks\":\"\"},\"type\":\"mesh3d\"}],\"parcoords\":[{\"line\":{\"colorbar\":{\"outlinewidth\":0,\"ticks\":\"\"}},\"type\":\"parcoords\"}],\"pie\":[{\"automargin\":true,\"type\":\"pie\"}],\"scatter\":[{\"marker\":{\"colorbar\":{\"outlinewidth\":0,\"ticks\":\"\"}},\"type\":\"scatter\"}],\"scatter3d\":[{\"line\":{\"colorbar\":{\"outlinewidth\":0,\"ticks\":\"\"}},\"marker\":{\"colorbar\":{\"outlinewidth\":0,\"ticks\":\"\"}},\"type\":\"scatter3d\"}],\"scattercarpet\":[{\"marker\":{\"colorbar\":{\"outlinewidth\":0,\"ticks\":\"\"}},\"type\":\"scattercarpet\"}],\"scattergeo\":[{\"marker\":{\"colorbar\":{\"outlinewidth\":0,\"ticks\":\"\"}},\"type\":\"scattergeo\"}],\"scattergl\":[{\"marker\":{\"colorbar\":{\"outlinewidth\":0,\"ticks\":\"\"}},\"type\":\"scattergl\"}],\"scattermapbox\":[{\"marker\":{\"colorbar\":{\"outlinewidth\":0,\"ticks\":\"\"}},\"type\":\"scattermapbox\"}],\"scatterpolar\":[{\"marker\":{\"colorbar\":{\"outlinewidth\":0,\"ticks\":\"\"}},\"type\":\"scatterpolar\"}],\"scatterpolargl\":[{\"marker\":{\"colorbar\":{\"outlinewidth\":0,\"ticks\":\"\"}},\"type\":\"scatterpolargl\"}],\"scatterternary\":[{\"marker\":{\"colorbar\":{\"outlinewidth\":0,\"ticks\":\"\"}},\"type\":\"scatterternary\"}],\"surface\":[{\"colorbar\":{\"outlinewidth\":0,\"ticks\":\"\"},\"colorscale\":[[0.0,\"#0d0887\"],[0.1111111111111111,\"#46039f\"],[0.2222222222222222,\"#7201a8\"],[0.3333333333333333,\"#9c179e\"],[0.4444444444444444,\"#bd3786\"],[0.5555555555555556,\"#d8576b\"],[0.6666666666666666,\"#ed7953\"],[0.7777777777777778,\"#fb9f3a\"],[0.8888888888888888,\"#fdca26\"],[1.0,\"#f0f921\"]],\"type\":\"surface\"}],\"table\":[{\"cells\":{\"fill\":{\"color\":\"#EBF0F8\"},\"line\":{\"color\":\"white\"}},\"header\":{\"fill\":{\"color\":\"#C8D4E3\"},\"line\":{\"color\":\"white\"}},\"type\":\"table\"}]},\"layout\":{\"annotationdefaults\":{\"arrowcolor\":\"#2a3f5f\",\"arrowhead\":0,\"arrowwidth\":1},\"autotypenumbers\":\"strict\",\"coloraxis\":{\"colorbar\":{\"outlinewidth\":0,\"ticks\":\"\"}},\"colorscale\":{\"diverging\":[[0,\"#8e0152\"],[0.1,\"#c51b7d\"],[0.2,\"#de77ae\"],[0.3,\"#f1b6da\"],[0.4,\"#fde0ef\"],[0.5,\"#f7f7f7\"],[0.6,\"#e6f5d0\"],[0.7,\"#b8e186\"],[0.8,\"#7fbc41\"],[0.9,\"#4d9221\"],[1,\"#276419\"]],\"sequential\":[[0.0,\"#0d0887\"],[0.1111111111111111,\"#46039f\"],[0.2222222222222222,\"#7201a8\"],[0.3333333333333333,\"#9c179e\"],[0.4444444444444444,\"#bd3786\"],[0.5555555555555556,\"#d8576b\"],[0.6666666666666666,\"#ed7953\"],[0.7777777777777778,\"#fb9f3a\"],[0.8888888888888888,\"#fdca26\"],[1.0,\"#f0f921\"]],\"sequentialminus\":[[0.0,\"#0d0887\"],[0.1111111111111111,\"#46039f\"],[0.2222222222222222,\"#7201a8\"],[0.3333333333333333,\"#9c179e\"],[0.4444444444444444,\"#bd3786\"],[0.5555555555555556,\"#d8576b\"],[0.6666666666666666,\"#ed7953\"],[0.7777777777777778,\"#fb9f3a\"],[0.8888888888888888,\"#fdca26\"],[1.0,\"#f0f921\"]]},\"colorway\":[\"#636efa\",\"#EF553B\",\"#00cc96\",\"#ab63fa\",\"#FFA15A\",\"#19d3f3\",\"#FF6692\",\"#B6E880\",\"#FF97FF\",\"#FECB52\"],\"font\":{\"color\":\"#2a3f5f\"},\"geo\":{\"bgcolor\":\"white\",\"lakecolor\":\"white\",\"landcolor\":\"#E5ECF6\",\"showlakes\":true,\"showland\":true,\"subunitcolor\":\"white\"},\"hoverlabel\":{\"align\":\"left\"},\"hovermode\":\"closest\",\"mapbox\":{\"style\":\"light\"},\"paper_bgcolor\":\"white\",\"plot_bgcolor\":\"#E5ECF6\",\"polar\":{\"angularaxis\":{\"gridcolor\":\"white\",\"linecolor\":\"white\",\"ticks\":\"\"},\"bgcolor\":\"#E5ECF6\",\"radialaxis\":{\"gridcolor\":\"white\",\"linecolor\":\"white\",\"ticks\":\"\"}},\"scene\":{\"xaxis\":{\"backgroundcolor\":\"#E5ECF6\",\"gridcolor\":\"white\",\"gridwidth\":2,\"linecolor\":\"white\",\"showbackground\":true,\"ticks\":\"\",\"zerolinecolor\":\"white\"},\"yaxis\":{\"backgroundcolor\":\"#E5ECF6\",\"gridcolor\":\"white\",\"gridwidth\":2,\"linecolor\":\"white\",\"showbackground\":true,\"ticks\":\"\",\"zerolinecolor\":\"white\"},\"zaxis\":{\"backgroundcolor\":\"#E5ECF6\",\"gridcolor\":\"white\",\"gridwidth\":2,\"linecolor\":\"white\",\"showbackground\":true,\"ticks\":\"\",\"zerolinecolor\":\"white\"}},\"shapedefaults\":{\"line\":{\"color\":\"#2a3f5f\"}},\"ternary\":{\"aaxis\":{\"gridcolor\":\"white\",\"linecolor\":\"white\",\"ticks\":\"\"},\"baxis\":{\"gridcolor\":\"white\",\"linecolor\":\"white\",\"ticks\":\"\"},\"bgcolor\":\"#E5ECF6\",\"caxis\":{\"gridcolor\":\"white\",\"linecolor\":\"white\",\"ticks\":\"\"}},\"title\":{\"x\":0.05},\"xaxis\":{\"automargin\":true,\"gridcolor\":\"white\",\"linecolor\":\"white\",\"ticks\":\"\",\"title\":{\"standoff\":15},\"zerolinecolor\":\"white\",\"zerolinewidth\":2},\"yaxis\":{\"automargin\":true,\"gridcolor\":\"white\",\"linecolor\":\"white\",\"ticks\":\"\",\"title\":{\"standoff\":15},\"zerolinecolor\":\"white\",\"zerolinewidth\":2}}},\"xaxis\":{\"anchor\":\"y\",\"domain\":[0.0,1.0],\"title\":{\"text\":\"Season\"}},\"yaxis\":{\"anchor\":\"x\",\"domain\":[0.0,1.0],\"title\":{\"text\":\"r\"}},\"legend\":{\"tracegroupgap\":0},\"title\":{\"text\":\"AL/NL Pitching: Team-level correlation between strikeout rate and runs allowed per nine innings\"}},                        {\"responsive\": true}                    ).then(function(){\n",
              "                            \n",
              "var gd = document.getElementById('4d116ee2-9a71-40c2-8431-e6a93131cf95');\n",
              "var x = new MutationObserver(function (mutations, observer) {{\n",
              "        var display = window.getComputedStyle(gd).display;\n",
              "        if (!display || display === 'none') {{\n",
              "            console.log([gd, 'removed!']);\n",
              "            Plotly.purge(gd);\n",
              "            observer.disconnect();\n",
              "        }}\n",
              "}});\n",
              "\n",
              "// Listen for the removal of the full notebook cells\n",
              "var notebookContainer = gd.closest('#notebook-container');\n",
              "if (notebookContainer) {{\n",
              "    x.observe(notebookContainer, {childList: true});\n",
              "}}\n",
              "\n",
              "// Listen for the clearing of the current output cell\n",
              "var outputEl = gd.closest('.output');\n",
              "if (outputEl) {{\n",
              "    x.observe(outputEl, {childList: true});\n",
              "}}\n",
              "\n",
              "                        })                };                            </script>        </div>\n",
              "</body>\n",
              "</html>"
            ]
          },
          "metadata": {}
        }
      ]
    },
    {
      "cell_type": "code",
      "source": [
        "#do the same, but for offense\n",
        "\n",
        "header = \"\"\"date,number_of_game,day_of_week,v_name,v_league,v_game_number,h_name,h_league,h_game_number,v_score,h_score,length_outs,day_night,completion,forefeit,protest,park_id,attendance,length_minutes,v_line_score,h_line_score,v_at_bats,v_hits,v_doubles,v_triples,v_homeruns,v_rbi,v_sacrifice_hits,v_sacrifice_flies,v_hit_by_pitch,v_walks,v_intentional walks,v_strikeouts,v_stolen_bases,v_caught_stealing,v_grounded_into_double,v_first_catcher_interference,v_left_on_base,v_pitchers_used,v_individual_earned_runs,v_team_earned_runs,v_wild_pitches,v_balks,v_putouts,v_assists,v_errors,v_passed_balls,v_double_plays,v_triple_plays,h_at_bats,h_hits,h_doubles,h_triples,h_homeruns,h_rbi,h_sacrifice_hits,h_sacrifice_flies,h_hit_by_pitch,h_walks,h_intentional walks,h_strikeouts,h_stolen_bases,h_caught_stealing,h_grounded_into_double,h_first_catcher_interference,h_left_on_base,h_pitchers_used,h_individual_earned_runs,h_team_earned_runs,h_wild_pitches,h_balks,h_putouts,h_assists,h_errors,h_passed_balls,h_double_plays,h_triple_plays,hp_umpire_id,hp_umpire_name,1b_umpire_id,1b_umpire_name,2b_umpire_id,2b_umpire_name,3b_umpire_id,3b_umpire_name,lf_umpire_id,lf_umpire_name,rf_umpire_id,rf_umpire_name,v_manager_id,v_manager_name,h_manager_id,h_manager_name,winning_pitcher_id,winning_pitcher_name,losing_pitcher_id,losing_pitcher_name,saving_pitcher_id,saving_pitcher_name,winning_rbi_batter_id,winning_rbi_batter_id_name,v_starting_pitcher_id,v_starting_pitcher_name,h_starting_pitcher_id,h_starting_pitcher_name,v_player_1_id,v_player_1_name,v_player_1_def_pos,v_player_2_id,v_player_2_name,v_player_2_def_pos,v_player_3_id,v_player_3_name,v_player_3_def_pos,v_player_4_id,v_player_4_name,v_player_4_def_pos,v_player_5_id,v_player_5_name,v_player_5_def_pos,v_player_6_id,v_player_6_name,v_player_6_def_pos,v_player_7_id,v_player_7_name,v_player_7_def_pos,v_player_8_id,v_player_8_name,v_player_8_def_pos,v_player_9_id,v_player_9_name,v_player_9_def_pos,h_player_1_id,h_player_1_name,h_player_1_def_pos,h_player_2_id,h_player_2_name,h_player_2_def_pos,h_player_3_id,h_player_3_name,h_player_3_def_pos,h_player_4_id,h_player_4_name,h_player_4_def_pos,h_player_5_id,h_player_5_name,h_player_5_def_pos,h_player_6_id,h_player_6_name,h_player_6_def_pos,h_player_7_id,h_player_7_name,h_player_7_def_pos,h_player_8_id,h_player_8_name,h_player_8_def_pos,h_player_9_id,h_player_9_name,h_player_9_def_pos,additional_info,acquisition_info\"\"\"\n",
        "head_list=header.split(',')\n",
        "\n",
        "off_list=[]\n",
        "\n",
        "\n",
        "#Getting data from 1914 to 2021 (Retrosheet's website says it has data for \"well over half of the games in all seasons back to 1914\")\n",
        "\n",
        "for year in range(1914,2022):\n",
        "  df=pd.read_csv('/content/drive/My Drive/gl1871_2021/GL'+str(year)+'.TXT',header=None)\n",
        "  df.set_axis(head_list, axis=1,inplace=True)\n",
        "  df.columns[0:100]\n",
        "  df['date']=df['date'].astype(str)\n",
        "\n",
        "  df['season']=df['date'].str[0:4]\n",
        "  df=df[['season','date', 'number_of_game','v_name', 'v_league',\n",
        "       'v_game_number', 'h_name', 'h_league', 'h_game_number', 'v_score',\n",
        "      'h_score', 'length_outs','v_at_bats', 'v_hits', 'v_doubles', 'v_triples',\n",
        "       'v_homeruns', 'v_rbi', 'v_sacrifice_hits', 'v_sacrifice_flies',\n",
        "       'v_hit_by_pitch', 'v_walks', 'v_intentional walks', 'v_strikeouts',\n",
        "       'v_stolen_bases', 'v_caught_stealing', 'v_grounded_into_double',\n",
        "       'v_first_catcher_interference', 'v_left_on_base', 'v_pitchers_used',\n",
        "       'v_individual_earned_runs', 'v_team_earned_runs', 'v_wild_pitches',\n",
        "       'v_balks', 'v_putouts', 'v_assists', 'v_errors', 'v_passed_balls',\n",
        "       'v_double_plays', 'v_triple_plays', 'h_at_bats', 'h_hits', 'h_doubles',\n",
        "       'h_triples', 'h_homeruns', 'h_rbi', 'h_sacrifice_hits',\n",
        "       'h_sacrifice_flies', 'h_hit_by_pitch', 'h_walks', 'h_intentional walks',\n",
        "       'h_strikeouts', 'h_stolen_bases', 'h_caught_stealing',\n",
        "       'h_grounded_into_double', 'h_first_catcher_interference','h_putouts']]\n",
        "\n",
        "\n",
        "  #calculating total plate appearances for home and away teams\n",
        "  df['v_PA']=df['v_at_bats'] + df['v_walks'] + df['v_hit_by_pitch'] + df['v_sacrifice_flies'] + df['v_sacrifice_hits'] + df['v_first_catcher_interference']\n",
        "\n",
        "  df['h_PA']=df['h_at_bats'] + df['h_walks'] + df['h_hit_by_pitch'] + df['h_sacrifice_flies'] + df['h_sacrifice_hits'] + df['h_first_catcher_interference']\n",
        "\n",
        "\n",
        "  #aggregating by home and away team and merging dataframes\n",
        "  home_df = df[['h_name','h_strikeouts','h_PA','h_score','v_putouts','h_at_bats', 'h_hits', 'h_doubles',\n",
        "       'h_triples', 'h_homeruns', 'h_rbi', 'h_sacrifice_hits',\n",
        "       'h_sacrifice_flies', 'h_hit_by_pitch', 'h_walks']]\n",
        "  home_df = home_df.groupby(['h_name']).agg('sum')\n",
        "  home_df['season'] = year\n",
        "  \n",
        "\n",
        "\n",
        "  away_df = df[['v_name','v_strikeouts', 'v_PA', 'v_score', 'h_putouts','v_at_bats', 'v_hits', 'v_doubles', 'v_triples',\n",
        "       'v_homeruns', 'v_rbi', 'v_sacrifice_hits', 'v_sacrifice_flies',\n",
        "       'v_hit_by_pitch', 'v_walks']]\n",
        "  away_df = away_df.groupby(['v_name']).agg('sum')\n",
        "\n",
        "  merged_df=away_df.merge(home_df,right_index=True,left_index=True)\n",
        "  \n",
        "  \n",
        "\n",
        "  #get team totals, strikeout rates and innings totals\n",
        "  merged_df['Ks'] = merged_df['h_strikeouts']+merged_df['v_strikeouts']\n",
        "  merged_df['TBF'] = merged_df['v_PA']+merged_df['h_PA']\n",
        "  merged_df['RS'] = merged_df['v_score']+merged_df['h_score']\n",
        "  merged_df['Outs'] = merged_df['v_putouts']+merged_df['h_putouts']\n",
        "  merged_df['IP'] = merged_df['Outs']/3\n",
        "  merged_df['RS/9'] = round(merged_df['RS']/merged_df['IP']*9,2)\n",
        "  \n",
        "\n",
        "  #calculated stats\n",
        "  merged_df['SO%'] = merged_df['Ks']/merged_df['TBF']\n",
        "  merged_df['HR'] = merged_df['h_homeruns']+merged_df['v_homeruns']\n",
        "  merged_df['H'] = merged_df['h_hits']+merged_df['v_hits']\n",
        "  merged_df['BB'] = merged_df['h_walks']+merged_df['v_walks']\n",
        "  merged_df['2B'] = merged_df['h_doubles']+merged_df['v_doubles']\n",
        "  merged_df['3B'] = merged_df['h_triples']+merged_df['v_triples']\n",
        "  merged_df['HBP'] = merged_df['h_hit_by_pitch']+merged_df['v_hit_by_pitch']\n",
        "  merged_df['AB'] = merged_df['h_at_bats']+merged_df['v_at_bats']\n",
        "  merged_df['SF'] = merged_df['h_sacrifice_flies']+merged_df['v_sacrifice_flies']\n",
        "  merged_df['BB%'] = merged_df['BB']/merged_df['TBF']\n",
        "  merged_df['BABIP'] = round((merged_df['H'] - merged_df['HR'])/(merged_df['AB'] - merged_df['Ks'] - merged_df['HR'] + merged_df['SF']),3)\n",
        "  merged_df['BACON'] = round((merged_df['H'])/(merged_df['AB'] - merged_df['Ks'] + merged_df['SF']),3)\n",
        "  merged_df['Extra-base Hits'] = merged_df['HR'] + merged_df['2B'] + merged_df['3B']\n",
        "  merged_df[\"1B\"] = merged_df['H'] - merged_df['Extra-base Hits']\n",
        "  merged_df['Total Bases'] = merged_df['1B'] + merged_df['2B']*2 + merged_df['3B']*3 + merged_df['HR']*4\n",
        "  merged_df['SLG'] = round(merged_df['Total Bases']/merged_df['AB'],3)\n",
        "  merged_df['PF'] = round(merged_df['Total Bases']/merged_df['H'],2)\n",
        "  merged_df['HR%'] = round(merged_df['HR']/merged_df['TBF'],3)\n",
        "  merged_df['AVG'] = round(merged_df['H']/merged_df['AB'],3)\n",
        "  merged_df['ISO'] = round(merged_df['SLG'] - merged_df['AVG'],3)\n",
        "  \n",
        "  \n",
        "  merged_df['next_year'] = merged_df['season'] + 1\n",
        "\n",
        "\n",
        "\n",
        "\n",
        "  off_list.append(merged_df)\n",
        "  off_df=pd.concat(off_list)\n"
      ],
      "metadata": {
        "id": "QtDU55ZPwglu"
      },
      "execution_count": null,
      "outputs": []
    },
    {
      "cell_type": "code",
      "source": [
        "#annual correlation between runs scored per 9 innings and offensive strikeout rate\n",
        "\n",
        "correlation_list=[]\n",
        "correlation_df=pd.DataFrame()\n",
        "year_list=[]\n",
        "\n",
        "for year in off_df['season'].unique():\n",
        "  team_df = off_df[off_df['season']==year]\n",
        "  team_df['SO%'] = team_df['Ks']/team_df['TBF']\n",
        "  team_df['RS/9'] = team_df['RS']/team_df['IP']*9\n",
        "  year_list.append(year)\n",
        "  correlation_list.append(round(team_df['SO%'].corr(team_df['RS/9']),2))\n",
        "\n",
        "\n",
        "correlation_df['Season']=year_list\n",
        "correlation_df['Hitting']=correlation_list;\n"
      ],
      "metadata": {
        "id": "BjpOn7bUxhOY"
      },
      "execution_count": null,
      "outputs": []
    },
    {
      "cell_type": "code",
      "source": [
        "#plot annual correlation for offense (and defense/pitching for comparison)\n",
        "\n",
        "fig = go.Figure()\n",
        "\n",
        "fig.add_trace(go.Scatter(\n",
        "    name='Pitching (SO% and R/9)',\n",
        "    x=pitching_corr['Season'],\n",
        "    y=pitching_corr['Pitching'],\n",
        "    visible='legendonly'\n",
        "))\n",
        "\n",
        "fig.add_trace(go.Scatter(\n",
        "    name='Hitting (SO% and R/G)',\n",
        "    x=correlation_df['Season'],\n",
        "    y=correlation_df['Hitting']\n",
        "))\n",
        "\n",
        "\n",
        "\n",
        "fig.update_layout(\n",
        "    title='AL/NL: Correlation Between Strikeout Rate and Scoring (1916 - 2021)',\n",
        "    yaxis_title=\"r\",\n",
        "    )\n",
        "\n",
        "\n",
        "\n",
        "\n",
        "fig.show()"
      ],
      "metadata": {
        "colab": {
          "base_uri": "https://localhost:8080/",
          "height": 542
        },
        "id": "EgW9nQH_12A9",
        "outputId": "f4ded09c-7af1-47b7-b18a-ed58b6a9bb3e"
      },
      "execution_count": 25,
      "outputs": [
        {
          "output_type": "display_data",
          "data": {
            "text/html": [
              "<html>\n",
              "<head><meta charset=\"utf-8\" /></head>\n",
              "<body>\n",
              "    <div>            <script src=\"https://cdnjs.cloudflare.com/ajax/libs/mathjax/2.7.5/MathJax.js?config=TeX-AMS-MML_SVG\"></script><script type=\"text/javascript\">if (window.MathJax) {MathJax.Hub.Config({SVG: {font: \"STIX-Web\"}});}</script>                <script type=\"text/javascript\">window.PlotlyConfig = {MathJaxConfig: 'local'};</script>\n",
              "        <script src=\"https://cdn.plot.ly/plotly-2.8.3.min.js\"></script>                <div id=\"c2684f5e-3889-478a-b0e4-442b946f6181\" class=\"plotly-graph-div\" style=\"height:525px; width:100%;\"></div>            <script type=\"text/javascript\">                                    window.PLOTLYENV=window.PLOTLYENV || {};                                    if (document.getElementById(\"c2684f5e-3889-478a-b0e4-442b946f6181\")) {                    Plotly.newPlot(                        \"c2684f5e-3889-478a-b0e4-442b946f6181\",                        [{\"name\":\"Pitching (SO% and R/9)\",\"visible\":\"legendonly\",\"x\":[1914,1915,1916,1917,1918,1919,1920,1921,1922,1923,1924,1925,1926,1927,1928,1929,1930,1931,1932,1933,1934,1935,1936,1937,1938,1939,1940,1941,1942,1943,1944,1945,1946,1947,1948,1949,1950,1951,1952,1953,1954,1955,1956,1957,1958,1959,1960,1961,1962,1963,1964,1965,1966,1967,1968,1969,1970,1971,1972,1973,1974,1975,1976,1977,1978,1979,1980,1981,1982,1983,1984,1985,1986,1987,1988,1989,1990,1991,1992,1993,1994,1995,1996,1997,1998,1999,2000,2001,2002,2003,2004,2005,2006,2007,2008,2009,2010,2011,2012,2013,2014,2015,2016,2017,2018,2019,2020,2021],\"y\":[-0.51,-0.14,-0.5,-0.36,-0.78,-0.29,-0.3,-0.52,-0.39,-0.59,-0.57,-0.5,-0.63,-0.55,-0.6,-0.42,-0.6,-0.51,-0.35,-0.15,-0.63,-0.87,-0.63,-0.45,-0.07,-0.68,-0.49,-0.57,-0.63,-0.39,-0.38,-0.69,-0.45,-0.4,-0.61,-0.77,-0.73,-0.59,-0.51,-0.39,-0.64,-0.7,-0.53,-0.38,-0.02,-0.23,-0.52,-0.36,-0.48,-0.67,-0.42,-0.4,-0.48,-0.2,-0.5,-0.31,-0.21,-0.33,-0.1,-0.27,0.03,-0.19,-0.29,-0.41,-0.36,-0.59,-0.38,-0.47,-0.39,-0.62,-0.41,-0.51,-0.48,-0.42,-0.61,-0.39,-0.39,-0.52,-0.39,-0.65,-0.62,-0.73,-0.74,-0.73,-0.77,-0.8,-0.59,-0.62,-0.54,-0.71,-0.62,-0.54,-0.5,-0.37,-0.72,-0.66,-0.53,-0.64,-0.65,-0.68,-0.68,-0.62,-0.75,-0.85,-0.81,-0.75,-0.64,-0.73],\"type\":\"scatter\"},{\"name\":\"Hitting (SO% and R/G)\",\"x\":[1914,1915,1916,1917,1918,1919,1920,1921,1922,1923,1924,1925,1926,1927,1928,1929,1930,1931,1932,1933,1934,1935,1936,1937,1938,1939,1940,1941,1942,1943,1944,1945,1946,1947,1948,1949,1950,1951,1952,1953,1954,1955,1956,1957,1958,1959,1960,1961,1962,1963,1964,1965,1966,1967,1968,1969,1970,1971,1972,1973,1974,1975,1976,1977,1978,1979,1980,1981,1982,1983,1984,1985,1986,1987,1988,1989,1990,1991,1992,1993,1994,1995,1996,1997,1998,1999,2000,2001,2002,2003,2004,2005,2006,2007,2008,2009,2010,2011,2012,2013,2014,2015,2016,2017,2018,2019,2020,2021],\"y\":[-0.6,-0.22,-0.56,-0.48,-0.45,-0.51,-0.2,-0.12,-0.43,-0.36,-0.23,-0.27,0.03,0.12,-0.11,0.18,-0.09,0.1,0.24,0.35,-0.15,-0.36,-0.33,-0.16,0.01,0.16,0.03,-0.17,-0.0,-0.36,0.26,-0.46,-0.06,-0.18,-0.34,-0.4,-0.41,-0.15,-0.04,-0.04,-0.5,-0.26,-0.33,-0.17,0.33,-0.01,-0.56,-0.4,-0.28,-0.55,-0.31,-0.36,-0.27,-0.23,-0.25,-0.34,-0.36,-0.32,-0.18,-0.11,0.01,-0.03,-0.21,-0.4,-0.08,-0.15,-0.39,-0.42,-0.38,-0.47,-0.02,-0.32,-0.26,-0.16,-0.34,-0.42,-0.15,-0.24,-0.2,-0.1,-0.44,-0.54,-0.56,-0.42,-0.36,-0.32,-0.34,-0.25,-0.45,-0.41,-0.18,0.03,-0.07,-0.02,-0.06,-0.11,-0.12,-0.51,-0.36,-0.41,-0.31,-0.15,-0.23,-0.21,-0.52,-0.59,-0.47,-0.39],\"type\":\"scatter\"}],                        {\"template\":{\"data\":{\"bar\":[{\"error_x\":{\"color\":\"#2a3f5f\"},\"error_y\":{\"color\":\"#2a3f5f\"},\"marker\":{\"line\":{\"color\":\"#E5ECF6\",\"width\":0.5},\"pattern\":{\"fillmode\":\"overlay\",\"size\":10,\"solidity\":0.2}},\"type\":\"bar\"}],\"barpolar\":[{\"marker\":{\"line\":{\"color\":\"#E5ECF6\",\"width\":0.5},\"pattern\":{\"fillmode\":\"overlay\",\"size\":10,\"solidity\":0.2}},\"type\":\"barpolar\"}],\"carpet\":[{\"aaxis\":{\"endlinecolor\":\"#2a3f5f\",\"gridcolor\":\"white\",\"linecolor\":\"white\",\"minorgridcolor\":\"white\",\"startlinecolor\":\"#2a3f5f\"},\"baxis\":{\"endlinecolor\":\"#2a3f5f\",\"gridcolor\":\"white\",\"linecolor\":\"white\",\"minorgridcolor\":\"white\",\"startlinecolor\":\"#2a3f5f\"},\"type\":\"carpet\"}],\"choropleth\":[{\"colorbar\":{\"outlinewidth\":0,\"ticks\":\"\"},\"type\":\"choropleth\"}],\"contour\":[{\"colorbar\":{\"outlinewidth\":0,\"ticks\":\"\"},\"colorscale\":[[0.0,\"#0d0887\"],[0.1111111111111111,\"#46039f\"],[0.2222222222222222,\"#7201a8\"],[0.3333333333333333,\"#9c179e\"],[0.4444444444444444,\"#bd3786\"],[0.5555555555555556,\"#d8576b\"],[0.6666666666666666,\"#ed7953\"],[0.7777777777777778,\"#fb9f3a\"],[0.8888888888888888,\"#fdca26\"],[1.0,\"#f0f921\"]],\"type\":\"contour\"}],\"contourcarpet\":[{\"colorbar\":{\"outlinewidth\":0,\"ticks\":\"\"},\"type\":\"contourcarpet\"}],\"heatmap\":[{\"colorbar\":{\"outlinewidth\":0,\"ticks\":\"\"},\"colorscale\":[[0.0,\"#0d0887\"],[0.1111111111111111,\"#46039f\"],[0.2222222222222222,\"#7201a8\"],[0.3333333333333333,\"#9c179e\"],[0.4444444444444444,\"#bd3786\"],[0.5555555555555556,\"#d8576b\"],[0.6666666666666666,\"#ed7953\"],[0.7777777777777778,\"#fb9f3a\"],[0.8888888888888888,\"#fdca26\"],[1.0,\"#f0f921\"]],\"type\":\"heatmap\"}],\"heatmapgl\":[{\"colorbar\":{\"outlinewidth\":0,\"ticks\":\"\"},\"colorscale\":[[0.0,\"#0d0887\"],[0.1111111111111111,\"#46039f\"],[0.2222222222222222,\"#7201a8\"],[0.3333333333333333,\"#9c179e\"],[0.4444444444444444,\"#bd3786\"],[0.5555555555555556,\"#d8576b\"],[0.6666666666666666,\"#ed7953\"],[0.7777777777777778,\"#fb9f3a\"],[0.8888888888888888,\"#fdca26\"],[1.0,\"#f0f921\"]],\"type\":\"heatmapgl\"}],\"histogram\":[{\"marker\":{\"pattern\":{\"fillmode\":\"overlay\",\"size\":10,\"solidity\":0.2}},\"type\":\"histogram\"}],\"histogram2d\":[{\"colorbar\":{\"outlinewidth\":0,\"ticks\":\"\"},\"colorscale\":[[0.0,\"#0d0887\"],[0.1111111111111111,\"#46039f\"],[0.2222222222222222,\"#7201a8\"],[0.3333333333333333,\"#9c179e\"],[0.4444444444444444,\"#bd3786\"],[0.5555555555555556,\"#d8576b\"],[0.6666666666666666,\"#ed7953\"],[0.7777777777777778,\"#fb9f3a\"],[0.8888888888888888,\"#fdca26\"],[1.0,\"#f0f921\"]],\"type\":\"histogram2d\"}],\"histogram2dcontour\":[{\"colorbar\":{\"outlinewidth\":0,\"ticks\":\"\"},\"colorscale\":[[0.0,\"#0d0887\"],[0.1111111111111111,\"#46039f\"],[0.2222222222222222,\"#7201a8\"],[0.3333333333333333,\"#9c179e\"],[0.4444444444444444,\"#bd3786\"],[0.5555555555555556,\"#d8576b\"],[0.6666666666666666,\"#ed7953\"],[0.7777777777777778,\"#fb9f3a\"],[0.8888888888888888,\"#fdca26\"],[1.0,\"#f0f921\"]],\"type\":\"histogram2dcontour\"}],\"mesh3d\":[{\"colorbar\":{\"outlinewidth\":0,\"ticks\":\"\"},\"type\":\"mesh3d\"}],\"parcoords\":[{\"line\":{\"colorbar\":{\"outlinewidth\":0,\"ticks\":\"\"}},\"type\":\"parcoords\"}],\"pie\":[{\"automargin\":true,\"type\":\"pie\"}],\"scatter\":[{\"marker\":{\"colorbar\":{\"outlinewidth\":0,\"ticks\":\"\"}},\"type\":\"scatter\"}],\"scatter3d\":[{\"line\":{\"colorbar\":{\"outlinewidth\":0,\"ticks\":\"\"}},\"marker\":{\"colorbar\":{\"outlinewidth\":0,\"ticks\":\"\"}},\"type\":\"scatter3d\"}],\"scattercarpet\":[{\"marker\":{\"colorbar\":{\"outlinewidth\":0,\"ticks\":\"\"}},\"type\":\"scattercarpet\"}],\"scattergeo\":[{\"marker\":{\"colorbar\":{\"outlinewidth\":0,\"ticks\":\"\"}},\"type\":\"scattergeo\"}],\"scattergl\":[{\"marker\":{\"colorbar\":{\"outlinewidth\":0,\"ticks\":\"\"}},\"type\":\"scattergl\"}],\"scattermapbox\":[{\"marker\":{\"colorbar\":{\"outlinewidth\":0,\"ticks\":\"\"}},\"type\":\"scattermapbox\"}],\"scatterpolar\":[{\"marker\":{\"colorbar\":{\"outlinewidth\":0,\"ticks\":\"\"}},\"type\":\"scatterpolar\"}],\"scatterpolargl\":[{\"marker\":{\"colorbar\":{\"outlinewidth\":0,\"ticks\":\"\"}},\"type\":\"scatterpolargl\"}],\"scatterternary\":[{\"marker\":{\"colorbar\":{\"outlinewidth\":0,\"ticks\":\"\"}},\"type\":\"scatterternary\"}],\"surface\":[{\"colorbar\":{\"outlinewidth\":0,\"ticks\":\"\"},\"colorscale\":[[0.0,\"#0d0887\"],[0.1111111111111111,\"#46039f\"],[0.2222222222222222,\"#7201a8\"],[0.3333333333333333,\"#9c179e\"],[0.4444444444444444,\"#bd3786\"],[0.5555555555555556,\"#d8576b\"],[0.6666666666666666,\"#ed7953\"],[0.7777777777777778,\"#fb9f3a\"],[0.8888888888888888,\"#fdca26\"],[1.0,\"#f0f921\"]],\"type\":\"surface\"}],\"table\":[{\"cells\":{\"fill\":{\"color\":\"#EBF0F8\"},\"line\":{\"color\":\"white\"}},\"header\":{\"fill\":{\"color\":\"#C8D4E3\"},\"line\":{\"color\":\"white\"}},\"type\":\"table\"}]},\"layout\":{\"annotationdefaults\":{\"arrowcolor\":\"#2a3f5f\",\"arrowhead\":0,\"arrowwidth\":1},\"autotypenumbers\":\"strict\",\"coloraxis\":{\"colorbar\":{\"outlinewidth\":0,\"ticks\":\"\"}},\"colorscale\":{\"diverging\":[[0,\"#8e0152\"],[0.1,\"#c51b7d\"],[0.2,\"#de77ae\"],[0.3,\"#f1b6da\"],[0.4,\"#fde0ef\"],[0.5,\"#f7f7f7\"],[0.6,\"#e6f5d0\"],[0.7,\"#b8e186\"],[0.8,\"#7fbc41\"],[0.9,\"#4d9221\"],[1,\"#276419\"]],\"sequential\":[[0.0,\"#0d0887\"],[0.1111111111111111,\"#46039f\"],[0.2222222222222222,\"#7201a8\"],[0.3333333333333333,\"#9c179e\"],[0.4444444444444444,\"#bd3786\"],[0.5555555555555556,\"#d8576b\"],[0.6666666666666666,\"#ed7953\"],[0.7777777777777778,\"#fb9f3a\"],[0.8888888888888888,\"#fdca26\"],[1.0,\"#f0f921\"]],\"sequentialminus\":[[0.0,\"#0d0887\"],[0.1111111111111111,\"#46039f\"],[0.2222222222222222,\"#7201a8\"],[0.3333333333333333,\"#9c179e\"],[0.4444444444444444,\"#bd3786\"],[0.5555555555555556,\"#d8576b\"],[0.6666666666666666,\"#ed7953\"],[0.7777777777777778,\"#fb9f3a\"],[0.8888888888888888,\"#fdca26\"],[1.0,\"#f0f921\"]]},\"colorway\":[\"#636efa\",\"#EF553B\",\"#00cc96\",\"#ab63fa\",\"#FFA15A\",\"#19d3f3\",\"#FF6692\",\"#B6E880\",\"#FF97FF\",\"#FECB52\"],\"font\":{\"color\":\"#2a3f5f\"},\"geo\":{\"bgcolor\":\"white\",\"lakecolor\":\"white\",\"landcolor\":\"#E5ECF6\",\"showlakes\":true,\"showland\":true,\"subunitcolor\":\"white\"},\"hoverlabel\":{\"align\":\"left\"},\"hovermode\":\"closest\",\"mapbox\":{\"style\":\"light\"},\"paper_bgcolor\":\"white\",\"plot_bgcolor\":\"#E5ECF6\",\"polar\":{\"angularaxis\":{\"gridcolor\":\"white\",\"linecolor\":\"white\",\"ticks\":\"\"},\"bgcolor\":\"#E5ECF6\",\"radialaxis\":{\"gridcolor\":\"white\",\"linecolor\":\"white\",\"ticks\":\"\"}},\"scene\":{\"xaxis\":{\"backgroundcolor\":\"#E5ECF6\",\"gridcolor\":\"white\",\"gridwidth\":2,\"linecolor\":\"white\",\"showbackground\":true,\"ticks\":\"\",\"zerolinecolor\":\"white\"},\"yaxis\":{\"backgroundcolor\":\"#E5ECF6\",\"gridcolor\":\"white\",\"gridwidth\":2,\"linecolor\":\"white\",\"showbackground\":true,\"ticks\":\"\",\"zerolinecolor\":\"white\"},\"zaxis\":{\"backgroundcolor\":\"#E5ECF6\",\"gridcolor\":\"white\",\"gridwidth\":2,\"linecolor\":\"white\",\"showbackground\":true,\"ticks\":\"\",\"zerolinecolor\":\"white\"}},\"shapedefaults\":{\"line\":{\"color\":\"#2a3f5f\"}},\"ternary\":{\"aaxis\":{\"gridcolor\":\"white\",\"linecolor\":\"white\",\"ticks\":\"\"},\"baxis\":{\"gridcolor\":\"white\",\"linecolor\":\"white\",\"ticks\":\"\"},\"bgcolor\":\"#E5ECF6\",\"caxis\":{\"gridcolor\":\"white\",\"linecolor\":\"white\",\"ticks\":\"\"}},\"title\":{\"x\":0.05},\"xaxis\":{\"automargin\":true,\"gridcolor\":\"white\",\"linecolor\":\"white\",\"ticks\":\"\",\"title\":{\"standoff\":15},\"zerolinecolor\":\"white\",\"zerolinewidth\":2},\"yaxis\":{\"automargin\":true,\"gridcolor\":\"white\",\"linecolor\":\"white\",\"ticks\":\"\",\"title\":{\"standoff\":15},\"zerolinecolor\":\"white\",\"zerolinewidth\":2}}},\"title\":{\"text\":\"AL/NL: Correlation Between Strikeout Rate and Scoring (1916 - 2021)\"},\"yaxis\":{\"title\":{\"text\":\"r\"}}},                        {\"responsive\": true}                    ).then(function(){\n",
              "                            \n",
              "var gd = document.getElementById('c2684f5e-3889-478a-b0e4-442b946f6181');\n",
              "var x = new MutationObserver(function (mutations, observer) {{\n",
              "        var display = window.getComputedStyle(gd).display;\n",
              "        if (!display || display === 'none') {{\n",
              "            console.log([gd, 'removed!']);\n",
              "            Plotly.purge(gd);\n",
              "            observer.disconnect();\n",
              "        }}\n",
              "}});\n",
              "\n",
              "// Listen for the removal of the full notebook cells\n",
              "var notebookContainer = gd.closest('#notebook-container');\n",
              "if (notebookContainer) {{\n",
              "    x.observe(notebookContainer, {childList: true});\n",
              "}}\n",
              "\n",
              "// Listen for the clearing of the current output cell\n",
              "var outputEl = gd.closest('.output');\n",
              "if (outputEl) {{\n",
              "    x.observe(outputEl, {childList: true});\n",
              "}}\n",
              "\n",
              "                        })                };                            </script>        </div>\n",
              "</body>\n",
              "</html>"
            ]
          },
          "metadata": {}
        }
      ]
    },
    {
      "cell_type": "code",
      "source": [
        "correlation_df.describe()"
      ],
      "metadata": {
        "colab": {
          "base_uri": "https://localhost:8080/",
          "height": 300
        },
        "id": "Q6i7sgTMuNIw",
        "outputId": "8145ada6-074e-4455-f6a1-f1122d2ee680"
      },
      "execution_count": 26,
      "outputs": [
        {
          "output_type": "execute_result",
          "data": {
            "text/plain": [
              "           Season     Hitting\n",
              "count   108.00000  108.000000\n",
              "mean   1967.50000   -0.238148\n",
              "std      31.32092    0.208672\n",
              "min    1914.00000   -0.600000\n",
              "25%    1940.75000   -0.400000\n",
              "50%    1967.50000   -0.255000\n",
              "75%    1994.25000   -0.110000\n",
              "max    2021.00000    0.350000"
            ],
            "text/html": [
              "\n",
              "  <div id=\"df-92393072-df92-4f41-a3cb-57eaa07d6817\">\n",
              "    <div class=\"colab-df-container\">\n",
              "      <div>\n",
              "<style scoped>\n",
              "    .dataframe tbody tr th:only-of-type {\n",
              "        vertical-align: middle;\n",
              "    }\n",
              "\n",
              "    .dataframe tbody tr th {\n",
              "        vertical-align: top;\n",
              "    }\n",
              "\n",
              "    .dataframe thead th {\n",
              "        text-align: right;\n",
              "    }\n",
              "</style>\n",
              "<table border=\"1\" class=\"dataframe\">\n",
              "  <thead>\n",
              "    <tr style=\"text-align: right;\">\n",
              "      <th></th>\n",
              "      <th>Season</th>\n",
              "      <th>Hitting</th>\n",
              "    </tr>\n",
              "  </thead>\n",
              "  <tbody>\n",
              "    <tr>\n",
              "      <th>count</th>\n",
              "      <td>108.00000</td>\n",
              "      <td>108.000000</td>\n",
              "    </tr>\n",
              "    <tr>\n",
              "      <th>mean</th>\n",
              "      <td>1967.50000</td>\n",
              "      <td>-0.238148</td>\n",
              "    </tr>\n",
              "    <tr>\n",
              "      <th>std</th>\n",
              "      <td>31.32092</td>\n",
              "      <td>0.208672</td>\n",
              "    </tr>\n",
              "    <tr>\n",
              "      <th>min</th>\n",
              "      <td>1914.00000</td>\n",
              "      <td>-0.600000</td>\n",
              "    </tr>\n",
              "    <tr>\n",
              "      <th>25%</th>\n",
              "      <td>1940.75000</td>\n",
              "      <td>-0.400000</td>\n",
              "    </tr>\n",
              "    <tr>\n",
              "      <th>50%</th>\n",
              "      <td>1967.50000</td>\n",
              "      <td>-0.255000</td>\n",
              "    </tr>\n",
              "    <tr>\n",
              "      <th>75%</th>\n",
              "      <td>1994.25000</td>\n",
              "      <td>-0.110000</td>\n",
              "    </tr>\n",
              "    <tr>\n",
              "      <th>max</th>\n",
              "      <td>2021.00000</td>\n",
              "      <td>0.350000</td>\n",
              "    </tr>\n",
              "  </tbody>\n",
              "</table>\n",
              "</div>\n",
              "      <button class=\"colab-df-convert\" onclick=\"convertToInteractive('df-92393072-df92-4f41-a3cb-57eaa07d6817')\"\n",
              "              title=\"Convert this dataframe to an interactive table.\"\n",
              "              style=\"display:none;\">\n",
              "        \n",
              "  <svg xmlns=\"http://www.w3.org/2000/svg\" height=\"24px\"viewBox=\"0 0 24 24\"\n",
              "       width=\"24px\">\n",
              "    <path d=\"M0 0h24v24H0V0z\" fill=\"none\"/>\n",
              "    <path d=\"M18.56 5.44l.94 2.06.94-2.06 2.06-.94-2.06-.94-.94-2.06-.94 2.06-2.06.94zm-11 1L8.5 8.5l.94-2.06 2.06-.94-2.06-.94L8.5 2.5l-.94 2.06-2.06.94zm10 10l.94 2.06.94-2.06 2.06-.94-2.06-.94-.94-2.06-.94 2.06-2.06.94z\"/><path d=\"M17.41 7.96l-1.37-1.37c-.4-.4-.92-.59-1.43-.59-.52 0-1.04.2-1.43.59L10.3 9.45l-7.72 7.72c-.78.78-.78 2.05 0 2.83L4 21.41c.39.39.9.59 1.41.59.51 0 1.02-.2 1.41-.59l7.78-7.78 2.81-2.81c.8-.78.8-2.07 0-2.86zM5.41 20L4 18.59l7.72-7.72 1.47 1.35L5.41 20z\"/>\n",
              "  </svg>\n",
              "      </button>\n",
              "      \n",
              "  <style>\n",
              "    .colab-df-container {\n",
              "      display:flex;\n",
              "      flex-wrap:wrap;\n",
              "      gap: 12px;\n",
              "    }\n",
              "\n",
              "    .colab-df-convert {\n",
              "      background-color: #E8F0FE;\n",
              "      border: none;\n",
              "      border-radius: 50%;\n",
              "      cursor: pointer;\n",
              "      display: none;\n",
              "      fill: #1967D2;\n",
              "      height: 32px;\n",
              "      padding: 0 0 0 0;\n",
              "      width: 32px;\n",
              "    }\n",
              "\n",
              "    .colab-df-convert:hover {\n",
              "      background-color: #E2EBFA;\n",
              "      box-shadow: 0px 1px 2px rgba(60, 64, 67, 0.3), 0px 1px 3px 1px rgba(60, 64, 67, 0.15);\n",
              "      fill: #174EA6;\n",
              "    }\n",
              "\n",
              "    [theme=dark] .colab-df-convert {\n",
              "      background-color: #3B4455;\n",
              "      fill: #D2E3FC;\n",
              "    }\n",
              "\n",
              "    [theme=dark] .colab-df-convert:hover {\n",
              "      background-color: #434B5C;\n",
              "      box-shadow: 0px 1px 3px 1px rgba(0, 0, 0, 0.15);\n",
              "      filter: drop-shadow(0px 1px 2px rgba(0, 0, 0, 0.3));\n",
              "      fill: #FFFFFF;\n",
              "    }\n",
              "  </style>\n",
              "\n",
              "      <script>\n",
              "        const buttonEl =\n",
              "          document.querySelector('#df-92393072-df92-4f41-a3cb-57eaa07d6817 button.colab-df-convert');\n",
              "        buttonEl.style.display =\n",
              "          google.colab.kernel.accessAllowed ? 'block' : 'none';\n",
              "\n",
              "        async function convertToInteractive(key) {\n",
              "          const element = document.querySelector('#df-92393072-df92-4f41-a3cb-57eaa07d6817');\n",
              "          const dataTable =\n",
              "            await google.colab.kernel.invokeFunction('convertToInteractive',\n",
              "                                                     [key], {});\n",
              "          if (!dataTable) return;\n",
              "\n",
              "          const docLinkHtml = 'Like what you see? Visit the ' +\n",
              "            '<a target=\"_blank\" href=https://colab.research.google.com/notebooks/data_table.ipynb>data table notebook</a>'\n",
              "            + ' to learn more about interactive tables.';\n",
              "          element.innerHTML = '';\n",
              "          dataTable['output_type'] = 'display_data';\n",
              "          await google.colab.output.renderOutput(dataTable, element);\n",
              "          const docLink = document.createElement('div');\n",
              "          docLink.innerHTML = docLinkHtml;\n",
              "          element.appendChild(docLink);\n",
              "        }\n",
              "      </script>\n",
              "    </div>\n",
              "  </div>\n",
              "  "
            ]
          },
          "metadata": {},
          "execution_count": 26
        }
      ]
    },
    {
      "cell_type": "markdown",
      "source": [
        "When looking at both hitting and pitching, the correlation coefficients generally seem to rise and fall in tanden, with the relationship being stronger for pitchers.\n",
        "\n",
        "We can infer that strikeouts are very good pitchers and while they are bad outcomes for hitters, this is to a lesser degree."
      ],
      "metadata": {
        "id": "MTasuTCC2q6i"
      }
    },
    {
      "cell_type": "markdown",
      "source": [
        "#3. Why Are Things Different For Hitters and Pitchers?\n",
        "Given these figures above, we can conclude that pitchers are incentivized to strike out batters, as an increase in strikeouts correlates with a decrease in runs allowed.\n",
        "\n",
        "The incentive structure is less clear for hitters. While offenses that strikeout more do seem to score less (especially in today's modern, high-strikeout environment), the relationship is not as strong as it is on the pitching side.\n",
        "\n",
        "Why is this?"
      ],
      "metadata": {
        "id": "-5IUeCRS21c6"
      }
    },
    {
      "cell_type": "markdown",
      "source": [
        "## 3a. Distributions of Key Metrics"
      ],
      "metadata": {
        "id": "Sfi0j4Rd9UcF"
      }
    },
    {
      "cell_type": "markdown",
      "source": [
        "The follow charts examine the distributions of four different metrics, that broadly cover how a plate appearance can end.\n",
        "\n",
        "*   Strikeout rate (SO%; did the batter strike out?)\n",
        "*   Walk rate (BB%; did the batter walk?)\n",
        "*   Batting average on contact (BACON; if the batter did not strikeout or walk, this ([almost alwys)](https://www.baseball-reference.com/bullpen/Catcher%27s_interference#:~:text=Catcher's%20interference%20is%20a%20specific,to%20hit%20a%20pitched%20ball.) means they made contact; did this contact result in a hit?)\n",
        "*   Power Factor (PF, measured as total bases per hit; if the batter did get a hit, how many bases did they earn)\n",
        "\n",
        "\n",
        "\n"
      ],
      "metadata": {
        "id": "z3XYCPQoThF5"
      }
    },
    {
      "cell_type": "code",
      "source": [
        "ax = sns.distplot(off_df['SO%'],color='red')\n",
        "\n",
        "ax = sns.distplot(def_df['SO%'],color='blue')"
      ],
      "metadata": {
        "colab": {
          "base_uri": "https://localhost:8080/",
          "height": 279
        },
        "id": "X2Hisi52H5nM",
        "outputId": "0b6ee612-bb42-487f-bedb-b8981b722b81"
      },
      "execution_count": 27,
      "outputs": [
        {
          "output_type": "display_data",
          "data": {
            "text/plain": [
              "<Figure size 432x288 with 1 Axes>"
            ],
            "image/png": "[encoded data removed]"
          },
          "metadata": {
            "needs_background": "light"
          }
        }
      ]
    },
    {
      "cell_type": "code",
      "source": [
        "ax = sns.distplot(off_df['BB%'],color='red')\n",
        "\n",
        "ax = sns.distplot(def_df['BB%'],color='blue')\n",
        "\n"
      ],
      "metadata": {
        "colab": {
          "base_uri": "https://localhost:8080/",
          "height": 279
        },
        "id": "zzwkFXHnID7c",
        "outputId": "a94e2816-30a3-49fd-dcfa-7ecf0cfb84d0"
      },
      "execution_count": 28,
      "outputs": [
        {
          "output_type": "display_data",
          "data": {
            "text/plain": [
              "<Figure size 432x288 with 1 Axes>"
            ],
            "image/png": "[encoded data removed]"
          },
          "metadata": {
            "needs_background": "light"
          }
        }
      ]
    },
    {
      "cell_type": "code",
      "source": [
        "ax = sns.distplot(off_df['BACON'],color='red')\n",
        "\n",
        "ax = sns.distplot(def_df['BACON'],color='blue')"
      ],
      "metadata": {
        "colab": {
          "base_uri": "https://localhost:8080/",
          "height": 279
        },
        "id": "l9UYCIvzIGxI",
        "outputId": "894ed813-bc96-44d5-f4b8-0cb9a606b8ee"
      },
      "execution_count": 29,
      "outputs": [
        {
          "output_type": "display_data",
          "data": {
            "text/plain": [
              "<Figure size 432x288 with 1 Axes>"
            ],
            "image/png": "[encoded data removed]"
          },
          "metadata": {
            "needs_background": "light"
          }
        }
      ]
    },
    {
      "cell_type": "code",
      "source": [
        "ax = sns.distplot(off_df['PF'],color='red')\n",
        "\n",
        "ax = sns.distplot(def_df['PF'],color='blue')"
      ],
      "metadata": {
        "colab": {
          "base_uri": "https://localhost:8080/",
          "height": 279
        },
        "id": "jPa1yKTlDZMd",
        "outputId": "c9b96c28-1ed2-4ac5-ac32-4bfb5604e873"
      },
      "execution_count": 30,
      "outputs": [
        {
          "output_type": "display_data",
          "data": {
            "text/plain": [
              "<Figure size 432x288 with 1 Axes>"
            ],
            "image/png": "[encoded data removed]"
          },
          "metadata": {
            "needs_background": "light"
          }
        }
      ]
    },
    {
      "cell_type": "markdown",
      "source": [
        "The distributions of Power Factors seem to display the biggest difference between hitters and pitchers. Since these stats are on differing scales, we will use the coefficient of variation (standard deviation divided by mean) as a means of comparison.\n",
        "\n"
      ],
      "metadata": {
        "id": "ezcqpZwmUoWV"
      }
    },
    {
      "cell_type": "code",
      "source": [
        "k_list=[]\n",
        "bb_list=[]\n",
        "p_correlation_df=pd.DataFrame()\n",
        "year_list=[]\n",
        "babip_list=[]\n",
        "power_list=[]\n",
        "run_list=[]\n",
        "\n",
        "\n",
        "for year in def_df['season'].unique():\n",
        "  team_df = def_df[def_df['season']==year]\n",
        "  team_df['SO%'] = team_df['Ks']/team_df['TBF']\n",
        "  team_df['BB%'] = team_df['BB']/team_df['TBF']\n",
        "  team_df['BABIP'] = round((team_df['H'] - team_df['HR'])/(team_df['AB'] - team_df['Ks'] - team_df['HR'] + team_df['SF']),3)\n",
        "  team_df[\"1B\"] = team_df['H'] - team_df['Extra-base Hits']\n",
        "  team_df['Total Bases'] = team_df['1B'] + team_df['2B']*2 + team_df['3B']*3 + team_df['HR']*4\n",
        "  team_df['SLG'] = round(team_df['Total Bases']/team_df['AB'],3)\n",
        "  team_df['PF'] = round(team_df['Total Bases']/team_df['H'],2)\n",
        "  #team_df['RA/9'] = team_df['RA']/team_df['IP']*9\n",
        "  year_list.append(year)\n",
        "  k_list.append(team_df['SO%'].std()/team_df['SO%'].mean())\n",
        "  bb_list.append(team_df['BB%'].std()/team_df['BB%'].mean())\n",
        "  babip_list.append(team_df['BACON'].std()/team_df['BACON'].mean())\n",
        "  power_list.append(team_df['PF'].std()/team_df['PF'].mean())\n",
        "  run_list.append(team_df['RA/9'].std()/team_df['RA/9'].mean())\n",
        "\n",
        "\n",
        "\n",
        "p_correlation_df['Season']=(year_list)\n",
        "p_correlation_df['SO%']=(k_list)\n",
        "p_correlation_df['BB%']=bb_list\n",
        "p_correlation_df['BACON']=babip_list\n",
        "p_correlation_df['PF']=power_list\n"
      ],
      "metadata": {
        "id": "xbBzVE8IIxJi"
      },
      "execution_count": null,
      "outputs": []
    },
    {
      "cell_type": "code",
      "source": [
        "k_list=[]\n",
        "bb_list=[]\n",
        "h_correlation_df=pd.DataFrame()\n",
        "year_list=[]\n",
        "babip_list=[]\n",
        "power_list=[]\n",
        "run_list=[]\n",
        "\n",
        "\n",
        "\n",
        "for year in off_df['season'].unique():\n",
        "  team_df = off_df[off_df['season']==year]\n",
        "  team_df['SO%'] = team_df['Ks']/team_df['TBF']\n",
        "  team_df['BB%'] = team_df['BB']/team_df['TBF']\n",
        "  team_df['BABIP'] = round((team_df['H'] - team_df['HR'])/(team_df['AB'] - team_df['Ks'] - team_df['HR'] + team_df['SF']),3)\n",
        "  team_df[\"1B\"] = team_df['H'] - team_df['Extra-base Hits']\n",
        "  team_df['Total Bases'] = team_df['1B'] + team_df['2B']*2 + team_df['3B']*3 + team_df['HR']*4\n",
        "  team_df['SLG'] = round(team_df['Total Bases']/team_df['AB'],3)\n",
        "  team_df['PF'] = round(team_df['Total Bases']/team_df['H'],2)\n",
        "  year_list.append(year)\n",
        "  k_list.append(team_df['SO%'].std()/team_df['SO%'].mean())\n",
        "  bb_list.append(team_df['BB%'].std()/team_df['BB%'].mean())\n",
        "  babip_list.append(team_df['BACON'].std()/team_df['BACON'].mean())\n",
        "  power_list.append(team_df['PF'].std()/team_df['PF'].mean())\n",
        "  run_list.append(team_df['RS/9'].std()/team_df['RS/9'].mean())\n",
        "\n",
        "\n",
        "\n",
        "h_correlation_df['Season']=year_list\n",
        "h_correlation_df['SO%']=k_list\n",
        "h_correlation_df['BB%']=bb_list\n",
        "h_correlation_df['BACON']=babip_list\n",
        "h_correlation_df['PF']=power_list\n",
        "\n",
        "\n"
      ],
      "metadata": {
        "id": "9H5wNWgPKgKq"
      },
      "execution_count": null,
      "outputs": []
    },
    {
      "cell_type": "code",
      "source": [
        "h_cov = pd.DataFrame(h_correlation_df.mean().drop('Season'))\n",
        "\n",
        "h_cov.rename(columns = {0:'Hitters'},inplace=True)\n",
        "\n",
        "p_cov = pd.DataFrame(p_correlation_df.mean().drop('Season'))\n",
        "\n",
        "p_cov.rename(columns = {0:'Pitchers'},inplace=True)\n",
        "\n",
        "cov_df = h_cov.merge(p_cov,right_index=True,left_index=True)\n",
        "\n"
      ],
      "metadata": {
        "id": "RSdfOIHDKoTA"
      },
      "execution_count": 33,
      "outputs": []
    },
    {
      "cell_type": "code",
      "source": [
        "display(cov_df)\n",
        "\n",
        "#cov_df.plot(kind='bar',ylabel='Coefficient of Variation');\n",
        "\n",
        "fig = px.bar(cov_df, x=cov_df.index, y=[\"Pitchers\",\"Hitters\"], barmode='group')\n",
        "fig.update_layout(\n",
        "    yaxis_title=\"Coefficient of Variation\")\n",
        "fig.show()"
      ],
      "metadata": {
        "colab": {
          "base_uri": "https://localhost:8080/",
          "height": 700
        },
        "id": "vVBR2TZMM8vU",
        "outputId": "ad4fc1b9-f42b-468a-946b-e1b50cc86bb1"
      },
      "execution_count": 34,
      "outputs": [
        {
          "output_type": "display_data",
          "data": {
            "text/plain": [
              "        Hitters  Pitchers\n",
              "SO%    0.112882  0.123941\n",
              "BB%    0.126176  0.122488\n",
              "BACON  0.037375  0.038411\n",
              "PF     0.040776  0.028595"
            ],
            "text/html": [
              "\n",
              "  <div id=\"df-ac274e33-d2c1-413a-a2d3-e57dd5eb4240\">\n",
              "    <div class=\"colab-df-container\">\n",
              "      <div>\n",
              "<style scoped>\n",
              "    .dataframe tbody tr th:only-of-type {\n",
              "        vertical-align: middle;\n",
              "    }\n",
              "\n",
              "    .dataframe tbody tr th {\n",
              "        vertical-align: top;\n",
              "    }\n",
              "\n",
              "    .dataframe thead th {\n",
              "        text-align: right;\n",
              "    }\n",
              "</style>\n",
              "<table border=\"1\" class=\"dataframe\">\n",
              "  <thead>\n",
              "    <tr style=\"text-align: right;\">\n",
              "      <th></th>\n",
              "      <th>Hitters</th>\n",
              "      <th>Pitchers</th>\n",
              "    </tr>\n",
              "  </thead>\n",
              "  <tbody>\n",
              "    <tr>\n",
              "      <th>SO%</th>\n",
              "      <td>0.112882</td>\n",
              "      <td>0.123941</td>\n",
              "    </tr>\n",
              "    <tr>\n",
              "      <th>BB%</th>\n",
              "      <td>0.126176</td>\n",
              "      <td>0.122488</td>\n",
              "    </tr>\n",
              "    <tr>\n",
              "      <th>BACON</th>\n",
              "      <td>0.037375</td>\n",
              "      <td>0.038411</td>\n",
              "    </tr>\n",
              "    <tr>\n",
              "      <th>PF</th>\n",
              "      <td>0.040776</td>\n",
              "      <td>0.028595</td>\n",
              "    </tr>\n",
              "  </tbody>\n",
              "</table>\n",
              "</div>\n",
              "      <button class=\"colab-df-convert\" onclick=\"convertToInteractive('df-ac274e33-d2c1-413a-a2d3-e57dd5eb4240')\"\n",
              "              title=\"Convert this dataframe to an interactive table.\"\n",
              "              style=\"display:none;\">\n",
              "        \n",
              "  <svg xmlns=\"http://www.w3.org/2000/svg\" height=\"24px\"viewBox=\"0 0 24 24\"\n",
              "       width=\"24px\">\n",
              "    <path d=\"M0 0h24v24H0V0z\" fill=\"none\"/>\n",
              "    <path d=\"M18.56 5.44l.94 2.06.94-2.06 2.06-.94-2.06-.94-.94-2.06-.94 2.06-2.06.94zm-11 1L8.5 8.5l.94-2.06 2.06-.94-2.06-.94L8.5 2.5l-.94 2.06-2.06.94zm10 10l.94 2.06.94-2.06 2.06-.94-2.06-.94-.94-2.06-.94 2.06-2.06.94z\"/><path d=\"M17.41 7.96l-1.37-1.37c-.4-.4-.92-.59-1.43-.59-.52 0-1.04.2-1.43.59L10.3 9.45l-7.72 7.72c-.78.78-.78 2.05 0 2.83L4 21.41c.39.39.9.59 1.41.59.51 0 1.02-.2 1.41-.59l7.78-7.78 2.81-2.81c.8-.78.8-2.07 0-2.86zM5.41 20L4 18.59l7.72-7.72 1.47 1.35L5.41 20z\"/>\n",
              "  </svg>\n",
              "      </button>\n",
              "      \n",
              "  <style>\n",
              "    .colab-df-container {\n",
              "      display:flex;\n",
              "      flex-wrap:wrap;\n",
              "      gap: 12px;\n",
              "    }\n",
              "\n",
              "    .colab-df-convert {\n",
              "      background-color: #E8F0FE;\n",
              "      border: none;\n",
              "      border-radius: 50%;\n",
              "      cursor: pointer;\n",
              "      display: none;\n",
              "      fill: #1967D2;\n",
              "      height: 32px;\n",
              "      padding: 0 0 0 0;\n",
              "      width: 32px;\n",
              "    }\n",
              "\n",
              "    .colab-df-convert:hover {\n",
              "      background-color: #E2EBFA;\n",
              "      box-shadow: 0px 1px 2px rgba(60, 64, 67, 0.3), 0px 1px 3px 1px rgba(60, 64, 67, 0.15);\n",
              "      fill: #174EA6;\n",
              "    }\n",
              "\n",
              "    [theme=dark] .colab-df-convert {\n",
              "      background-color: #3B4455;\n",
              "      fill: #D2E3FC;\n",
              "    }\n",
              "\n",
              "    [theme=dark] .colab-df-convert:hover {\n",
              "      background-color: #434B5C;\n",
              "      box-shadow: 0px 1px 3px 1px rgba(0, 0, 0, 0.15);\n",
              "      filter: drop-shadow(0px 1px 2px rgba(0, 0, 0, 0.3));\n",
              "      fill: #FFFFFF;\n",
              "    }\n",
              "  </style>\n",
              "\n",
              "      <script>\n",
              "        const buttonEl =\n",
              "          document.querySelector('#df-ac274e33-d2c1-413a-a2d3-e57dd5eb4240 button.colab-df-convert');\n",
              "        buttonEl.style.display =\n",
              "          google.colab.kernel.accessAllowed ? 'block' : 'none';\n",
              "\n",
              "        async function convertToInteractive(key) {\n",
              "          const element = document.querySelector('#df-ac274e33-d2c1-413a-a2d3-e57dd5eb4240');\n",
              "          const dataTable =\n",
              "            await google.colab.kernel.invokeFunction('convertToInteractive',\n",
              "                                                     [key], {});\n",
              "          if (!dataTable) return;\n",
              "\n",
              "          const docLinkHtml = 'Like what you see? Visit the ' +\n",
              "            '<a target=\"_blank\" href=https://colab.research.google.com/notebooks/data_table.ipynb>data table notebook</a>'\n",
              "            + ' to learn more about interactive tables.';\n",
              "          element.innerHTML = '';\n",
              "          dataTable['output_type'] = 'display_data';\n",
              "          await google.colab.output.renderOutput(dataTable, element);\n",
              "          const docLink = document.createElement('div');\n",
              "          docLink.innerHTML = docLinkHtml;\n",
              "          element.appendChild(docLink);\n",
              "        }\n",
              "      </script>\n",
              "    </div>\n",
              "  </div>\n",
              "  "
            ]
          },
          "metadata": {}
        },
        {
          "output_type": "display_data",
          "data": {
            "text/html": [
              "<html>\n",
              "<head><meta charset=\"utf-8\" /></head>\n",
              "<body>\n",
              "    <div>            <script src=\"https://cdnjs.cloudflare.com/ajax/libs/mathjax/2.7.5/MathJax.js?config=TeX-AMS-MML_SVG\"></script><script type=\"text/javascript\">if (window.MathJax) {MathJax.Hub.Config({SVG: {font: \"STIX-Web\"}});}</script>                <script type=\"text/javascript\">window.PlotlyConfig = {MathJaxConfig: 'local'};</script>\n",
              "        <script src=\"https://cdn.plot.ly/plotly-2.8.3.min.js\"></script>                <div id=\"4ada96db-6676-410e-a8c4-0c166d772ee1\" class=\"plotly-graph-div\" style=\"height:525px; width:100%;\"></div>            <script type=\"text/javascript\">                                    window.PLOTLYENV=window.PLOTLYENV || {};                                    if (document.getElementById(\"4ada96db-6676-410e-a8c4-0c166d772ee1\")) {                    Plotly.newPlot(                        \"4ada96db-6676-410e-a8c4-0c166d772ee1\",                        [{\"alignmentgroup\":\"True\",\"hovertemplate\":\"variable=Pitchers<br>index=%{x}<br>value=%{y}<extra></extra>\",\"legendgroup\":\"Pitchers\",\"marker\":{\"color\":\"#636efa\",\"pattern\":{\"shape\":\"\"}},\"name\":\"Pitchers\",\"offsetgroup\":\"Pitchers\",\"orientation\":\"v\",\"showlegend\":true,\"textposition\":\"auto\",\"x\":[\"SO%\",\"BB%\",\"BACON\",\"PF\"],\"xaxis\":\"x\",\"y\":[0.12394112543336504,0.12248806380126677,0.038411219981920784,0.02859499700068558],\"yaxis\":\"y\",\"type\":\"bar\"},{\"alignmentgroup\":\"True\",\"hovertemplate\":\"variable=Hitters<br>index=%{x}<br>value=%{y}<extra></extra>\",\"legendgroup\":\"Hitters\",\"marker\":{\"color\":\"#EF553B\",\"pattern\":{\"shape\":\"\"}},\"name\":\"Hitters\",\"offsetgroup\":\"Hitters\",\"orientation\":\"v\",\"showlegend\":true,\"textposition\":\"auto\",\"x\":[\"SO%\",\"BB%\",\"BACON\",\"PF\"],\"xaxis\":\"x\",\"y\":[0.11288194680535131,0.12617554751035198,0.03737541041797815,0.040776157659863414],\"yaxis\":\"y\",\"type\":\"bar\"}],                        {\"template\":{\"data\":{\"bar\":[{\"error_x\":{\"color\":\"#2a3f5f\"},\"error_y\":{\"color\":\"#2a3f5f\"},\"marker\":{\"line\":{\"color\":\"#E5ECF6\",\"width\":0.5},\"pattern\":{\"fillmode\":\"overlay\",\"size\":10,\"solidity\":0.2}},\"type\":\"bar\"}],\"barpolar\":[{\"marker\":{\"line\":{\"color\":\"#E5ECF6\",\"width\":0.5},\"pattern\":{\"fillmode\":\"overlay\",\"size\":10,\"solidity\":0.2}},\"type\":\"barpolar\"}],\"carpet\":[{\"aaxis\":{\"endlinecolor\":\"#2a3f5f\",\"gridcolor\":\"white\",\"linecolor\":\"white\",\"minorgridcolor\":\"white\",\"startlinecolor\":\"#2a3f5f\"},\"baxis\":{\"endlinecolor\":\"#2a3f5f\",\"gridcolor\":\"white\",\"linecolor\":\"white\",\"minorgridcolor\":\"white\",\"startlinecolor\":\"#2a3f5f\"},\"type\":\"carpet\"}],\"choropleth\":[{\"colorbar\":{\"outlinewidth\":0,\"ticks\":\"\"},\"type\":\"choropleth\"}],\"contour\":[{\"colorbar\":{\"outlinewidth\":0,\"ticks\":\"\"},\"colorscale\":[[0.0,\"#0d0887\"],[0.1111111111111111,\"#46039f\"],[0.2222222222222222,\"#7201a8\"],[0.3333333333333333,\"#9c179e\"],[0.4444444444444444,\"#bd3786\"],[0.5555555555555556,\"#d8576b\"],[0.6666666666666666,\"#ed7953\"],[0.7777777777777778,\"#fb9f3a\"],[0.8888888888888888,\"#fdca26\"],[1.0,\"#f0f921\"]],\"type\":\"contour\"}],\"contourcarpet\":[{\"colorbar\":{\"outlinewidth\":0,\"ticks\":\"\"},\"type\":\"contourcarpet\"}],\"heatmap\":[{\"colorbar\":{\"outlinewidth\":0,\"ticks\":\"\"},\"colorscale\":[[0.0,\"#0d0887\"],[0.1111111111111111,\"#46039f\"],[0.2222222222222222,\"#7201a8\"],[0.3333333333333333,\"#9c179e\"],[0.4444444444444444,\"#bd3786\"],[0.5555555555555556,\"#d8576b\"],[0.6666666666666666,\"#ed7953\"],[0.7777777777777778,\"#fb9f3a\"],[0.8888888888888888,\"#fdca26\"],[1.0,\"#f0f921\"]],\"type\":\"heatmap\"}],\"heatmapgl\":[{\"colorbar\":{\"outlinewidth\":0,\"ticks\":\"\"},\"colorscale\":[[0.0,\"#0d0887\"],[0.1111111111111111,\"#46039f\"],[0.2222222222222222,\"#7201a8\"],[0.3333333333333333,\"#9c179e\"],[0.4444444444444444,\"#bd3786\"],[0.5555555555555556,\"#d8576b\"],[0.6666666666666666,\"#ed7953\"],[0.7777777777777778,\"#fb9f3a\"],[0.8888888888888888,\"#fdca26\"],[1.0,\"#f0f921\"]],\"type\":\"heatmapgl\"}],\"histogram\":[{\"marker\":{\"pattern\":{\"fillmode\":\"overlay\",\"size\":10,\"solidity\":0.2}},\"type\":\"histogram\"}],\"histogram2d\":[{\"colorbar\":{\"outlinewidth\":0,\"ticks\":\"\"},\"colorscale\":[[0.0,\"#0d0887\"],[0.1111111111111111,\"#46039f\"],[0.2222222222222222,\"#7201a8\"],[0.3333333333333333,\"#9c179e\"],[0.4444444444444444,\"#bd3786\"],[0.5555555555555556,\"#d8576b\"],[0.6666666666666666,\"#ed7953\"],[0.7777777777777778,\"#fb9f3a\"],[0.8888888888888888,\"#fdca26\"],[1.0,\"#f0f921\"]],\"type\":\"histogram2d\"}],\"histogram2dcontour\":[{\"colorbar\":{\"outlinewidth\":0,\"ticks\":\"\"},\"colorscale\":[[0.0,\"#0d0887\"],[0.1111111111111111,\"#46039f\"],[0.2222222222222222,\"#7201a8\"],[0.3333333333333333,\"#9c179e\"],[0.4444444444444444,\"#bd3786\"],[0.5555555555555556,\"#d8576b\"],[0.6666666666666666,\"#ed7953\"],[0.7777777777777778,\"#fb9f3a\"],[0.8888888888888888,\"#fdca26\"],[1.0,\"#f0f921\"]],\"type\":\"histogram2dcontour\"}],\"mesh3d\":[{\"colorbar\":{\"outlinewidth\":0,\"ticks\":\"\"},\"type\":\"mesh3d\"}],\"parcoords\":[{\"line\":{\"colorbar\":{\"outlinewidth\":0,\"ticks\":\"\"}},\"type\":\"parcoords\"}],\"pie\":[{\"automargin\":true,\"type\":\"pie\"}],\"scatter\":[{\"marker\":{\"colorbar\":{\"outlinewidth\":0,\"ticks\":\"\"}},\"type\":\"scatter\"}],\"scatter3d\":[{\"line\":{\"colorbar\":{\"outlinewidth\":0,\"ticks\":\"\"}},\"marker\":{\"colorbar\":{\"outlinewidth\":0,\"ticks\":\"\"}},\"type\":\"scatter3d\"}],\"scattercarpet\":[{\"marker\":{\"colorbar\":{\"outlinewidth\":0,\"ticks\":\"\"}},\"type\":\"scattercarpet\"}],\"scattergeo\":[{\"marker\":{\"colorbar\":{\"outlinewidth\":0,\"ticks\":\"\"}},\"type\":\"scattergeo\"}],\"scattergl\":[{\"marker\":{\"colorbar\":{\"outlinewidth\":0,\"ticks\":\"\"}},\"type\":\"scattergl\"}],\"scattermapbox\":[{\"marker\":{\"colorbar\":{\"outlinewidth\":0,\"ticks\":\"\"}},\"type\":\"scattermapbox\"}],\"scatterpolar\":[{\"marker\":{\"colorbar\":{\"outlinewidth\":0,\"ticks\":\"\"}},\"type\":\"scatterpolar\"}],\"scatterpolargl\":[{\"marker\":{\"colorbar\":{\"outlinewidth\":0,\"ticks\":\"\"}},\"type\":\"scatterpolargl\"}],\"scatterternary\":[{\"marker\":{\"colorbar\":{\"outlinewidth\":0,\"ticks\":\"\"}},\"type\":\"scatterternary\"}],\"surface\":[{\"colorbar\":{\"outlinewidth\":0,\"ticks\":\"\"},\"colorscale\":[[0.0,\"#0d0887\"],[0.1111111111111111,\"#46039f\"],[0.2222222222222222,\"#7201a8\"],[0.3333333333333333,\"#9c179e\"],[0.4444444444444444,\"#bd3786\"],[0.5555555555555556,\"#d8576b\"],[0.6666666666666666,\"#ed7953\"],[0.7777777777777778,\"#fb9f3a\"],[0.8888888888888888,\"#fdca26\"],[1.0,\"#f0f921\"]],\"type\":\"surface\"}],\"table\":[{\"cells\":{\"fill\":{\"color\":\"#EBF0F8\"},\"line\":{\"color\":\"white\"}},\"header\":{\"fill\":{\"color\":\"#C8D4E3\"},\"line\":{\"color\":\"white\"}},\"type\":\"table\"}]},\"layout\":{\"annotationdefaults\":{\"arrowcolor\":\"#2a3f5f\",\"arrowhead\":0,\"arrowwidth\":1},\"autotypenumbers\":\"strict\",\"coloraxis\":{\"colorbar\":{\"outlinewidth\":0,\"ticks\":\"\"}},\"colorscale\":{\"diverging\":[[0,\"#8e0152\"],[0.1,\"#c51b7d\"],[0.2,\"#de77ae\"],[0.3,\"#f1b6da\"],[0.4,\"#fde0ef\"],[0.5,\"#f7f7f7\"],[0.6,\"#e6f5d0\"],[0.7,\"#b8e186\"],[0.8,\"#7fbc41\"],[0.9,\"#4d9221\"],[1,\"#276419\"]],\"sequential\":[[0.0,\"#0d0887\"],[0.1111111111111111,\"#46039f\"],[0.2222222222222222,\"#7201a8\"],[0.3333333333333333,\"#9c179e\"],[0.4444444444444444,\"#bd3786\"],[0.5555555555555556,\"#d8576b\"],[0.6666666666666666,\"#ed7953\"],[0.7777777777777778,\"#fb9f3a\"],[0.8888888888888888,\"#fdca26\"],[1.0,\"#f0f921\"]],\"sequentialminus\":[[0.0,\"#0d0887\"],[0.1111111111111111,\"#46039f\"],[0.2222222222222222,\"#7201a8\"],[0.3333333333333333,\"#9c179e\"],[0.4444444444444444,\"#bd3786\"],[0.5555555555555556,\"#d8576b\"],[0.6666666666666666,\"#ed7953\"],[0.7777777777777778,\"#fb9f3a\"],[0.8888888888888888,\"#fdca26\"],[1.0,\"#f0f921\"]]},\"colorway\":[\"#636efa\",\"#EF553B\",\"#00cc96\",\"#ab63fa\",\"#FFA15A\",\"#19d3f3\",\"#FF6692\",\"#B6E880\",\"#FF97FF\",\"#FECB52\"],\"font\":{\"color\":\"#2a3f5f\"},\"geo\":{\"bgcolor\":\"white\",\"lakecolor\":\"white\",\"landcolor\":\"#E5ECF6\",\"showlakes\":true,\"showland\":true,\"subunitcolor\":\"white\"},\"hoverlabel\":{\"align\":\"left\"},\"hovermode\":\"closest\",\"mapbox\":{\"style\":\"light\"},\"paper_bgcolor\":\"white\",\"plot_bgcolor\":\"#E5ECF6\",\"polar\":{\"angularaxis\":{\"gridcolor\":\"white\",\"linecolor\":\"white\",\"ticks\":\"\"},\"bgcolor\":\"#E5ECF6\",\"radialaxis\":{\"gridcolor\":\"white\",\"linecolor\":\"white\",\"ticks\":\"\"}},\"scene\":{\"xaxis\":{\"backgroundcolor\":\"#E5ECF6\",\"gridcolor\":\"white\",\"gridwidth\":2,\"linecolor\":\"white\",\"showbackground\":true,\"ticks\":\"\",\"zerolinecolor\":\"white\"},\"yaxis\":{\"backgroundcolor\":\"#E5ECF6\",\"gridcolor\":\"white\",\"gridwidth\":2,\"linecolor\":\"white\",\"showbackground\":true,\"ticks\":\"\",\"zerolinecolor\":\"white\"},\"zaxis\":{\"backgroundcolor\":\"#E5ECF6\",\"gridcolor\":\"white\",\"gridwidth\":2,\"linecolor\":\"white\",\"showbackground\":true,\"ticks\":\"\",\"zerolinecolor\":\"white\"}},\"shapedefaults\":{\"line\":{\"color\":\"#2a3f5f\"}},\"ternary\":{\"aaxis\":{\"gridcolor\":\"white\",\"linecolor\":\"white\",\"ticks\":\"\"},\"baxis\":{\"gridcolor\":\"white\",\"linecolor\":\"white\",\"ticks\":\"\"},\"bgcolor\":\"#E5ECF6\",\"caxis\":{\"gridcolor\":\"white\",\"linecolor\":\"white\",\"ticks\":\"\"}},\"title\":{\"x\":0.05},\"xaxis\":{\"automargin\":true,\"gridcolor\":\"white\",\"linecolor\":\"white\",\"ticks\":\"\",\"title\":{\"standoff\":15},\"zerolinecolor\":\"white\",\"zerolinewidth\":2},\"yaxis\":{\"automargin\":true,\"gridcolor\":\"white\",\"linecolor\":\"white\",\"ticks\":\"\",\"title\":{\"standoff\":15},\"zerolinecolor\":\"white\",\"zerolinewidth\":2}}},\"xaxis\":{\"anchor\":\"y\",\"domain\":[0.0,1.0],\"title\":{\"text\":\"index\"}},\"yaxis\":{\"anchor\":\"x\",\"domain\":[0.0,1.0],\"title\":{\"text\":\"Coefficient of Variation\"}},\"legend\":{\"title\":{\"text\":\"variable\"},\"tracegroupgap\":0},\"margin\":{\"t\":60},\"barmode\":\"group\"},                        {\"responsive\": true}                    ).then(function(){\n",
              "                            \n",
              "var gd = document.getElementById('4ada96db-6676-410e-a8c4-0c166d772ee1');\n",
              "var x = new MutationObserver(function (mutations, observer) {{\n",
              "        var display = window.getComputedStyle(gd).display;\n",
              "        if (!display || display === 'none') {{\n",
              "            console.log([gd, 'removed!']);\n",
              "            Plotly.purge(gd);\n",
              "            observer.disconnect();\n",
              "        }}\n",
              "}});\n",
              "\n",
              "// Listen for the removal of the full notebook cells\n",
              "var notebookContainer = gd.closest('#notebook-container');\n",
              "if (notebookContainer) {{\n",
              "    x.observe(notebookContainer, {childList: true});\n",
              "}}\n",
              "\n",
              "// Listen for the clearing of the current output cell\n",
              "var outputEl = gd.closest('.output');\n",
              "if (outputEl) {{\n",
              "    x.observe(outputEl, {childList: true});\n",
              "}}\n",
              "\n",
              "                        })                };                            </script>        </div>\n",
              "</body>\n",
              "</html>"
            ]
          },
          "metadata": {}
        }
      ]
    },
    {
      "cell_type": "markdown",
      "source": [
        "**As the charts show, there is slightly more variation in the strikeout rates for pitchers than for batters, on the team level. Team offense has more variation in terms of walk rate and considerably more variation in terms of power hitting.**\n",
        "\n",
        "Therefore, team offenses are mored varied in terms of how they can score runs -- strikeout avoidance is one avenue but teams also have the ability to either put man on base by drawing walks and/or hit for more power.\n",
        "\n",
        "As for team defenses, their results in terms of supressing walks and power is more homogenous, making strikeouts the most prominent area where they can influence run scoring.\n",
        "\n",
        "These dynamics seem to explain why the correlation between strikeouts and scoring is stronger for team pitching staffs than team offenses."
      ],
      "metadata": {
        "id": "zrL742dY3IOJ"
      }
    },
    {
      "cell_type": "markdown",
      "source": [
        "##3b. Predictiveness"
      ],
      "metadata": {
        "id": "gzHDm4XrQIYw"
      }
    },
    {
      "cell_type": "markdown",
      "source": [
        "These findings also support the inference that **batters have more control over outcomes when they make contact.** This in turn implies the most sustainble means for pitching success is to prevent contact in the first place -- i.e. by striking batters out.\n",
        "\n",
        "If this is in fact the case, for pitchers, we should expect the correlation between strikeout rates from one year to the next to be higher than the correlation between power factor from one year to the next.\n",
        "\n",
        "We would also expect the year-to-year correlation for power factor to be higher for hitters than pitchers.\n",
        "\n",
        "Since hitters and pitchers are not always on the same team from one year to the next, we will assess this year-to-year stability by looking at individual player statistics. \n",
        "\n",
        "We will look at all pitchers who had consecutive seasons in which they threw enough innings to qualify for the ERA title from 2016 to 2021, and then do the same for hitters who qualified for the batting title.\n"
      ],
      "metadata": {
        "id": "celgCufvFinj"
      }
    },
    {
      "cell_type": "code",
      "source": [
        "#pitchers\n",
        "\n",
        "#it was more time-efficient to copy and paste data from Baseball-Reference.com into a CSV than to import five seasons of play-by-play data from Retrosheet\n",
        "\n",
        "ind_pitch = pd.read_csv('/content/drive/My Drive/pitchers_16_21.csv').drop('Rk',axis=1)\n",
        "\n",
        "ind_pitch = ind_pitch[ind_pitch['Name'].notna()]\n",
        "\n",
        "ind_pitch['Name'] = ind_pitch['Name'].apply(lambda x: x.replace('*',''))\n",
        "\n",
        "ind_pitch['SO%'] = ind_pitch['SO']/ind_pitch['PA']\n",
        "\n",
        "ind_pitch['BB%'] = ind_pitch['BB']/ind_pitch['PA']\n",
        "\n",
        "ind_pitch['PF'] = ind_pitch['SLG']/ind_pitch['BA']\n",
        "\n",
        "ind_pitch['BACON'] = round((ind_pitch['H'])/(ind_pitch['AB'] - ind_pitch['SO'] + ind_pitch['SF']),3)"
      ],
      "metadata": {
        "id": "T0J2WgQui-eE"
      },
      "execution_count": 35,
      "outputs": []
    },
    {
      "cell_type": "code",
      "source": [
        "ind_pitch['next year'] = ind_pitch['Season'] + 1 \n",
        "\n",
        "\n",
        "year_1_df = ind_pitch[['Name','Season','next year','SO%','BB%','PF','BACON','BAbip']]\n",
        "\n",
        "year_2_df = ind_pitch[['Name','Season','SO%','BB%','PF','BACON','BAbip']]\n",
        "\n",
        "\n",
        "two_year_df = year_1_df.merge(year_2_df,left_on=['Name','next year'], right_on=['Name','Season'])\n",
        "\n",
        "two_year_df = two_year_df[['Name','Season_x','SO%_x','BB%_x','PF_x','BACON_x','BAbip_x','Season_y','SO%_y','BB%_y','PF_y','BACON_y','BAbip_y']]\n",
        "\n",
        "two_year_df.rename(columns={'Season_x':'Season n','Season_y':'Season n+1'},inplace=True)"
      ],
      "metadata": {
        "id": "nJgyAojnyA5n"
      },
      "execution_count": 36,
      "outputs": []
    },
    {
      "cell_type": "code",
      "source": [
        "pitch_corr = two_year_df.corr()[['SO%_y','BB%_y','PF_y','BACON_y']].iloc[1:5]\n",
        "\n",
        "pitch_corr"
      ],
      "metadata": {
        "colab": {
          "base_uri": "https://localhost:8080/",
          "height": 175
        },
        "id": "EmC747-wzRW8",
        "outputId": "b9d4847d-513a-434d-e0bd-aa5138b5174a"
      },
      "execution_count": 37,
      "outputs": [
        {
          "output_type": "execute_result",
          "data": {
            "text/plain": [
              "            SO%_y     BB%_y      PF_y   BACON_y\n",
              "SO%_x    0.707041 -0.051656  0.238957 -0.117954\n",
              "BB%_x    0.087621  0.529071  0.000854 -0.045928\n",
              "PF_x     0.301966  0.062498  0.329333 -0.111409\n",
              "BACON_x  0.011108 -0.014349 -0.084343  0.022730"
            ],
            "text/html": [
              "\n",
              "  <div id=\"df-e1fc30bc-ba9d-4386-ba7f-bcd4952b73d9\">\n",
              "    <div class=\"colab-df-container\">\n",
              "      <div>\n",
              "<style scoped>\n",
              "    .dataframe tbody tr th:only-of-type {\n",
              "        vertical-align: middle;\n",
              "    }\n",
              "\n",
              "    .dataframe tbody tr th {\n",
              "        vertical-align: top;\n",
              "    }\n",
              "\n",
              "    .dataframe thead th {\n",
              "        text-align: right;\n",
              "    }\n",
              "</style>\n",
              "<table border=\"1\" class=\"dataframe\">\n",
              "  <thead>\n",
              "    <tr style=\"text-align: right;\">\n",
              "      <th></th>\n",
              "      <th>SO%_y</th>\n",
              "      <th>BB%_y</th>\n",
              "      <th>PF_y</th>\n",
              "      <th>BACON_y</th>\n",
              "    </tr>\n",
              "  </thead>\n",
              "  <tbody>\n",
              "    <tr>\n",
              "      <th>SO%_x</th>\n",
              "      <td>0.707041</td>\n",
              "      <td>-0.051656</td>\n",
              "      <td>0.238957</td>\n",
              "      <td>-0.117954</td>\n",
              "    </tr>\n",
              "    <tr>\n",
              "      <th>BB%_x</th>\n",
              "      <td>0.087621</td>\n",
              "      <td>0.529071</td>\n",
              "      <td>0.000854</td>\n",
              "      <td>-0.045928</td>\n",
              "    </tr>\n",
              "    <tr>\n",
              "      <th>PF_x</th>\n",
              "      <td>0.301966</td>\n",
              "      <td>0.062498</td>\n",
              "      <td>0.329333</td>\n",
              "      <td>-0.111409</td>\n",
              "    </tr>\n",
              "    <tr>\n",
              "      <th>BACON_x</th>\n",
              "      <td>0.011108</td>\n",
              "      <td>-0.014349</td>\n",
              "      <td>-0.084343</td>\n",
              "      <td>0.022730</td>\n",
              "    </tr>\n",
              "  </tbody>\n",
              "</table>\n",
              "</div>\n",
              "      <button class=\"colab-df-convert\" onclick=\"convertToInteractive('df-e1fc30bc-ba9d-4386-ba7f-bcd4952b73d9')\"\n",
              "              title=\"Convert this dataframe to an interactive table.\"\n",
              "              style=\"display:none;\">\n",
              "        \n",
              "  <svg xmlns=\"http://www.w3.org/2000/svg\" height=\"24px\"viewBox=\"0 0 24 24\"\n",
              "       width=\"24px\">\n",
              "    <path d=\"M0 0h24v24H0V0z\" fill=\"none\"/>\n",
              "    <path d=\"M18.56 5.44l.94 2.06.94-2.06 2.06-.94-2.06-.94-.94-2.06-.94 2.06-2.06.94zm-11 1L8.5 8.5l.94-2.06 2.06-.94-2.06-.94L8.5 2.5l-.94 2.06-2.06.94zm10 10l.94 2.06.94-2.06 2.06-.94-2.06-.94-.94-2.06-.94 2.06-2.06.94z\"/><path d=\"M17.41 7.96l-1.37-1.37c-.4-.4-.92-.59-1.43-.59-.52 0-1.04.2-1.43.59L10.3 9.45l-7.72 7.72c-.78.78-.78 2.05 0 2.83L4 21.41c.39.39.9.59 1.41.59.51 0 1.02-.2 1.41-.59l7.78-7.78 2.81-2.81c.8-.78.8-2.07 0-2.86zM5.41 20L4 18.59l7.72-7.72 1.47 1.35L5.41 20z\"/>\n",
              "  </svg>\n",
              "      </button>\n",
              "      \n",
              "  <style>\n",
              "    .colab-df-container {\n",
              "      display:flex;\n",
              "      flex-wrap:wrap;\n",
              "      gap: 12px;\n",
              "    }\n",
              "\n",
              "    .colab-df-convert {\n",
              "      background-color: #E8F0FE;\n",
              "      border: none;\n",
              "      border-radius: 50%;\n",
              "      cursor: pointer;\n",
              "      display: none;\n",
              "      fill: #1967D2;\n",
              "      height: 32px;\n",
              "      padding: 0 0 0 0;\n",
              "      width: 32px;\n",
              "    }\n",
              "\n",
              "    .colab-df-convert:hover {\n",
              "      background-color: #E2EBFA;\n",
              "      box-shadow: 0px 1px 2px rgba(60, 64, 67, 0.3), 0px 1px 3px 1px rgba(60, 64, 67, 0.15);\n",
              "      fill: #174EA6;\n",
              "    }\n",
              "\n",
              "    [theme=dark] .colab-df-convert {\n",
              "      background-color: #3B4455;\n",
              "      fill: #D2E3FC;\n",
              "    }\n",
              "\n",
              "    [theme=dark] .colab-df-convert:hover {\n",
              "      background-color: #434B5C;\n",
              "      box-shadow: 0px 1px 3px 1px rgba(0, 0, 0, 0.15);\n",
              "      filter: drop-shadow(0px 1px 2px rgba(0, 0, 0, 0.3));\n",
              "      fill: #FFFFFF;\n",
              "    }\n",
              "  </style>\n",
              "\n",
              "      <script>\n",
              "        const buttonEl =\n",
              "          document.querySelector('#df-e1fc30bc-ba9d-4386-ba7f-bcd4952b73d9 button.colab-df-convert');\n",
              "        buttonEl.style.display =\n",
              "          google.colab.kernel.accessAllowed ? 'block' : 'none';\n",
              "\n",
              "        async function convertToInteractive(key) {\n",
              "          const element = document.querySelector('#df-e1fc30bc-ba9d-4386-ba7f-bcd4952b73d9');\n",
              "          const dataTable =\n",
              "            await google.colab.kernel.invokeFunction('convertToInteractive',\n",
              "                                                     [key], {});\n",
              "          if (!dataTable) return;\n",
              "\n",
              "          const docLinkHtml = 'Like what you see? Visit the ' +\n",
              "            '<a target=\"_blank\" href=https://colab.research.google.com/notebooks/data_table.ipynb>data table notebook</a>'\n",
              "            + ' to learn more about interactive tables.';\n",
              "          element.innerHTML = '';\n",
              "          dataTable['output_type'] = 'display_data';\n",
              "          await google.colab.output.renderOutput(dataTable, element);\n",
              "          const docLink = document.createElement('div');\n",
              "          docLink.innerHTML = docLinkHtml;\n",
              "          element.appendChild(docLink);\n",
              "        }\n",
              "      </script>\n",
              "    </div>\n",
              "  </div>\n",
              "  "
            ]
          },
          "metadata": {},
          "execution_count": 37
        }
      ]
    },
    {
      "cell_type": "code",
      "source": [
        "from pybaseball import batting_stats\n",
        "\n",
        "# for batters, we will use PyBaseball, which scrapes data from FanGraphs.com\n",
        "ind_bat = batting_stats(2016,2021)\n"
      ],
      "metadata": {
        "id": "sb51YMYL1xr3"
      },
      "execution_count": 38,
      "outputs": []
    },
    {
      "cell_type": "code",
      "source": [
        "ind_bat['PF'] = ind_bat['SLG']/ind_bat['AVG']\n",
        "ind_bat['BACON'] = round((ind_bat['H'])/(ind_bat['AB'] - ind_bat['SO'] + ind_bat['SF']),3)\n",
        "ind_bat['next year'] = ind_bat['Season'] +1\n",
        "\n",
        "year_1_df = ind_bat[['Name','Season','next year','K%','BB%','PF','BACON','BABIP']]\n",
        "year_2_df = ind_bat[['Name','Season','K%','BB%','PF','BACON','BABIP']]\n",
        "\n",
        "two_year_df = year_1_df.merge(year_2_df,left_on=['Name','next year'], right_on=['Name','Season'])\n",
        "\n",
        "two_year_df = two_year_df[['Name','Season_x','K%_x','BB%_x','PF_x','BACON_x','BABIP_x','Season_y','K%_y','BB%_y','PF_y','BACON_y','BABIP_y']]\n",
        "\n",
        "two_year_df.rename(columns={'Season_x':'Season n','Season_y':'Season n+1'},inplace=True)"
      ],
      "metadata": {
        "id": "MTYMWaLY1xxk"
      },
      "execution_count": 39,
      "outputs": []
    },
    {
      "cell_type": "code",
      "source": [
        "bat_corr = two_year_df.corr()[['K%_y','BB%_y','PF_y','BACON_y']].iloc[1:5]\n",
        "\n",
        "bat_corr"
      ],
      "metadata": {
        "colab": {
          "base_uri": "https://localhost:8080/",
          "height": 175
        },
        "id": "c4pN5dLF44gu",
        "outputId": "a7da0369-d294-46fe-86d6-6bc6fb4a8cbb"
      },
      "execution_count": 40,
      "outputs": [
        {
          "output_type": "execute_result",
          "data": {
            "text/plain": [
              "             K%_y     BB%_y      PF_y   BACON_y\n",
              "K%_x     0.789350  0.145400  0.423463  0.251045\n",
              "BB%_x    0.162621  0.744879  0.367065  0.094378\n",
              "PF_x     0.441830  0.412675  0.677924  0.123697\n",
              "BACON_x  0.243570  0.140994  0.111079  0.360892"
            ],
            "text/html": [
              "\n",
              "  <div id=\"df-409a25ad-ad26-4732-a9f0-4c29bb5fd526\">\n",
              "    <div class=\"colab-df-container\">\n",
              "      <div>\n",
              "<style scoped>\n",
              "    .dataframe tbody tr th:only-of-type {\n",
              "        vertical-align: middle;\n",
              "    }\n",
              "\n",
              "    .dataframe tbody tr th {\n",
              "        vertical-align: top;\n",
              "    }\n",
              "\n",
              "    .dataframe thead th {\n",
              "        text-align: right;\n",
              "    }\n",
              "</style>\n",
              "<table border=\"1\" class=\"dataframe\">\n",
              "  <thead>\n",
              "    <tr style=\"text-align: right;\">\n",
              "      <th></th>\n",
              "      <th>K%_y</th>\n",
              "      <th>BB%_y</th>\n",
              "      <th>PF_y</th>\n",
              "      <th>BACON_y</th>\n",
              "    </tr>\n",
              "  </thead>\n",
              "  <tbody>\n",
              "    <tr>\n",
              "      <th>K%_x</th>\n",
              "      <td>0.789350</td>\n",
              "      <td>0.145400</td>\n",
              "      <td>0.423463</td>\n",
              "      <td>0.251045</td>\n",
              "    </tr>\n",
              "    <tr>\n",
              "      <th>BB%_x</th>\n",
              "      <td>0.162621</td>\n",
              "      <td>0.744879</td>\n",
              "      <td>0.367065</td>\n",
              "      <td>0.094378</td>\n",
              "    </tr>\n",
              "    <tr>\n",
              "      <th>PF_x</th>\n",
              "      <td>0.441830</td>\n",
              "      <td>0.412675</td>\n",
              "      <td>0.677924</td>\n",
              "      <td>0.123697</td>\n",
              "    </tr>\n",
              "    <tr>\n",
              "      <th>BACON_x</th>\n",
              "      <td>0.243570</td>\n",
              "      <td>0.140994</td>\n",
              "      <td>0.111079</td>\n",
              "      <td>0.360892</td>\n",
              "    </tr>\n",
              "  </tbody>\n",
              "</table>\n",
              "</div>\n",
              "      <button class=\"colab-df-convert\" onclick=\"convertToInteractive('df-409a25ad-ad26-4732-a9f0-4c29bb5fd526')\"\n",
              "              title=\"Convert this dataframe to an interactive table.\"\n",
              "              style=\"display:none;\">\n",
              "        \n",
              "  <svg xmlns=\"http://www.w3.org/2000/svg\" height=\"24px\"viewBox=\"0 0 24 24\"\n",
              "       width=\"24px\">\n",
              "    <path d=\"M0 0h24v24H0V0z\" fill=\"none\"/>\n",
              "    <path d=\"M18.56 5.44l.94 2.06.94-2.06 2.06-.94-2.06-.94-.94-2.06-.94 2.06-2.06.94zm-11 1L8.5 8.5l.94-2.06 2.06-.94-2.06-.94L8.5 2.5l-.94 2.06-2.06.94zm10 10l.94 2.06.94-2.06 2.06-.94-2.06-.94-.94-2.06-.94 2.06-2.06.94z\"/><path d=\"M17.41 7.96l-1.37-1.37c-.4-.4-.92-.59-1.43-.59-.52 0-1.04.2-1.43.59L10.3 9.45l-7.72 7.72c-.78.78-.78 2.05 0 2.83L4 21.41c.39.39.9.59 1.41.59.51 0 1.02-.2 1.41-.59l7.78-7.78 2.81-2.81c.8-.78.8-2.07 0-2.86zM5.41 20L4 18.59l7.72-7.72 1.47 1.35L5.41 20z\"/>\n",
              "  </svg>\n",
              "      </button>\n",
              "      \n",
              "  <style>\n",
              "    .colab-df-container {\n",
              "      display:flex;\n",
              "      flex-wrap:wrap;\n",
              "      gap: 12px;\n",
              "    }\n",
              "\n",
              "    .colab-df-convert {\n",
              "      background-color: #E8F0FE;\n",
              "      border: none;\n",
              "      border-radius: 50%;\n",
              "      cursor: pointer;\n",
              "      display: none;\n",
              "      fill: #1967D2;\n",
              "      height: 32px;\n",
              "      padding: 0 0 0 0;\n",
              "      width: 32px;\n",
              "    }\n",
              "\n",
              "    .colab-df-convert:hover {\n",
              "      background-color: #E2EBFA;\n",
              "      box-shadow: 0px 1px 2px rgba(60, 64, 67, 0.3), 0px 1px 3px 1px rgba(60, 64, 67, 0.15);\n",
              "      fill: #174EA6;\n",
              "    }\n",
              "\n",
              "    [theme=dark] .colab-df-convert {\n",
              "      background-color: #3B4455;\n",
              "      fill: #D2E3FC;\n",
              "    }\n",
              "\n",
              "    [theme=dark] .colab-df-convert:hover {\n",
              "      background-color: #434B5C;\n",
              "      box-shadow: 0px 1px 3px 1px rgba(0, 0, 0, 0.15);\n",
              "      filter: drop-shadow(0px 1px 2px rgba(0, 0, 0, 0.3));\n",
              "      fill: #FFFFFF;\n",
              "    }\n",
              "  </style>\n",
              "\n",
              "      <script>\n",
              "        const buttonEl =\n",
              "          document.querySelector('#df-409a25ad-ad26-4732-a9f0-4c29bb5fd526 button.colab-df-convert');\n",
              "        buttonEl.style.display =\n",
              "          google.colab.kernel.accessAllowed ? 'block' : 'none';\n",
              "\n",
              "        async function convertToInteractive(key) {\n",
              "          const element = document.querySelector('#df-409a25ad-ad26-4732-a9f0-4c29bb5fd526');\n",
              "          const dataTable =\n",
              "            await google.colab.kernel.invokeFunction('convertToInteractive',\n",
              "                                                     [key], {});\n",
              "          if (!dataTable) return;\n",
              "\n",
              "          const docLinkHtml = 'Like what you see? Visit the ' +\n",
              "            '<a target=\"_blank\" href=https://colab.research.google.com/notebooks/data_table.ipynb>data table notebook</a>'\n",
              "            + ' to learn more about interactive tables.';\n",
              "          element.innerHTML = '';\n",
              "          dataTable['output_type'] = 'display_data';\n",
              "          await google.colab.output.renderOutput(dataTable, element);\n",
              "          const docLink = document.createElement('div');\n",
              "          docLink.innerHTML = docLinkHtml;\n",
              "          element.appendChild(docLink);\n",
              "        }\n",
              "      </script>\n",
              "    </div>\n",
              "  </div>\n",
              "  "
            ]
          },
          "metadata": {},
          "execution_count": 40
        }
      ]
    },
    {
      "cell_type": "code",
      "source": [
        "stat_list = ['K%','BB%','PF','BACON']\n",
        "\n",
        "pitch_stat_list = ['SO%','BB%','PF','BACON']\n",
        "\n",
        "hit_cor_list = []\n",
        "pitch_cor_list = []\n",
        "\n",
        "for stat in stat_list:\n",
        "  col = stat + '_y'\n",
        "  row = stat + '_x'\n",
        "  hit_cor_list.append(bat_corr[col].loc[row])\n",
        "\n",
        "\n",
        "hit_cor = pd.DataFrame()\n",
        "hit_cor['Stat'] = pitch_stat_list\n",
        "hit_cor['Hitting'] = hit_cor_list\n",
        "\n",
        "for stat in pitch_stat_list:\n",
        "  col = stat + '_y'\n",
        "  row = stat + '_x'\n",
        "  pitch_cor_list.append(pitch_corr[col].loc[row])\n",
        "\n",
        "def_cor = pd.DataFrame()\n",
        "def_cor['Stat'] = pitch_stat_list\n",
        "def_cor['Pitching'] = pitch_cor_list\n",
        "\n",
        "\n",
        "df = hit_cor.merge(def_cor,on = 'Stat')\n",
        "\n",
        "\n",
        "#df.plot(kind='bar',ylabel='r',title = \"Correlation With Next Season's Results (2016 - 2021)\");\n",
        "fig = px.bar(df, x=\"Stat\", y=[\"Pitching\",\"Hitting\"], title=\"Correlation With Next Season's Results (2016 - 2021)\",barmode='group')\n",
        "fig.update_layout(\n",
        "    yaxis_title=\"r\")\n",
        "fig.show()"
      ],
      "metadata": {
        "colab": {
          "base_uri": "https://localhost:8080/",
          "height": 542
        },
        "id": "G5-V_xEDavER",
        "outputId": "fb2ac458-946d-4bc5-9192-d03fa1669c35"
      },
      "execution_count": 41,
      "outputs": [
        {
          "output_type": "display_data",
          "data": {
            "text/html": [
              "<html>\n",
              "<head><meta charset=\"utf-8\" /></head>\n",
              "<body>\n",
              "    <div>            <script src=\"https://cdnjs.cloudflare.com/ajax/libs/mathjax/2.7.5/MathJax.js?config=TeX-AMS-MML_SVG\"></script><script type=\"text/javascript\">if (window.MathJax) {MathJax.Hub.Config({SVG: {font: \"STIX-Web\"}});}</script>                <script type=\"text/javascript\">window.PlotlyConfig = {MathJaxConfig: 'local'};</script>\n",
              "        <script src=\"https://cdn.plot.ly/plotly-2.8.3.min.js\"></script>                <div id=\"1abca30b-19e6-45aa-b89c-21a14f82fe9f\" class=\"plotly-graph-div\" style=\"height:525px; width:100%;\"></div>            <script type=\"text/javascript\">                                    window.PLOTLYENV=window.PLOTLYENV || {};                                    if (document.getElementById(\"1abca30b-19e6-45aa-b89c-21a14f82fe9f\")) {                    Plotly.newPlot(                        \"1abca30b-19e6-45aa-b89c-21a14f82fe9f\",                        [{\"alignmentgroup\":\"True\",\"hovertemplate\":\"variable=Pitching<br>Stat=%{x}<br>value=%{y}<extra></extra>\",\"legendgroup\":\"Pitching\",\"marker\":{\"color\":\"#636efa\",\"pattern\":{\"shape\":\"\"}},\"name\":\"Pitching\",\"offsetgroup\":\"Pitching\",\"orientation\":\"v\",\"showlegend\":true,\"textposition\":\"auto\",\"x\":[\"SO%\",\"BB%\",\"PF\",\"BACON\"],\"xaxis\":\"x\",\"y\":[0.7070410206217276,0.5290709545050916,0.32933277308951214,0.022729896949500582],\"yaxis\":\"y\",\"type\":\"bar\"},{\"alignmentgroup\":\"True\",\"hovertemplate\":\"variable=Hitting<br>Stat=%{x}<br>value=%{y}<extra></extra>\",\"legendgroup\":\"Hitting\",\"marker\":{\"color\":\"#EF553B\",\"pattern\":{\"shape\":\"\"}},\"name\":\"Hitting\",\"offsetgroup\":\"Hitting\",\"orientation\":\"v\",\"showlegend\":true,\"textposition\":\"auto\",\"x\":[\"SO%\",\"BB%\",\"PF\",\"BACON\"],\"xaxis\":\"x\",\"y\":[0.7893502731045206,0.7448789553479683,0.6779243006011454,0.3608921430124479],\"yaxis\":\"y\",\"type\":\"bar\"}],                        {\"template\":{\"data\":{\"bar\":[{\"error_x\":{\"color\":\"#2a3f5f\"},\"error_y\":{\"color\":\"#2a3f5f\"},\"marker\":{\"line\":{\"color\":\"#E5ECF6\",\"width\":0.5},\"pattern\":{\"fillmode\":\"overlay\",\"size\":10,\"solidity\":0.2}},\"type\":\"bar\"}],\"barpolar\":[{\"marker\":{\"line\":{\"color\":\"#E5ECF6\",\"width\":0.5},\"pattern\":{\"fillmode\":\"overlay\",\"size\":10,\"solidity\":0.2}},\"type\":\"barpolar\"}],\"carpet\":[{\"aaxis\":{\"endlinecolor\":\"#2a3f5f\",\"gridcolor\":\"white\",\"linecolor\":\"white\",\"minorgridcolor\":\"white\",\"startlinecolor\":\"#2a3f5f\"},\"baxis\":{\"endlinecolor\":\"#2a3f5f\",\"gridcolor\":\"white\",\"linecolor\":\"white\",\"minorgridcolor\":\"white\",\"startlinecolor\":\"#2a3f5f\"},\"type\":\"carpet\"}],\"choropleth\":[{\"colorbar\":{\"outlinewidth\":0,\"ticks\":\"\"},\"type\":\"choropleth\"}],\"contour\":[{\"colorbar\":{\"outlinewidth\":0,\"ticks\":\"\"},\"colorscale\":[[0.0,\"#0d0887\"],[0.1111111111111111,\"#46039f\"],[0.2222222222222222,\"#7201a8\"],[0.3333333333333333,\"#9c179e\"],[0.4444444444444444,\"#bd3786\"],[0.5555555555555556,\"#d8576b\"],[0.6666666666666666,\"#ed7953\"],[0.7777777777777778,\"#fb9f3a\"],[0.8888888888888888,\"#fdca26\"],[1.0,\"#f0f921\"]],\"type\":\"contour\"}],\"contourcarpet\":[{\"colorbar\":{\"outlinewidth\":0,\"ticks\":\"\"},\"type\":\"contourcarpet\"}],\"heatmap\":[{\"colorbar\":{\"outlinewidth\":0,\"ticks\":\"\"},\"colorscale\":[[0.0,\"#0d0887\"],[0.1111111111111111,\"#46039f\"],[0.2222222222222222,\"#7201a8\"],[0.3333333333333333,\"#9c179e\"],[0.4444444444444444,\"#bd3786\"],[0.5555555555555556,\"#d8576b\"],[0.6666666666666666,\"#ed7953\"],[0.7777777777777778,\"#fb9f3a\"],[0.8888888888888888,\"#fdca26\"],[1.0,\"#f0f921\"]],\"type\":\"heatmap\"}],\"heatmapgl\":[{\"colorbar\":{\"outlinewidth\":0,\"ticks\":\"\"},\"colorscale\":[[0.0,\"#0d0887\"],[0.1111111111111111,\"#46039f\"],[0.2222222222222222,\"#7201a8\"],[0.3333333333333333,\"#9c179e\"],[0.4444444444444444,\"#bd3786\"],[0.5555555555555556,\"#d8576b\"],[0.6666666666666666,\"#ed7953\"],[0.7777777777777778,\"#fb9f3a\"],[0.8888888888888888,\"#fdca26\"],[1.0,\"#f0f921\"]],\"type\":\"heatmapgl\"}],\"histogram\":[{\"marker\":{\"pattern\":{\"fillmode\":\"overlay\",\"size\":10,\"solidity\":0.2}},\"type\":\"histogram\"}],\"histogram2d\":[{\"colorbar\":{\"outlinewidth\":0,\"ticks\":\"\"},\"colorscale\":[[0.0,\"#0d0887\"],[0.1111111111111111,\"#46039f\"],[0.2222222222222222,\"#7201a8\"],[0.3333333333333333,\"#9c179e\"],[0.4444444444444444,\"#bd3786\"],[0.5555555555555556,\"#d8576b\"],[0.6666666666666666,\"#ed7953\"],[0.7777777777777778,\"#fb9f3a\"],[0.8888888888888888,\"#fdca26\"],[1.0,\"#f0f921\"]],\"type\":\"histogram2d\"}],\"histogram2dcontour\":[{\"colorbar\":{\"outlinewidth\":0,\"ticks\":\"\"},\"colorscale\":[[0.0,\"#0d0887\"],[0.1111111111111111,\"#46039f\"],[0.2222222222222222,\"#7201a8\"],[0.3333333333333333,\"#9c179e\"],[0.4444444444444444,\"#bd3786\"],[0.5555555555555556,\"#d8576b\"],[0.6666666666666666,\"#ed7953\"],[0.7777777777777778,\"#fb9f3a\"],[0.8888888888888888,\"#fdca26\"],[1.0,\"#f0f921\"]],\"type\":\"histogram2dcontour\"}],\"mesh3d\":[{\"colorbar\":{\"outlinewidth\":0,\"ticks\":\"\"},\"type\":\"mesh3d\"}],\"parcoords\":[{\"line\":{\"colorbar\":{\"outlinewidth\":0,\"ticks\":\"\"}},\"type\":\"parcoords\"}],\"pie\":[{\"automargin\":true,\"type\":\"pie\"}],\"scatter\":[{\"marker\":{\"colorbar\":{\"outlinewidth\":0,\"ticks\":\"\"}},\"type\":\"scatter\"}],\"scatter3d\":[{\"line\":{\"colorbar\":{\"outlinewidth\":0,\"ticks\":\"\"}},\"marker\":{\"colorbar\":{\"outlinewidth\":0,\"ticks\":\"\"}},\"type\":\"scatter3d\"}],\"scattercarpet\":[{\"marker\":{\"colorbar\":{\"outlinewidth\":0,\"ticks\":\"\"}},\"type\":\"scattercarpet\"}],\"scattergeo\":[{\"marker\":{\"colorbar\":{\"outlinewidth\":0,\"ticks\":\"\"}},\"type\":\"scattergeo\"}],\"scattergl\":[{\"marker\":{\"colorbar\":{\"outlinewidth\":0,\"ticks\":\"\"}},\"type\":\"scattergl\"}],\"scattermapbox\":[{\"marker\":{\"colorbar\":{\"outlinewidth\":0,\"ticks\":\"\"}},\"type\":\"scattermapbox\"}],\"scatterpolar\":[{\"marker\":{\"colorbar\":{\"outlinewidth\":0,\"ticks\":\"\"}},\"type\":\"scatterpolar\"}],\"scatterpolargl\":[{\"marker\":{\"colorbar\":{\"outlinewidth\":0,\"ticks\":\"\"}},\"type\":\"scatterpolargl\"}],\"scatterternary\":[{\"marker\":{\"colorbar\":{\"outlinewidth\":0,\"ticks\":\"\"}},\"type\":\"scatterternary\"}],\"surface\":[{\"colorbar\":{\"outlinewidth\":0,\"ticks\":\"\"},\"colorscale\":[[0.0,\"#0d0887\"],[0.1111111111111111,\"#46039f\"],[0.2222222222222222,\"#7201a8\"],[0.3333333333333333,\"#9c179e\"],[0.4444444444444444,\"#bd3786\"],[0.5555555555555556,\"#d8576b\"],[0.6666666666666666,\"#ed7953\"],[0.7777777777777778,\"#fb9f3a\"],[0.8888888888888888,\"#fdca26\"],[1.0,\"#f0f921\"]],\"type\":\"surface\"}],\"table\":[{\"cells\":{\"fill\":{\"color\":\"#EBF0F8\"},\"line\":{\"color\":\"white\"}},\"header\":{\"fill\":{\"color\":\"#C8D4E3\"},\"line\":{\"color\":\"white\"}},\"type\":\"table\"}]},\"layout\":{\"annotationdefaults\":{\"arrowcolor\":\"#2a3f5f\",\"arrowhead\":0,\"arrowwidth\":1},\"autotypenumbers\":\"strict\",\"coloraxis\":{\"colorbar\":{\"outlinewidth\":0,\"ticks\":\"\"}},\"colorscale\":{\"diverging\":[[0,\"#8e0152\"],[0.1,\"#c51b7d\"],[0.2,\"#de77ae\"],[0.3,\"#f1b6da\"],[0.4,\"#fde0ef\"],[0.5,\"#f7f7f7\"],[0.6,\"#e6f5d0\"],[0.7,\"#b8e186\"],[0.8,\"#7fbc41\"],[0.9,\"#4d9221\"],[1,\"#276419\"]],\"sequential\":[[0.0,\"#0d0887\"],[0.1111111111111111,\"#46039f\"],[0.2222222222222222,\"#7201a8\"],[0.3333333333333333,\"#9c179e\"],[0.4444444444444444,\"#bd3786\"],[0.5555555555555556,\"#d8576b\"],[0.6666666666666666,\"#ed7953\"],[0.7777777777777778,\"#fb9f3a\"],[0.8888888888888888,\"#fdca26\"],[1.0,\"#f0f921\"]],\"sequentialminus\":[[0.0,\"#0d0887\"],[0.1111111111111111,\"#46039f\"],[0.2222222222222222,\"#7201a8\"],[0.3333333333333333,\"#9c179e\"],[0.4444444444444444,\"#bd3786\"],[0.5555555555555556,\"#d8576b\"],[0.6666666666666666,\"#ed7953\"],[0.7777777777777778,\"#fb9f3a\"],[0.8888888888888888,\"#fdca26\"],[1.0,\"#f0f921\"]]},\"colorway\":[\"#636efa\",\"#EF553B\",\"#00cc96\",\"#ab63fa\",\"#FFA15A\",\"#19d3f3\",\"#FF6692\",\"#B6E880\",\"#FF97FF\",\"#FECB52\"],\"font\":{\"color\":\"#2a3f5f\"},\"geo\":{\"bgcolor\":\"white\",\"lakecolor\":\"white\",\"landcolor\":\"#E5ECF6\",\"showlakes\":true,\"showland\":true,\"subunitcolor\":\"white\"},\"hoverlabel\":{\"align\":\"left\"},\"hovermode\":\"closest\",\"mapbox\":{\"style\":\"light\"},\"paper_bgcolor\":\"white\",\"plot_bgcolor\":\"#E5ECF6\",\"polar\":{\"angularaxis\":{\"gridcolor\":\"white\",\"linecolor\":\"white\",\"ticks\":\"\"},\"bgcolor\":\"#E5ECF6\",\"radialaxis\":{\"gridcolor\":\"white\",\"linecolor\":\"white\",\"ticks\":\"\"}},\"scene\":{\"xaxis\":{\"backgroundcolor\":\"#E5ECF6\",\"gridcolor\":\"white\",\"gridwidth\":2,\"linecolor\":\"white\",\"showbackground\":true,\"ticks\":\"\",\"zerolinecolor\":\"white\"},\"yaxis\":{\"backgroundcolor\":\"#E5ECF6\",\"gridcolor\":\"white\",\"gridwidth\":2,\"linecolor\":\"white\",\"showbackground\":true,\"ticks\":\"\",\"zerolinecolor\":\"white\"},\"zaxis\":{\"backgroundcolor\":\"#E5ECF6\",\"gridcolor\":\"white\",\"gridwidth\":2,\"linecolor\":\"white\",\"showbackground\":true,\"ticks\":\"\",\"zerolinecolor\":\"white\"}},\"shapedefaults\":{\"line\":{\"color\":\"#2a3f5f\"}},\"ternary\":{\"aaxis\":{\"gridcolor\":\"white\",\"linecolor\":\"white\",\"ticks\":\"\"},\"baxis\":{\"gridcolor\":\"white\",\"linecolor\":\"white\",\"ticks\":\"\"},\"bgcolor\":\"#E5ECF6\",\"caxis\":{\"gridcolor\":\"white\",\"linecolor\":\"white\",\"ticks\":\"\"}},\"title\":{\"x\":0.05},\"xaxis\":{\"automargin\":true,\"gridcolor\":\"white\",\"linecolor\":\"white\",\"ticks\":\"\",\"title\":{\"standoff\":15},\"zerolinecolor\":\"white\",\"zerolinewidth\":2},\"yaxis\":{\"automargin\":true,\"gridcolor\":\"white\",\"linecolor\":\"white\",\"ticks\":\"\",\"title\":{\"standoff\":15},\"zerolinecolor\":\"white\",\"zerolinewidth\":2}}},\"xaxis\":{\"anchor\":\"y\",\"domain\":[0.0,1.0],\"title\":{\"text\":\"Stat\"}},\"yaxis\":{\"anchor\":\"x\",\"domain\":[0.0,1.0],\"title\":{\"text\":\"r\"}},\"legend\":{\"title\":{\"text\":\"variable\"},\"tracegroupgap\":0},\"title\":{\"text\":\"Correlation With Next Season's Results (2016 - 2021)\"},\"barmode\":\"group\"},                        {\"responsive\": true}                    ).then(function(){\n",
              "                            \n",
              "var gd = document.getElementById('1abca30b-19e6-45aa-b89c-21a14f82fe9f');\n",
              "var x = new MutationObserver(function (mutations, observer) {{\n",
              "        var display = window.getComputedStyle(gd).display;\n",
              "        if (!display || display === 'none') {{\n",
              "            console.log([gd, 'removed!']);\n",
              "            Plotly.purge(gd);\n",
              "            observer.disconnect();\n",
              "        }}\n",
              "}});\n",
              "\n",
              "// Listen for the removal of the full notebook cells\n",
              "var notebookContainer = gd.closest('#notebook-container');\n",
              "if (notebookContainer) {{\n",
              "    x.observe(notebookContainer, {childList: true});\n",
              "}}\n",
              "\n",
              "// Listen for the clearing of the current output cell\n",
              "var outputEl = gd.closest('.output');\n",
              "if (outputEl) {{\n",
              "    x.observe(outputEl, {childList: true});\n",
              "}}\n",
              "\n",
              "                        })                };                            </script>        </div>\n",
              "</body>\n",
              "</html>"
            ]
          },
          "metadata": {}
        }
      ]
    },
    {
      "cell_type": "markdown",
      "source": [
        "These findings support our conclusions. For pitchers, strikeout rate is the only metric with an r-squared value that is not below ~50%, supporting our inference that it is the aspect of the game pitchers have the most control over.\n",
        "\n",
        "The correlation in terms of walk rate from year-to-year is moderately high, while in terms of Power Factor, it is weaker and for batting average, it is nearly zero.\n",
        "\n",
        "For each of these metrics, the year-to-year correlation was higher for hitters. This is further support for the notion that offenses have multiple avenues for sustained success; based on these results, we would be more confident in a hitter sustaining a high Power Factor from one year to the next than a pitcher supressing opponent's power hitting.\n",
        "\n",
        "These findings are generally in line with existing research, including that by [Russell Carleton and Derek Carty at *Baseball Prospectus*](https://www.baseballprospectus.com/fantasy/article/14215/resident-fantasy-genius-when-hitters-stats-stabilize/) and [Ben Clemens at FanGraphs](https://blogs.fangraphs.com/one-last-refresher-on-strikeouts-and-walks/).\n"
      ],
      "metadata": {
        "id": "9ItWeubc7DV4"
      }
    },
    {
      "cell_type": "markdown",
      "source": [
        "# Conclusions"
      ],
      "metadata": {
        "id": "cMW1MDwy-aJl"
      }
    },
    {
      "cell_type": "markdown",
      "source": [
        "* The Major League Baseball strikeout rate has more than doubled over the past century, and, save for brief dips, it has risen consistently.\n",
        "\n",
        "* That said, while the strikeout rate has increased by over 140% since 1914, scoring has also increased in this span (by 18%), even though strikeouts are a negative event for offenses.\n",
        "\n",
        "* **Strikeouts are not good for hitters, obviously but they seem to hurt offenses to a lesser degree than they help pitchers.**\n",
        "\n",
        "* This seems to stem from the fact that pitchers have a deal of control over strikeouts, but less control over things like turning balls in play into hits and supressing power hitting.\n",
        "\n",
        "* Hitters' results are more consistent from one year to the next, and together, these findings support the idea that the hitter has more say over the results of batted balls.\n",
        "\n",
        "* Since pitchers appear able to sustain high strikeout rates but have limited control over what happens once the ball is hit, pitchers' most reliable means of success seems to be preventing contact in the first place.\n",
        "\n",
        "* **Teams should prioritize acquiring pitchers who are skilled at striking batters out, while they should not overlook batters who post high strikeout rates.**\n",
        " "
      ],
      "metadata": {
        "id": "T6ORIIIt-eKa"
      }
    },
    {
      "cell_type": "markdown",
      "source": [
        "# Sources"
      ],
      "metadata": {
        "id": "PeK0B8taFeDm"
      }
    },
    {
      "cell_type": "markdown",
      "source": [
        "\n",
        "\n",
        "*   [Retrosheet](https://www.retrosheet.org/)\n",
        "*   [Baseball Reference](https://www.baseball-reference.com/)\n",
        "*   [FanGraphs](https://www.fangraphs.com/)\n",
        "*   [PyBaseball](https://github.com/jldbc/pybaseball)\n",
        "\n",
        "\n",
        "\n",
        "\n",
        "\n",
        "\n",
        "\n",
        "\n"
      ],
      "metadata": {
        "id": "qQz2hZDyFfqh"
      }
    },
    {
      "cell_type": "markdown",
      "source": [
        "# Further Reading\n"
      ],
      "metadata": {
        "id": "5899apahLpi3"
      }
    },
    {
      "cell_type": "markdown",
      "source": [
        "*   [How can strikeouts be great for pitchers, but not that bad for hitters?](https://www.beyondtheboxscore.com/2013/4/1/4165664/how-can-strikeouts-be-great-for-pitchers-but-not-that-bad-for-hitters), James Gentile, *Beyond the Box Score*\n",
        "*   [For Your Enjoyment, a Home Run Rate Refresher](https://blogs.fangraphs.com/for-your-enjoyment-a-home-run-rate-refresher/), Ben Clemens, *FanGraphs*\n",
        "*   [One Last Refresher (On Strikeouts and Walks)](https://blogs.fangraphs.com/one-last-refresher-on-strikeouts-and-walks/), Ben Clemens, *FanGraphs*\n",
        "*   [A Baseball’s Exit Velocity Is Five Parts Hitter, One Part Pitcher](https://fivethirtyeight.com/features/a-baseballs-exit-velocity-is-five-parts-hitter-one-part-pitcher/), Rob Arthur, *FiveThirtyEight*\n",
        "*   [Resident Fantasy Genius: When Hitters’ Stats Stabilize](https://www.baseballprospectus.com/fantasy/article/14215/resident-fantasy-genius-when-hitters-stats-stabilize/), Derek Carty, *Baseball Prospectus*\n",
        "*   [Resident Fantasy Genius: When Pitchers’ Stats Stabilize](https://www.baseballprospectus.com/fantasy/article/14293/resident-fantasy-genius-when-pitchers-stats-stabilize/), Derek Carty, *Baseball Prospectus*\n",
        "\n",
        "\n",
        "\n",
        "\n"
      ],
      "metadata": {
        "id": "RL175pw1GbdH"
      }
    }
  ]
}